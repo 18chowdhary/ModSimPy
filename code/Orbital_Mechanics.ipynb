{
 "cells": [
  {
   "cell_type": "markdown",
   "metadata": {},
   "source": [
    "## Orbital Mechanics \n",
    "### Shreya Chowdhary - Studio 1"
   ]
  },
  {
   "cell_type": "code",
   "execution_count": 1,
   "metadata": {},
   "outputs": [],
   "source": [
    "# Configure Jupyter so figures appear in the notebook\n",
    "%matplotlib inline\n",
    "\n",
    "# Configure Jupyter to display the assigned value after an assignment\n",
    "%config InteractiveShell.ast_node_interactivity='last_expr_or_assign'\n",
    "\n",
    "# import functions from the modsim.py module\n",
    "from modsim import *"
   ]
  },
  {
   "cell_type": "code",
   "execution_count": 2,
   "metadata": {},
   "outputs": [
    {
     "data": {
      "text/html": [
       "newton"
      ],
      "text/latex": [
       "$newton$"
      ],
      "text/plain": [
       "<Unit('newton')>"
      ]
     },
     "execution_count": 2,
     "metadata": {},
     "output_type": "execute_result"
    }
   ],
   "source": [
    "m = UNITS.meter\n",
    "s = UNITS.second\n",
    "kg = UNITS.kilogram\n",
    "N = UNITS.newton"
   ]
  },
  {
   "cell_type": "code",
   "execution_count": 15,
   "metadata": {},
   "outputs": [],
   "source": [
    "# Important constants \n",
    "G = 6.67408e-11 * N/(kg**2 * m**2)\n",
    "E_mass = 5.972e24 * kg\n",
    "S_mass = 1.989e30 * kg\n",
    "\n",
    "# Initial state\n",
    "init = State(x = 0 * m, y = 149.6e9 * m, \n",
    "                 v_x = 30330 * m/s, v_y = 0 * m/s)\n",
    "\n",
    "def make_system(G, E_mass, S_mass, init):\n",
    "    system = System(init = init, \n",
    "                   G = G, \n",
    "                   mE = E_mass,\n",
    "                   mS = S_mass, \n",
    "                   r_final = 7018979000*m, \n",
    "                   t_0 = 0 * s, \n",
    "                   t_end = 34e6 * s)\n",
    "    return system"
   ]
  },
  {
   "cell_type": "code",
   "execution_count": 17,
   "metadata": {},
   "outputs": [
    {
     "data": {
      "text/html": [
       "<div>\n",
       "<style scoped>\n",
       "    .dataframe tbody tr th:only-of-type {\n",
       "        vertical-align: middle;\n",
       "    }\n",
       "\n",
       "    .dataframe tbody tr th {\n",
       "        vertical-align: top;\n",
       "    }\n",
       "\n",
       "    .dataframe thead th {\n",
       "        text-align: right;\n",
       "    }\n",
       "</style>\n",
       "<table border=\"1\" class=\"dataframe\">\n",
       "  <thead>\n",
       "    <tr style=\"text-align: right;\">\n",
       "      <th></th>\n",
       "      <th>values</th>\n",
       "    </tr>\n",
       "  </thead>\n",
       "  <tbody>\n",
       "    <tr>\n",
       "      <th>init</th>\n",
       "      <td>x                     0 meter\n",
       "y        1496000...</td>\n",
       "    </tr>\n",
       "    <tr>\n",
       "      <th>G</th>\n",
       "      <td>6.67408e-11 newton / kilogram ** 2 / meter ** 2</td>\n",
       "    </tr>\n",
       "    <tr>\n",
       "      <th>mE</th>\n",
       "      <td>5.972e+24 kilogram</td>\n",
       "    </tr>\n",
       "    <tr>\n",
       "      <th>mS</th>\n",
       "      <td>1.989e+30 kilogram</td>\n",
       "    </tr>\n",
       "    <tr>\n",
       "      <th>r_final</th>\n",
       "      <td>7018979000 meter</td>\n",
       "    </tr>\n",
       "    <tr>\n",
       "      <th>t_0</th>\n",
       "      <td>0 second</td>\n",
       "    </tr>\n",
       "    <tr>\n",
       "      <th>t_end</th>\n",
       "      <td>34000000.0 second</td>\n",
       "    </tr>\n",
       "  </tbody>\n",
       "</table>\n",
       "</div>"
      ],
      "text/plain": [
       "init       x                     0 meter\n",
       "y        1496000...\n",
       "G            6.67408e-11 newton / kilogram ** 2 / meter ** 2\n",
       "mE                                        5.972e+24 kilogram\n",
       "mS                                        1.989e+30 kilogram\n",
       "r_final                                     7018979000 meter\n",
       "t_0                                                 0 second\n",
       "t_end                                      34000000.0 second\n",
       "dtype: object"
      ]
     },
     "execution_count": 17,
     "metadata": {},
     "output_type": "execute_result"
    }
   ],
   "source": [
    "system = make_system(G, E_mass, S_mass, init)"
   ]
  },
  {
   "cell_type": "code",
   "execution_count": 18,
   "metadata": {},
   "outputs": [],
   "source": [
    "def grav_force(state, system):\n",
    "    unpack(system)\n",
    "    x, y, v_x, v_y = state\n",
    "    position = Vector(x, y)\n",
    "    \n",
    "    # Use Newton's Law of Universal Gravitation \n",
    "    # to calculate the magnitude of the force\n",
    "    F_magnitude = ((G*mE*mS)/(position.mag**2))/mE\n",
    "    \n",
    "    # Create the vector for force\n",
    "    # in the opposite direction as the position vector\n",
    "    Fx, Fy = pol2cart(position.angle, F_magnitude)\n",
    "    F = Vector(Fx*(-1), Fy*(-1))\n",
    "    \n",
    "    return F"
   ]
  },
  {
   "cell_type": "code",
   "execution_count": 20,
   "metadata": {},
   "outputs": [
    {
     "data": {
      "text/html": [
       "[-3.63198344e-19 -5.93147910e-03] newton/(kilogram meter<sup>4</sup>)"
      ],
      "text/latex": [
       "$[-3.63198344e-19 -5.93147910e-03] \\frac{newton}{\\left(kilogram \\cdot meter^{4}\\right)}$"
      ],
      "text/plain": [
       "<Quantity([-3.63198344e-19 -5.93147910e-03], 'newton / kilogram / meter ** 4')>"
      ]
     },
     "execution_count": 20,
     "metadata": {},
     "output_type": "execute_result"
    }
   ],
   "source": [
    "# Testing grav_force func \n",
    "grav = grav_force(init, system)"
   ]
  },
  {
   "cell_type": "code",
   "execution_count": 21,
   "metadata": {},
   "outputs": [],
   "source": [
    "def event_func(state, t, system):\n",
    "    ''' \n",
    "    Informs us when the Earth has completed its orbit around the Sun\n",
    "    '''\n",
    "    x, y, v_x, v_y = state\n",
    "    position = Vector(x, y)\n",
    "    return position.mag - system.r_final"
   ]
  },
  {
   "cell_type": "code",
   "execution_count": 22,
   "metadata": {},
   "outputs": [],
   "source": [
    "def slope_func(state, t, system):\n",
    "    '''\n",
    "    Calculates the change in position and velocity\n",
    "    '''\n",
    "    unpack(system)\n",
    "    x, y, v_x, v_y = state \n",
    "    grav = grav_force(state, system)\n",
    "    \n",
    "    Fx = grav.x \n",
    "    Fy = grav.y \n",
    "    \n",
    "    dxdt = v_x\n",
    "    dydt = v_y\n",
    "    dv_xdt = Fx\n",
    "    dv_ydt = Fy\n",
    "    \n",
    "    return dxdt, dydt, dv_xdt, dv_ydt"
   ]
  },
  {
   "cell_type": "code",
   "execution_count": 27,
   "metadata": {},
   "outputs": [
    {
     "data": {
      "text/plain": [
       "(<Quantity(30330.0, 'meter / second')>,\n",
       " <Quantity(0.0, 'meter / second')>,\n",
       " <Quantity(-3.6319834444224144e-19, 'newton / kilogram / meter ** 4')>,\n",
       " <Quantity(-0.00593147909577054, 'newton / kilogram / meter ** 4')>)"
      ]
     },
     "execution_count": 27,
     "metadata": {},
     "output_type": "execute_result"
    }
   ],
   "source": [
    "# Testing the slope function\n",
    "slope_func(init, 0, system)"
   ]
  },
  {
   "cell_type": "code",
   "execution_count": 28,
   "metadata": {},
   "outputs": [],
   "source": [
    "results, details = run_ode_solver(system, slope_func, events=event_func, method=\"RK23\")"
   ]
  },
  {
   "cell_type": "code",
   "execution_count": 29,
   "metadata": {},
   "outputs": [
    {
     "data": {
      "image/png": "[encoded data removed]",
      "text/plain": [
       "<Figure size 432x288 with 1 Axes>"
      ]
     },
     "metadata": {
      "needs_background": "light"
     },
     "output_type": "display_data"
    }
   ],
   "source": [
    "plot(results.x, results.y)\n",
    "decorate(title=\"Trajectory of Earth around the Sun\", \n",
    "        xlabel=\"x position (m)\", \n",
    "        ylabel=\"y position (m)\")"
   ]
  },
  {
   "cell_type": "code",
   "execution_count": null,
   "metadata": {},
   "outputs": [],
   "source": []
  }
 ],
 "metadata": {
  "kernelspec": {
   "display_name": "Python 3",
   "language": "python",
   "name": "python3"
  },
  "language_info": {
   "codemirror_mode": {
    "name": "ipython",
    "version": 3
   },
   "file_extension": ".py",
   "mimetype": "text/x-python",
   "name": "python",
   "nbconvert_exporter": "python",
   "pygments_lexer": "ipython3",
   "version": "3.6.6"
  }
 },
 "nbformat": 4,
 "nbformat_minor": 2
}
