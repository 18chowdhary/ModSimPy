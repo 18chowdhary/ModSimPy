{
 "metadata": {
  "kernelspec": {
   "display_name": "Python 3",
   "language": "python",
   "name": "python3"
  },
  "language_info": {
   "codemirror_mode": {
    "name": "ipython",
    "version": 3
   },
   "file_extension": ".py",
   "mimetype": "text/x-python",
   "name": "python",
   "nbconvert_exporter": "python",
   "pygments_lexer": "ipython3",
   "version": "3.5.1"
  },
  "name": ""
 },
 "nbformat": 3,
 "nbformat_minor": 0,
 "worksheets": [
  {
   "cells": [
    {
     "cell_type": "markdown",
     "metadata": {},
     "source": [
      "# Modeling and Simulation in Python\n",
      "\n",
      "Chapter 3: Explain\n",
      "\n",
      "Copyright 2017 Allen Downey\n",
      "\n",
      "License: [Creative Commons Attribution 4.0 International](https://creativecommons.org/licenses/by/4.0)\n"
     ]
    },
    {
     "cell_type": "markdown",
     "metadata": {},
     "source": [
      "We'll start with the same code we saw last time: the magic command that tells Jupyter where to put the figures, and the import statement that gets the function defined in the `modsim` module."
     ]
    },
    {
     "cell_type": "code",
     "collapsed": false,
     "input": [
      "# If you want the figures to appear in the notebook, use\n",
      "# %matplotlib notebook\n",
      "\n",
      "# If you want the figures to appear in separate windows, use\n",
      "# %matplotlib qt\n",
      "\n",
      "# To switch from one to another, you have to select Kernel->Restart\n",
      "\n",
      "%matplotlib inline\n",
      "\n",
      "from modsim import *"
     ],
     "language": "python",
     "metadata": {},
     "outputs": [],
     "prompt_number": 1
    },
    {
     "cell_type": "markdown",
     "metadata": {},
     "source": [
      "Pandas is a module that provides tools for reading and processing data.  The `read_html` reads a web page from a file or the Internet and creates one DataFrame for each table on the page."
     ]
    },
    {
     "cell_type": "code",
     "collapsed": true,
     "input": [
      "from pandas import read_html"
     ],
     "language": "python",
     "metadata": {},
     "outputs": [],
     "prompt_number": 2
    },
    {
     "cell_type": "markdown",
     "metadata": {},
     "source": [
      "The data directory contains a downloaded copy of https://en.wikipedia.org/wiki/World_population_estimates"
     ]
    },
    {
     "cell_type": "code",
     "collapsed": false,
     "input": [
      "filename = 'data/World_population_estimates.html'\n",
      "tables = read_html(filename, header=0, index_col=0, decimal='M')"
     ],
     "language": "python",
     "metadata": {},
     "outputs": [],
     "prompt_number": 3
    },
    {
     "cell_type": "markdown",
     "metadata": {},
     "source": [
      "`tables` is a sequence of DataFrame objects.  We can select the DataFrame we want using the bracket operator.  The tables are numbered from 0, so `table2` is actually the third table on the page.\n",
      "\n",
      "`head` selects the header and the first five rows."
     ]
    },
    {
     "cell_type": "code",
     "collapsed": false,
     "input": [
      "table2 = tables[2]\n",
      "table2.head()"
     ],
     "language": "python",
     "metadata": {
      "scrolled": true
     },
     "outputs": [
      {
       "html": [
        "<div>\n",
        "<style>\n",
        "    .dataframe thead tr:only-child th {\n",
        "        text-align: right;\n",
        "    }\n",
        "\n",
        "    .dataframe thead th {\n",
        "        text-align: left;\n",
        "    }\n",
        "\n",
        "    .dataframe tbody tr th {\n",
        "        vertical-align: top;\n",
        "    }\n",
        "</style>\n",
        "<table border=\"1\" class=\"dataframe\">\n",
        "  <thead>\n",
        "    <tr style=\"text-align: right;\">\n",
        "      <th></th>\n",
        "      <th>United States Census Bureau (2015)[18]</th>\n",
        "      <th>Population Reference Bureau (1973\u20132015)[6]</th>\n",
        "      <th>United Nations Department of Economic and Social Affairs (2015)[7]</th>\n",
        "      <th>Maddison (2008)[8]</th>\n",
        "      <th>HYDE (2007)[15]</th>\n",
        "      <th>Tanton (1994)[9]</th>\n",
        "      <th>Biraben (1980)[10]</th>\n",
        "      <th>McEvedy &amp; Jones (1978)[11]</th>\n",
        "      <th>Thomlinson (1975)[12]</th>\n",
        "      <th>Durand (1974)[13]</th>\n",
        "      <th>Clark (1967)[14]</th>\n",
        "    </tr>\n",
        "    <tr>\n",
        "      <th>Year</th>\n",
        "      <th></th>\n",
        "      <th></th>\n",
        "      <th></th>\n",
        "      <th></th>\n",
        "      <th></th>\n",
        "      <th></th>\n",
        "      <th></th>\n",
        "      <th></th>\n",
        "      <th></th>\n",
        "      <th></th>\n",
        "      <th></th>\n",
        "    </tr>\n",
        "  </thead>\n",
        "  <tbody>\n",
        "    <tr>\n",
        "      <th>1950</th>\n",
        "      <td>2557628654</td>\n",
        "      <td>2.516000e+09</td>\n",
        "      <td>2525149000</td>\n",
        "      <td>2.544000e+09</td>\n",
        "      <td>2.527960e+09</td>\n",
        "      <td>2.400000e+09</td>\n",
        "      <td>2.527000e+09</td>\n",
        "      <td>2.500000e+09</td>\n",
        "      <td>2.400000e+09</td>\n",
        "      <td>NaN</td>\n",
        "      <td>2.486000e+09</td>\n",
        "    </tr>\n",
        "    <tr>\n",
        "      <th>1951</th>\n",
        "      <td>2594939877</td>\n",
        "      <td>NaN</td>\n",
        "      <td>2572850917</td>\n",
        "      <td>2.571663e+09</td>\n",
        "      <td>NaN</td>\n",
        "      <td>NaN</td>\n",
        "      <td>NaN</td>\n",
        "      <td>NaN</td>\n",
        "      <td>NaN</td>\n",
        "      <td>NaN</td>\n",
        "      <td>NaN</td>\n",
        "    </tr>\n",
        "    <tr>\n",
        "      <th>1952</th>\n",
        "      <td>2636772306</td>\n",
        "      <td>NaN</td>\n",
        "      <td>2619292068</td>\n",
        "      <td>2.617949e+09</td>\n",
        "      <td>NaN</td>\n",
        "      <td>NaN</td>\n",
        "      <td>NaN</td>\n",
        "      <td>NaN</td>\n",
        "      <td>NaN</td>\n",
        "      <td>NaN</td>\n",
        "      <td>NaN</td>\n",
        "    </tr>\n",
        "    <tr>\n",
        "      <th>1953</th>\n",
        "      <td>2682053389</td>\n",
        "      <td>NaN</td>\n",
        "      <td>2665865392</td>\n",
        "      <td>2.665959e+09</td>\n",
        "      <td>NaN</td>\n",
        "      <td>NaN</td>\n",
        "      <td>NaN</td>\n",
        "      <td>NaN</td>\n",
        "      <td>NaN</td>\n",
        "      <td>NaN</td>\n",
        "      <td>NaN</td>\n",
        "    </tr>\n",
        "    <tr>\n",
        "      <th>1954</th>\n",
        "      <td>2730228104</td>\n",
        "      <td>NaN</td>\n",
        "      <td>2713172027</td>\n",
        "      <td>2.716927e+09</td>\n",
        "      <td>NaN</td>\n",
        "      <td>NaN</td>\n",
        "      <td>NaN</td>\n",
        "      <td>NaN</td>\n",
        "      <td>NaN</td>\n",
        "      <td>NaN</td>\n",
        "      <td>NaN</td>\n",
        "    </tr>\n",
        "  </tbody>\n",
        "</table>\n",
        "</div>"
       ],
       "metadata": {},
       "output_type": "pyout",
       "prompt_number": 4,
       "text": [
        "      United States Census Bureau (2015)[18]  \\\n",
        "Year                                           \n",
        "1950                              2557628654   \n",
        "1951                              2594939877   \n",
        "1952                              2636772306   \n",
        "1953                              2682053389   \n",
        "1954                              2730228104   \n",
        "\n",
        "      Population Reference Bureau (1973\u20132015)[6]  \\\n",
        "Year                                               \n",
        "1950                                2.516000e+09   \n",
        "1951                                         NaN   \n",
        "1952                                         NaN   \n",
        "1953                                         NaN   \n",
        "1954                                         NaN   \n",
        "\n",
        "      United Nations Department of Economic and Social Affairs (2015)[7]  \\\n",
        "Year                                                                       \n",
        "1950                                         2525149000                    \n",
        "1951                                         2572850917                    \n",
        "1952                                         2619292068                    \n",
        "1953                                         2665865392                    \n",
        "1954                                         2713172027                    \n",
        "\n",
        "      Maddison (2008)[8]  HYDE (2007)[15]  Tanton (1994)[9]  \\\n",
        "Year                                                          \n",
        "1950        2.544000e+09     2.527960e+09      2.400000e+09   \n",
        "1951        2.571663e+09              NaN               NaN   \n",
        "1952        2.617949e+09              NaN               NaN   \n",
        "1953        2.665959e+09              NaN               NaN   \n",
        "1954        2.716927e+09              NaN               NaN   \n",
        "\n",
        "      Biraben (1980)[10]  McEvedy & Jones (1978)[11]  Thomlinson (1975)[12]  \\\n",
        "Year                                                                          \n",
        "1950        2.527000e+09                2.500000e+09           2.400000e+09   \n",
        "1951                 NaN                         NaN                    NaN   \n",
        "1952                 NaN                         NaN                    NaN   \n",
        "1953                 NaN                         NaN                    NaN   \n",
        "1954                 NaN                         NaN                    NaN   \n",
        "\n",
        "     Durand (1974)[13]  Clark (1967)[14]  \n",
        "Year                                      \n",
        "1950               NaN      2.486000e+09  \n",
        "1951               NaN               NaN  \n",
        "1952               NaN               NaN  \n",
        "1953               NaN               NaN  \n",
        "1954               NaN               NaN  "
       ]
      }
     ],
     "prompt_number": 4
    },
    {
     "cell_type": "markdown",
     "metadata": {},
     "source": [
      "`tail` selects the last five rows."
     ]
    },
    {
     "cell_type": "code",
     "collapsed": false,
     "input": [
      "table2.tail()"
     ],
     "language": "python",
     "metadata": {
      "scrolled": true
     },
     "outputs": [
      {
       "html": [
        "<div>\n",
        "<style>\n",
        "    .dataframe thead tr:only-child th {\n",
        "        text-align: right;\n",
        "    }\n",
        "\n",
        "    .dataframe thead th {\n",
        "        text-align: left;\n",
        "    }\n",
        "\n",
        "    .dataframe tbody tr th {\n",
        "        vertical-align: top;\n",
        "    }\n",
        "</style>\n",
        "<table border=\"1\" class=\"dataframe\">\n",
        "  <thead>\n",
        "    <tr style=\"text-align: right;\">\n",
        "      <th></th>\n",
        "      <th>United States Census Bureau (2015)[18]</th>\n",
        "      <th>Population Reference Bureau (1973\u20132015)[6]</th>\n",
        "      <th>United Nations Department of Economic and Social Affairs (2015)[7]</th>\n",
        "      <th>Maddison (2008)[8]</th>\n",
        "      <th>HYDE (2007)[15]</th>\n",
        "      <th>Tanton (1994)[9]</th>\n",
        "      <th>Biraben (1980)[10]</th>\n",
        "      <th>McEvedy &amp; Jones (1978)[11]</th>\n",
        "      <th>Thomlinson (1975)[12]</th>\n",
        "      <th>Durand (1974)[13]</th>\n",
        "      <th>Clark (1967)[14]</th>\n",
        "    </tr>\n",
        "    <tr>\n",
        "      <th>Year</th>\n",
        "      <th></th>\n",
        "      <th></th>\n",
        "      <th></th>\n",
        "      <th></th>\n",
        "      <th></th>\n",
        "      <th></th>\n",
        "      <th></th>\n",
        "      <th></th>\n",
        "      <th></th>\n",
        "      <th></th>\n",
        "      <th></th>\n",
        "    </tr>\n",
        "  </thead>\n",
        "  <tbody>\n",
        "    <tr>\n",
        "      <th>2011</th>\n",
        "      <td>6944055583</td>\n",
        "      <td>6.986951e+09</td>\n",
        "      <td>6997998760</td>\n",
        "      <td>NaN</td>\n",
        "      <td>NaN</td>\n",
        "      <td>NaN</td>\n",
        "      <td>NaN</td>\n",
        "      <td>NaN</td>\n",
        "      <td>NaN</td>\n",
        "      <td>NaN</td>\n",
        "      <td>NaN</td>\n",
        "    </tr>\n",
        "    <tr>\n",
        "      <th>2012</th>\n",
        "      <td>7022349283</td>\n",
        "      <td>7.057075e+09</td>\n",
        "      <td>7080072417</td>\n",
        "      <td>NaN</td>\n",
        "      <td>NaN</td>\n",
        "      <td>NaN</td>\n",
        "      <td>NaN</td>\n",
        "      <td>NaN</td>\n",
        "      <td>NaN</td>\n",
        "      <td>NaN</td>\n",
        "      <td>NaN</td>\n",
        "    </tr>\n",
        "    <tr>\n",
        "      <th>2013</th>\n",
        "      <td>7101027895</td>\n",
        "      <td>7.136796e+09</td>\n",
        "      <td>7162119434</td>\n",
        "      <td>NaN</td>\n",
        "      <td>NaN</td>\n",
        "      <td>NaN</td>\n",
        "      <td>NaN</td>\n",
        "      <td>NaN</td>\n",
        "      <td>NaN</td>\n",
        "      <td>NaN</td>\n",
        "      <td>NaN</td>\n",
        "    </tr>\n",
        "    <tr>\n",
        "      <th>2014</th>\n",
        "      <td>7178722893</td>\n",
        "      <td>7.238184e+09</td>\n",
        "      <td>7243784000</td>\n",
        "      <td>NaN</td>\n",
        "      <td>NaN</td>\n",
        "      <td>NaN</td>\n",
        "      <td>NaN</td>\n",
        "      <td>NaN</td>\n",
        "      <td>NaN</td>\n",
        "      <td>NaN</td>\n",
        "      <td>NaN</td>\n",
        "    </tr>\n",
        "    <tr>\n",
        "      <th>2015</th>\n",
        "      <td>7256490011</td>\n",
        "      <td>7.336435e+09</td>\n",
        "      <td>7349472000</td>\n",
        "      <td>NaN</td>\n",
        "      <td>NaN</td>\n",
        "      <td>NaN</td>\n",
        "      <td>NaN</td>\n",
        "      <td>NaN</td>\n",
        "      <td>NaN</td>\n",
        "      <td>NaN</td>\n",
        "      <td>NaN</td>\n",
        "    </tr>\n",
        "  </tbody>\n",
        "</table>\n",
        "</div>"
       ],
       "metadata": {},
       "output_type": "pyout",
       "prompt_number": 5,
       "text": [
        "      United States Census Bureau (2015)[18]  \\\n",
        "Year                                           \n",
        "2011                              6944055583   \n",
        "2012                              7022349283   \n",
        "2013                              7101027895   \n",
        "2014                              7178722893   \n",
        "2015                              7256490011   \n",
        "\n",
        "      Population Reference Bureau (1973\u20132015)[6]  \\\n",
        "Year                                               \n",
        "2011                                6.986951e+09   \n",
        "2012                                7.057075e+09   \n",
        "2013                                7.136796e+09   \n",
        "2014                                7.238184e+09   \n",
        "2015                                7.336435e+09   \n",
        "\n",
        "      United Nations Department of Economic and Social Affairs (2015)[7]  \\\n",
        "Year                                                                       \n",
        "2011                                         6997998760                    \n",
        "2012                                         7080072417                    \n",
        "2013                                         7162119434                    \n",
        "2014                                         7243784000                    \n",
        "2015                                         7349472000                    \n",
        "\n",
        "      Maddison (2008)[8]  HYDE (2007)[15]  Tanton (1994)[9]  \\\n",
        "Year                                                          \n",
        "2011                 NaN              NaN               NaN   \n",
        "2012                 NaN              NaN               NaN   \n",
        "2013                 NaN              NaN               NaN   \n",
        "2014                 NaN              NaN               NaN   \n",
        "2015                 NaN              NaN               NaN   \n",
        "\n",
        "      Biraben (1980)[10]  McEvedy & Jones (1978)[11]  Thomlinson (1975)[12]  \\\n",
        "Year                                                                          \n",
        "2011                 NaN                         NaN                    NaN   \n",
        "2012                 NaN                         NaN                    NaN   \n",
        "2013                 NaN                         NaN                    NaN   \n",
        "2014                 NaN                         NaN                    NaN   \n",
        "2015                 NaN                         NaN                    NaN   \n",
        "\n",
        "     Durand (1974)[13]  Clark (1967)[14]  \n",
        "Year                                      \n",
        "2011               NaN               NaN  \n",
        "2012               NaN               NaN  \n",
        "2013               NaN               NaN  \n",
        "2014               NaN               NaN  \n",
        "2015               NaN               NaN  "
       ]
      }
     ],
     "prompt_number": 5
    },
    {
     "cell_type": "markdown",
     "metadata": {},
     "source": [
      "Long column names are awkard to work with, but we can replace them with abbreviated names."
     ]
    },
    {
     "cell_type": "code",
     "collapsed": false,
     "input": [
      "table2.columns = ['census', 'prb', 'un', 'maddison', \n",
      "                  'hyde', 'tanton', 'biraben', 'mj', \n",
      "                  'thomlinson', 'durand', 'clark']"
     ],
     "language": "python",
     "metadata": {},
     "outputs": [],
     "prompt_number": 6
    },
    {
     "cell_type": "markdown",
     "metadata": {},
     "source": [
      "Here's what the DataFrame looks like now.  \n",
      "\n",
      "Some of the values use scientific notation; for example, `2.544000e+09` is shorthand for $2.544 \\cdot 10^9$ or 2.544 billion.\n",
      "\n",
      "`NaN` is a special value that indicates missing data."
     ]
    },
    {
     "cell_type": "code",
     "collapsed": false,
     "input": [
      "table2"
     ],
     "language": "python",
     "metadata": {},
     "outputs": [
      {
       "html": [
        "<div>\n",
        "<style>\n",
        "    .dataframe thead tr:only-child th {\n",
        "        text-align: right;\n",
        "    }\n",
        "\n",
        "    .dataframe thead th {\n",
        "        text-align: left;\n",
        "    }\n",
        "\n",
        "    .dataframe tbody tr th {\n",
        "        vertical-align: top;\n",
        "    }\n",
        "</style>\n",
        "<table border=\"1\" class=\"dataframe\">\n",
        "  <thead>\n",
        "    <tr style=\"text-align: right;\">\n",
        "      <th></th>\n",
        "      <th>census</th>\n",
        "      <th>prb</th>\n",
        "      <th>un</th>\n",
        "      <th>maddison</th>\n",
        "      <th>hyde</th>\n",
        "      <th>tanton</th>\n",
        "      <th>biraben</th>\n",
        "      <th>mj</th>\n",
        "      <th>thomlinson</th>\n",
        "      <th>durand</th>\n",
        "      <th>clark</th>\n",
        "    </tr>\n",
        "    <tr>\n",
        "      <th>Year</th>\n",
        "      <th></th>\n",
        "      <th></th>\n",
        "      <th></th>\n",
        "      <th></th>\n",
        "      <th></th>\n",
        "      <th></th>\n",
        "      <th></th>\n",
        "      <th></th>\n",
        "      <th></th>\n",
        "      <th></th>\n",
        "      <th></th>\n",
        "    </tr>\n",
        "  </thead>\n",
        "  <tbody>\n",
        "    <tr>\n",
        "      <th>1950</th>\n",
        "      <td>2557628654</td>\n",
        "      <td>2.516000e+09</td>\n",
        "      <td>2525149000</td>\n",
        "      <td>2.544000e+09</td>\n",
        "      <td>2.527960e+09</td>\n",
        "      <td>2.400000e+09</td>\n",
        "      <td>2.527000e+09</td>\n",
        "      <td>2.500000e+09</td>\n",
        "      <td>2.400000e+09</td>\n",
        "      <td>NaN</td>\n",
        "      <td>2.486000e+09</td>\n",
        "    </tr>\n",
        "    <tr>\n",
        "      <th>1951</th>\n",
        "      <td>2594939877</td>\n",
        "      <td>NaN</td>\n",
        "      <td>2572850917</td>\n",
        "      <td>2.571663e+09</td>\n",
        "      <td>NaN</td>\n",
        "      <td>NaN</td>\n",
        "      <td>NaN</td>\n",
        "      <td>NaN</td>\n",
        "      <td>NaN</td>\n",
        "      <td>NaN</td>\n",
        "      <td>NaN</td>\n",
        "    </tr>\n",
        "    <tr>\n",
        "      <th>1952</th>\n",
        "      <td>2636772306</td>\n",
        "      <td>NaN</td>\n",
        "      <td>2619292068</td>\n",
        "      <td>2.617949e+09</td>\n",
        "      <td>NaN</td>\n",
        "      <td>NaN</td>\n",
        "      <td>NaN</td>\n",
        "      <td>NaN</td>\n",
        "      <td>NaN</td>\n",
        "      <td>NaN</td>\n",
        "      <td>NaN</td>\n",
        "    </tr>\n",
        "    <tr>\n",
        "      <th>1953</th>\n",
        "      <td>2682053389</td>\n",
        "      <td>NaN</td>\n",
        "      <td>2665865392</td>\n",
        "      <td>2.665959e+09</td>\n",
        "      <td>NaN</td>\n",
        "      <td>NaN</td>\n",
        "      <td>NaN</td>\n",
        "      <td>NaN</td>\n",
        "      <td>NaN</td>\n",
        "      <td>NaN</td>\n",
        "      <td>NaN</td>\n",
        "    </tr>\n",
        "    <tr>\n",
        "      <th>1954</th>\n",
        "      <td>2730228104</td>\n",
        "      <td>NaN</td>\n",
        "      <td>2713172027</td>\n",
        "      <td>2.716927e+09</td>\n",
        "      <td>NaN</td>\n",
        "      <td>NaN</td>\n",
        "      <td>NaN</td>\n",
        "      <td>NaN</td>\n",
        "      <td>NaN</td>\n",
        "      <td>NaN</td>\n",
        "      <td>NaN</td>\n",
        "    </tr>\n",
        "    <tr>\n",
        "      <th>1955</th>\n",
        "      <td>2782098943</td>\n",
        "      <td>NaN</td>\n",
        "      <td>2761650981</td>\n",
        "      <td>2.769074e+09</td>\n",
        "      <td>NaN</td>\n",
        "      <td>NaN</td>\n",
        "      <td>NaN</td>\n",
        "      <td>NaN</td>\n",
        "      <td>NaN</td>\n",
        "      <td>NaN</td>\n",
        "      <td>NaN</td>\n",
        "    </tr>\n",
        "    <tr>\n",
        "      <th>1956</th>\n",
        "      <td>2835299673</td>\n",
        "      <td>NaN</td>\n",
        "      <td>2811572031</td>\n",
        "      <td>2.822502e+09</td>\n",
        "      <td>NaN</td>\n",
        "      <td>NaN</td>\n",
        "      <td>NaN</td>\n",
        "      <td>NaN</td>\n",
        "      <td>NaN</td>\n",
        "      <td>NaN</td>\n",
        "      <td>NaN</td>\n",
        "    </tr>\n",
        "    <tr>\n",
        "      <th>1957</th>\n",
        "      <td>2891349717</td>\n",
        "      <td>NaN</td>\n",
        "      <td>2863042795</td>\n",
        "      <td>2.879934e+09</td>\n",
        "      <td>NaN</td>\n",
        "      <td>NaN</td>\n",
        "      <td>NaN</td>\n",
        "      <td>NaN</td>\n",
        "      <td>NaN</td>\n",
        "      <td>NaN</td>\n",
        "      <td>NaN</td>\n",
        "    </tr>\n",
        "    <tr>\n",
        "      <th>1958</th>\n",
        "      <td>2948137248</td>\n",
        "      <td>NaN</td>\n",
        "      <td>2916030167</td>\n",
        "      <td>2.939254e+09</td>\n",
        "      <td>NaN</td>\n",
        "      <td>NaN</td>\n",
        "      <td>NaN</td>\n",
        "      <td>NaN</td>\n",
        "      <td>NaN</td>\n",
        "      <td>NaN</td>\n",
        "      <td>NaN</td>\n",
        "    </tr>\n",
        "    <tr>\n",
        "      <th>1959</th>\n",
        "      <td>3000716593</td>\n",
        "      <td>NaN</td>\n",
        "      <td>2970395814</td>\n",
        "      <td>2.995909e+09</td>\n",
        "      <td>NaN</td>\n",
        "      <td>NaN</td>\n",
        "      <td>NaN</td>\n",
        "      <td>NaN</td>\n",
        "      <td>NaN</td>\n",
        "      <td>NaN</td>\n",
        "      <td>NaN</td>\n",
        "    </tr>\n",
        "    <tr>\n",
        "      <th>1960</th>\n",
        "      <td>3043001508</td>\n",
        "      <td>NaN</td>\n",
        "      <td>3026002942</td>\n",
        "      <td>3.041507e+09</td>\n",
        "      <td>3.042000e+09</td>\n",
        "      <td>NaN</td>\n",
        "      <td>NaN</td>\n",
        "      <td>NaN</td>\n",
        "      <td>NaN</td>\n",
        "      <td>NaN</td>\n",
        "      <td>NaN</td>\n",
        "    </tr>\n",
        "    <tr>\n",
        "      <th>1961</th>\n",
        "      <td>3083966929</td>\n",
        "      <td>NaN</td>\n",
        "      <td>3082830266</td>\n",
        "      <td>3.082161e+09</td>\n",
        "      <td>NaN</td>\n",
        "      <td>NaN</td>\n",
        "      <td>NaN</td>\n",
        "      <td>NaN</td>\n",
        "      <td>NaN</td>\n",
        "      <td>NaN</td>\n",
        "      <td>NaN</td>\n",
        "    </tr>\n",
        "    <tr>\n",
        "      <th>1962</th>\n",
        "      <td>3140093217</td>\n",
        "      <td>NaN</td>\n",
        "      <td>3141071531</td>\n",
        "      <td>3.135787e+09</td>\n",
        "      <td>NaN</td>\n",
        "      <td>NaN</td>\n",
        "      <td>NaN</td>\n",
        "      <td>NaN</td>\n",
        "      <td>NaN</td>\n",
        "      <td>NaN</td>\n",
        "      <td>3.036000e+09</td>\n",
        "    </tr>\n",
        "    <tr>\n",
        "      <th>1963</th>\n",
        "      <td>3209827882</td>\n",
        "      <td>NaN</td>\n",
        "      <td>3201178277</td>\n",
        "      <td>3.201354e+09</td>\n",
        "      <td>NaN</td>\n",
        "      <td>NaN</td>\n",
        "      <td>NaN</td>\n",
        "      <td>NaN</td>\n",
        "      <td>NaN</td>\n",
        "      <td>NaN</td>\n",
        "      <td>NaN</td>\n",
        "    </tr>\n",
        "    <tr>\n",
        "      <th>1964</th>\n",
        "      <td>3281201306</td>\n",
        "      <td>NaN</td>\n",
        "      <td>3263738832</td>\n",
        "      <td>3.266477e+09</td>\n",
        "      <td>NaN</td>\n",
        "      <td>NaN</td>\n",
        "      <td>NaN</td>\n",
        "      <td>NaN</td>\n",
        "      <td>NaN</td>\n",
        "      <td>NaN</td>\n",
        "      <td>NaN</td>\n",
        "    </tr>\n",
        "    <tr>\n",
        "      <th>1965</th>\n",
        "      <td>3350425793</td>\n",
        "      <td>NaN</td>\n",
        "      <td>3329122479</td>\n",
        "      <td>3.333138e+09</td>\n",
        "      <td>NaN</td>\n",
        "      <td>NaN</td>\n",
        "      <td>NaN</td>\n",
        "      <td>NaN</td>\n",
        "      <td>NaN</td>\n",
        "      <td>NaN</td>\n",
        "      <td>NaN</td>\n",
        "    </tr>\n",
        "    <tr>\n",
        "      <th>1966</th>\n",
        "      <td>3420677923</td>\n",
        "      <td>NaN</td>\n",
        "      <td>3397475247</td>\n",
        "      <td>3.402224e+09</td>\n",
        "      <td>NaN</td>\n",
        "      <td>NaN</td>\n",
        "      <td>NaN</td>\n",
        "      <td>NaN</td>\n",
        "      <td>NaN</td>\n",
        "      <td>NaN</td>\n",
        "      <td>3.288000e+09</td>\n",
        "    </tr>\n",
        "    <tr>\n",
        "      <th>1967</th>\n",
        "      <td>3490333715</td>\n",
        "      <td>NaN</td>\n",
        "      <td>3468521724</td>\n",
        "      <td>3.471464e+09</td>\n",
        "      <td>NaN</td>\n",
        "      <td>NaN</td>\n",
        "      <td>NaN</td>\n",
        "      <td>NaN</td>\n",
        "      <td>NaN</td>\n",
        "      <td>NaN</td>\n",
        "      <td>NaN</td>\n",
        "    </tr>\n",
        "    <tr>\n",
        "      <th>1968</th>\n",
        "      <td>3562313822</td>\n",
        "      <td>NaN</td>\n",
        "      <td>3541674891</td>\n",
        "      <td>3.543086e+09</td>\n",
        "      <td>NaN</td>\n",
        "      <td>NaN</td>\n",
        "      <td>NaN</td>\n",
        "      <td>NaN</td>\n",
        "      <td>NaN</td>\n",
        "      <td>NaN</td>\n",
        "      <td>NaN</td>\n",
        "    </tr>\n",
        "    <tr>\n",
        "      <th>1969</th>\n",
        "      <td>3637159050</td>\n",
        "      <td>NaN</td>\n",
        "      <td>3616108749</td>\n",
        "      <td>3.615743e+09</td>\n",
        "      <td>NaN</td>\n",
        "      <td>NaN</td>\n",
        "      <td>NaN</td>\n",
        "      <td>NaN</td>\n",
        "      <td>NaN</td>\n",
        "      <td>NaN</td>\n",
        "      <td>NaN</td>\n",
        "    </tr>\n",
        "    <tr>\n",
        "      <th>1970</th>\n",
        "      <td>3712697742</td>\n",
        "      <td>NaN</td>\n",
        "      <td>3691172616</td>\n",
        "      <td>3.691157e+09</td>\n",
        "      <td>3.710000e+09</td>\n",
        "      <td>NaN</td>\n",
        "      <td>3.637000e+09</td>\n",
        "      <td>NaN</td>\n",
        "      <td>3.600000e+09</td>\n",
        "      <td>3,600,000,000\u2013 3,700,000,000</td>\n",
        "      <td>3.632000e+09</td>\n",
        "    </tr>\n",
        "    <tr>\n",
        "      <th>1971</th>\n",
        "      <td>3790326948</td>\n",
        "      <td>NaN</td>\n",
        "      <td>3766754345</td>\n",
        "      <td>3.769818e+09</td>\n",
        "      <td>NaN</td>\n",
        "      <td>NaN</td>\n",
        "      <td>NaN</td>\n",
        "      <td>NaN</td>\n",
        "      <td>NaN</td>\n",
        "      <td>NaN</td>\n",
        "      <td>NaN</td>\n",
        "    </tr>\n",
        "    <tr>\n",
        "      <th>1972</th>\n",
        "      <td>3866568653</td>\n",
        "      <td>NaN</td>\n",
        "      <td>3842873611</td>\n",
        "      <td>3.846499e+09</td>\n",
        "      <td>NaN</td>\n",
        "      <td>NaN</td>\n",
        "      <td>NaN</td>\n",
        "      <td>NaN</td>\n",
        "      <td>NaN</td>\n",
        "      <td>NaN</td>\n",
        "      <td>NaN</td>\n",
        "    </tr>\n",
        "    <tr>\n",
        "      <th>1973</th>\n",
        "      <td>3942096442</td>\n",
        "      <td>NaN</td>\n",
        "      <td>3919182332</td>\n",
        "      <td>3.922793e+09</td>\n",
        "      <td>3.923000e+09</td>\n",
        "      <td>NaN</td>\n",
        "      <td>NaN</td>\n",
        "      <td>NaN</td>\n",
        "      <td>NaN</td>\n",
        "      <td>NaN</td>\n",
        "      <td>3.860000e+09</td>\n",
        "    </tr>\n",
        "    <tr>\n",
        "      <th>1974</th>\n",
        "      <td>4016608813</td>\n",
        "      <td>NaN</td>\n",
        "      <td>3995304922</td>\n",
        "      <td>3.997677e+09</td>\n",
        "      <td>NaN</td>\n",
        "      <td>NaN</td>\n",
        "      <td>NaN</td>\n",
        "      <td>NaN</td>\n",
        "      <td>NaN</td>\n",
        "      <td>NaN</td>\n",
        "      <td>NaN</td>\n",
        "    </tr>\n",
        "    <tr>\n",
        "      <th>1975</th>\n",
        "      <td>4089083233</td>\n",
        "      <td>NaN</td>\n",
        "      <td>4071020434</td>\n",
        "      <td>4.070671e+09</td>\n",
        "      <td>NaN</td>\n",
        "      <td>NaN</td>\n",
        "      <td>NaN</td>\n",
        "      <td>3.900000e+09</td>\n",
        "      <td>4.000000e+09</td>\n",
        "      <td>NaN</td>\n",
        "      <td>NaN</td>\n",
        "    </tr>\n",
        "    <tr>\n",
        "      <th>1976</th>\n",
        "      <td>4160185010</td>\n",
        "      <td>NaN</td>\n",
        "      <td>4146135850</td>\n",
        "      <td>4.141445e+09</td>\n",
        "      <td>NaN</td>\n",
        "      <td>NaN</td>\n",
        "      <td>NaN</td>\n",
        "      <td>NaN</td>\n",
        "      <td>NaN</td>\n",
        "      <td>NaN</td>\n",
        "      <td>NaN</td>\n",
        "    </tr>\n",
        "    <tr>\n",
        "      <th>1977</th>\n",
        "      <td>4232084578</td>\n",
        "      <td>NaN</td>\n",
        "      <td>4220816737</td>\n",
        "      <td>4.213539e+09</td>\n",
        "      <td>NaN</td>\n",
        "      <td>NaN</td>\n",
        "      <td>NaN</td>\n",
        "      <td>NaN</td>\n",
        "      <td>NaN</td>\n",
        "      <td>NaN</td>\n",
        "      <td>NaN</td>\n",
        "    </tr>\n",
        "    <tr>\n",
        "      <th>1978</th>\n",
        "      <td>4304105753</td>\n",
        "      <td>NaN</td>\n",
        "      <td>4295664825</td>\n",
        "      <td>4.286317e+09</td>\n",
        "      <td>NaN</td>\n",
        "      <td>NaN</td>\n",
        "      <td>NaN</td>\n",
        "      <td>NaN</td>\n",
        "      <td>NaN</td>\n",
        "      <td>NaN</td>\n",
        "      <td>NaN</td>\n",
        "    </tr>\n",
        "    <tr>\n",
        "      <th>1979</th>\n",
        "      <td>4379013942</td>\n",
        "      <td>NaN</td>\n",
        "      <td>4371527871</td>\n",
        "      <td>4.363144e+09</td>\n",
        "      <td>NaN</td>\n",
        "      <td>NaN</td>\n",
        "      <td>NaN</td>\n",
        "      <td>NaN</td>\n",
        "      <td>NaN</td>\n",
        "      <td>NaN</td>\n",
        "      <td>NaN</td>\n",
        "    </tr>\n",
        "    <tr>\n",
        "      <th>...</th>\n",
        "      <td>...</td>\n",
        "      <td>...</td>\n",
        "      <td>...</td>\n",
        "      <td>...</td>\n",
        "      <td>...</td>\n",
        "      <td>...</td>\n",
        "      <td>...</td>\n",
        "      <td>...</td>\n",
        "      <td>...</td>\n",
        "      <td>...</td>\n",
        "      <td>...</td>\n",
        "    </tr>\n",
        "    <tr>\n",
        "      <th>1986</th>\n",
        "      <td>4940571232</td>\n",
        "      <td>NaN</td>\n",
        "      <td>4953376710</td>\n",
        "      <td>4.920968e+09</td>\n",
        "      <td>NaN</td>\n",
        "      <td>NaN</td>\n",
        "      <td>NaN</td>\n",
        "      <td>NaN</td>\n",
        "      <td>NaN</td>\n",
        "      <td>NaN</td>\n",
        "      <td>NaN</td>\n",
        "    </tr>\n",
        "    <tr>\n",
        "      <th>1987</th>\n",
        "      <td>5027200492</td>\n",
        "      <td>NaN</td>\n",
        "      <td>5045315871</td>\n",
        "      <td>5.006672e+09</td>\n",
        "      <td>NaN</td>\n",
        "      <td>NaN</td>\n",
        "      <td>NaN</td>\n",
        "      <td>NaN</td>\n",
        "      <td>NaN</td>\n",
        "      <td>NaN</td>\n",
        "      <td>NaN</td>\n",
        "    </tr>\n",
        "    <tr>\n",
        "      <th>1988</th>\n",
        "      <td>5114557167</td>\n",
        "      <td>NaN</td>\n",
        "      <td>5138214688</td>\n",
        "      <td>5.093306e+09</td>\n",
        "      <td>NaN</td>\n",
        "      <td>NaN</td>\n",
        "      <td>NaN</td>\n",
        "      <td>NaN</td>\n",
        "      <td>NaN</td>\n",
        "      <td>NaN</td>\n",
        "      <td>NaN</td>\n",
        "    </tr>\n",
        "    <tr>\n",
        "      <th>1989</th>\n",
        "      <td>5201440110</td>\n",
        "      <td>NaN</td>\n",
        "      <td>5230000000</td>\n",
        "      <td>5.180540e+09</td>\n",
        "      <td>NaN</td>\n",
        "      <td>NaN</td>\n",
        "      <td>NaN</td>\n",
        "      <td>NaN</td>\n",
        "      <td>NaN</td>\n",
        "      <td>NaN</td>\n",
        "      <td>NaN</td>\n",
        "    </tr>\n",
        "    <tr>\n",
        "      <th>1990</th>\n",
        "      <td>5288955934</td>\n",
        "      <td>NaN</td>\n",
        "      <td>5320816667</td>\n",
        "      <td>5.269029e+09</td>\n",
        "      <td>5.308000e+09</td>\n",
        "      <td>NaN</td>\n",
        "      <td>NaN</td>\n",
        "      <td>NaN</td>\n",
        "      <td>NaN</td>\n",
        "      <td>NaN</td>\n",
        "      <td>NaN</td>\n",
        "    </tr>\n",
        "    <tr>\n",
        "      <th>1991</th>\n",
        "      <td>5371585922</td>\n",
        "      <td>NaN</td>\n",
        "      <td>5408908724</td>\n",
        "      <td>5.351922e+09</td>\n",
        "      <td>NaN</td>\n",
        "      <td>NaN</td>\n",
        "      <td>NaN</td>\n",
        "      <td>NaN</td>\n",
        "      <td>NaN</td>\n",
        "      <td>NaN</td>\n",
        "      <td>NaN</td>\n",
        "    </tr>\n",
        "    <tr>\n",
        "      <th>1992</th>\n",
        "      <td>5456136278</td>\n",
        "      <td>NaN</td>\n",
        "      <td>5494899570</td>\n",
        "      <td>5.435722e+09</td>\n",
        "      <td>NaN</td>\n",
        "      <td>NaN</td>\n",
        "      <td>NaN</td>\n",
        "      <td>NaN</td>\n",
        "      <td>NaN</td>\n",
        "      <td>NaN</td>\n",
        "      <td>NaN</td>\n",
        "    </tr>\n",
        "    <tr>\n",
        "      <th>1993</th>\n",
        "      <td>5538268316</td>\n",
        "      <td>NaN</td>\n",
        "      <td>5578865109</td>\n",
        "      <td>5.518127e+09</td>\n",
        "      <td>NaN</td>\n",
        "      <td>NaN</td>\n",
        "      <td>NaN</td>\n",
        "      <td>NaN</td>\n",
        "      <td>NaN</td>\n",
        "      <td>NaN</td>\n",
        "      <td>NaN</td>\n",
        "    </tr>\n",
        "    <tr>\n",
        "      <th>1994</th>\n",
        "      <td>5618682132</td>\n",
        "      <td>NaN</td>\n",
        "      <td>5661086346</td>\n",
        "      <td>5.599396e+09</td>\n",
        "      <td>NaN</td>\n",
        "      <td>NaN</td>\n",
        "      <td>NaN</td>\n",
        "      <td>NaN</td>\n",
        "      <td>NaN</td>\n",
        "      <td>NaN</td>\n",
        "      <td>NaN</td>\n",
        "    </tr>\n",
        "    <tr>\n",
        "      <th>1995</th>\n",
        "      <td>5699202985</td>\n",
        "      <td>5.760000e+09</td>\n",
        "      <td>5741822412</td>\n",
        "      <td>5.681575e+09</td>\n",
        "      <td>NaN</td>\n",
        "      <td>NaN</td>\n",
        "      <td>NaN</td>\n",
        "      <td>NaN</td>\n",
        "      <td>NaN</td>\n",
        "      <td>NaN</td>\n",
        "      <td>NaN</td>\n",
        "    </tr>\n",
        "    <tr>\n",
        "      <th>1996</th>\n",
        "      <td>5779440593</td>\n",
        "      <td>NaN</td>\n",
        "      <td>5821016750</td>\n",
        "      <td>5.762212e+09</td>\n",
        "      <td>NaN</td>\n",
        "      <td>NaN</td>\n",
        "      <td>NaN</td>\n",
        "      <td>NaN</td>\n",
        "      <td>NaN</td>\n",
        "      <td>NaN</td>\n",
        "      <td>NaN</td>\n",
        "    </tr>\n",
        "    <tr>\n",
        "      <th>1997</th>\n",
        "      <td>5857972543</td>\n",
        "      <td>5.840000e+09</td>\n",
        "      <td>5898688337</td>\n",
        "      <td>5.842122e+09</td>\n",
        "      <td>NaN</td>\n",
        "      <td>NaN</td>\n",
        "      <td>NaN</td>\n",
        "      <td>NaN</td>\n",
        "      <td>NaN</td>\n",
        "      <td>NaN</td>\n",
        "      <td>NaN</td>\n",
        "    </tr>\n",
        "    <tr>\n",
        "      <th>1998</th>\n",
        "      <td>5935213248</td>\n",
        "      <td>NaN</td>\n",
        "      <td>5975303657</td>\n",
        "      <td>5.921366e+09</td>\n",
        "      <td>NaN</td>\n",
        "      <td>NaN</td>\n",
        "      <td>NaN</td>\n",
        "      <td>NaN</td>\n",
        "      <td>NaN</td>\n",
        "      <td>NaN</td>\n",
        "      <td>NaN</td>\n",
        "    </tr>\n",
        "    <tr>\n",
        "      <th>1999</th>\n",
        "      <td>6012074922</td>\n",
        "      <td>NaN</td>\n",
        "      <td>6051478010</td>\n",
        "      <td>5.999622e+09</td>\n",
        "      <td>NaN</td>\n",
        "      <td>NaN</td>\n",
        "      <td>NaN</td>\n",
        "      <td>NaN</td>\n",
        "      <td>NaN</td>\n",
        "      <td>NaN</td>\n",
        "      <td>NaN</td>\n",
        "    </tr>\n",
        "    <tr>\n",
        "      <th>2000</th>\n",
        "      <td>6088571383</td>\n",
        "      <td>6.067000e+09</td>\n",
        "      <td>6127700428</td>\n",
        "      <td>6.076558e+09</td>\n",
        "      <td>6.145000e+09</td>\n",
        "      <td>NaN</td>\n",
        "      <td>NaN</td>\n",
        "      <td>5.750000e+09</td>\n",
        "      <td>NaN</td>\n",
        "      <td>NaN</td>\n",
        "      <td>NaN</td>\n",
        "    </tr>\n",
        "    <tr>\n",
        "      <th>2001</th>\n",
        "      <td>6165219247</td>\n",
        "      <td>6.137000e+09</td>\n",
        "      <td>6204147026</td>\n",
        "      <td>6.154791e+09</td>\n",
        "      <td>NaN</td>\n",
        "      <td>NaN</td>\n",
        "      <td>NaN</td>\n",
        "      <td>NaN</td>\n",
        "      <td>NaN</td>\n",
        "      <td>NaN</td>\n",
        "      <td>NaN</td>\n",
        "    </tr>\n",
        "    <tr>\n",
        "      <th>2002</th>\n",
        "      <td>6242016348</td>\n",
        "      <td>6.215000e+09</td>\n",
        "      <td>6280853817</td>\n",
        "      <td>6.231704e+09</td>\n",
        "      <td>NaN</td>\n",
        "      <td>NaN</td>\n",
        "      <td>NaN</td>\n",
        "      <td>NaN</td>\n",
        "      <td>NaN</td>\n",
        "      <td>NaN</td>\n",
        "      <td>NaN</td>\n",
        "    </tr>\n",
        "    <tr>\n",
        "      <th>2003</th>\n",
        "      <td>6318590956</td>\n",
        "      <td>6.314000e+09</td>\n",
        "      <td>6357991749</td>\n",
        "      <td>6.308364e+09</td>\n",
        "      <td>NaN</td>\n",
        "      <td>NaN</td>\n",
        "      <td>NaN</td>\n",
        "      <td>NaN</td>\n",
        "      <td>NaN</td>\n",
        "      <td>NaN</td>\n",
        "      <td>NaN</td>\n",
        "    </tr>\n",
        "    <tr>\n",
        "      <th>2004</th>\n",
        "      <td>6395699509</td>\n",
        "      <td>6.396000e+09</td>\n",
        "      <td>6435705595</td>\n",
        "      <td>6.374056e+09</td>\n",
        "      <td>NaN</td>\n",
        "      <td>NaN</td>\n",
        "      <td>NaN</td>\n",
        "      <td>NaN</td>\n",
        "      <td>NaN</td>\n",
        "      <td>NaN</td>\n",
        "      <td>NaN</td>\n",
        "    </tr>\n",
        "    <tr>\n",
        "      <th>2005</th>\n",
        "      <td>6473044732</td>\n",
        "      <td>6.477000e+09</td>\n",
        "      <td>6514094605</td>\n",
        "      <td>6.462987e+09</td>\n",
        "      <td>NaN</td>\n",
        "      <td>NaN</td>\n",
        "      <td>NaN</td>\n",
        "      <td>NaN</td>\n",
        "      <td>NaN</td>\n",
        "      <td>NaN</td>\n",
        "      <td>NaN</td>\n",
        "    </tr>\n",
        "    <tr>\n",
        "      <th>2006</th>\n",
        "      <td>6551263534</td>\n",
        "      <td>6.555000e+09</td>\n",
        "      <td>6593227977</td>\n",
        "      <td>6.540214e+09</td>\n",
        "      <td>NaN</td>\n",
        "      <td>NaN</td>\n",
        "      <td>NaN</td>\n",
        "      <td>NaN</td>\n",
        "      <td>NaN</td>\n",
        "      <td>NaN</td>\n",
        "      <td>NaN</td>\n",
        "    </tr>\n",
        "    <tr>\n",
        "      <th>2007</th>\n",
        "      <td>6629913759</td>\n",
        "      <td>6.625000e+09</td>\n",
        "      <td>6673105937</td>\n",
        "      <td>6.616689e+09</td>\n",
        "      <td>NaN</td>\n",
        "      <td>NaN</td>\n",
        "      <td>NaN</td>\n",
        "      <td>NaN</td>\n",
        "      <td>NaN</td>\n",
        "      <td>NaN</td>\n",
        "      <td>NaN</td>\n",
        "    </tr>\n",
        "    <tr>\n",
        "      <th>2008</th>\n",
        "      <td>6709049780</td>\n",
        "      <td>6.705000e+09</td>\n",
        "      <td>6753649228</td>\n",
        "      <td>6.694832e+09</td>\n",
        "      <td>NaN</td>\n",
        "      <td>NaN</td>\n",
        "      <td>NaN</td>\n",
        "      <td>NaN</td>\n",
        "      <td>NaN</td>\n",
        "      <td>NaN</td>\n",
        "      <td>NaN</td>\n",
        "    </tr>\n",
        "    <tr>\n",
        "      <th>2009</th>\n",
        "      <td>6788214394</td>\n",
        "      <td>6.809972e+09</td>\n",
        "      <td>6834721933</td>\n",
        "      <td>6.764086e+09</td>\n",
        "      <td>NaN</td>\n",
        "      <td>NaN</td>\n",
        "      <td>NaN</td>\n",
        "      <td>NaN</td>\n",
        "      <td>NaN</td>\n",
        "      <td>NaN</td>\n",
        "      <td>NaN</td>\n",
        "    </tr>\n",
        "    <tr>\n",
        "      <th>2010</th>\n",
        "      <td>6866332358</td>\n",
        "      <td>6.892319e+09</td>\n",
        "      <td>6916183482</td>\n",
        "      <td>NaN</td>\n",
        "      <td>NaN</td>\n",
        "      <td>NaN</td>\n",
        "      <td>NaN</td>\n",
        "      <td>NaN</td>\n",
        "      <td>NaN</td>\n",
        "      <td>NaN</td>\n",
        "      <td>NaN</td>\n",
        "    </tr>\n",
        "    <tr>\n",
        "      <th>2011</th>\n",
        "      <td>6944055583</td>\n",
        "      <td>6.986951e+09</td>\n",
        "      <td>6997998760</td>\n",
        "      <td>NaN</td>\n",
        "      <td>NaN</td>\n",
        "      <td>NaN</td>\n",
        "      <td>NaN</td>\n",
        "      <td>NaN</td>\n",
        "      <td>NaN</td>\n",
        "      <td>NaN</td>\n",
        "      <td>NaN</td>\n",
        "    </tr>\n",
        "    <tr>\n",
        "      <th>2012</th>\n",
        "      <td>7022349283</td>\n",
        "      <td>7.057075e+09</td>\n",
        "      <td>7080072417</td>\n",
        "      <td>NaN</td>\n",
        "      <td>NaN</td>\n",
        "      <td>NaN</td>\n",
        "      <td>NaN</td>\n",
        "      <td>NaN</td>\n",
        "      <td>NaN</td>\n",
        "      <td>NaN</td>\n",
        "      <td>NaN</td>\n",
        "    </tr>\n",
        "    <tr>\n",
        "      <th>2013</th>\n",
        "      <td>7101027895</td>\n",
        "      <td>7.136796e+09</td>\n",
        "      <td>7162119434</td>\n",
        "      <td>NaN</td>\n",
        "      <td>NaN</td>\n",
        "      <td>NaN</td>\n",
        "      <td>NaN</td>\n",
        "      <td>NaN</td>\n",
        "      <td>NaN</td>\n",
        "      <td>NaN</td>\n",
        "      <td>NaN</td>\n",
        "    </tr>\n",
        "    <tr>\n",
        "      <th>2014</th>\n",
        "      <td>7178722893</td>\n",
        "      <td>7.238184e+09</td>\n",
        "      <td>7243784000</td>\n",
        "      <td>NaN</td>\n",
        "      <td>NaN</td>\n",
        "      <td>NaN</td>\n",
        "      <td>NaN</td>\n",
        "      <td>NaN</td>\n",
        "      <td>NaN</td>\n",
        "      <td>NaN</td>\n",
        "      <td>NaN</td>\n",
        "    </tr>\n",
        "    <tr>\n",
        "      <th>2015</th>\n",
        "      <td>7256490011</td>\n",
        "      <td>7.336435e+09</td>\n",
        "      <td>7349472000</td>\n",
        "      <td>NaN</td>\n",
        "      <td>NaN</td>\n",
        "      <td>NaN</td>\n",
        "      <td>NaN</td>\n",
        "      <td>NaN</td>\n",
        "      <td>NaN</td>\n",
        "      <td>NaN</td>\n",
        "      <td>NaN</td>\n",
        "    </tr>\n",
        "  </tbody>\n",
        "</table>\n",
        "<p>66 rows \u00d7 11 columns</p>\n",
        "</div>"
       ],
       "metadata": {},
       "output_type": "pyout",
       "prompt_number": 7,
       "text": [
        "          census           prb          un      maddison          hyde  \\\n",
        "Year                                                                     \n",
        "1950  2557628654  2.516000e+09  2525149000  2.544000e+09  2.527960e+09   \n",
        "1951  2594939877           NaN  2572850917  2.571663e+09           NaN   \n",
        "1952  2636772306           NaN  2619292068  2.617949e+09           NaN   \n",
        "1953  2682053389           NaN  2665865392  2.665959e+09           NaN   \n",
        "1954  2730228104           NaN  2713172027  2.716927e+09           NaN   \n",
        "1955  2782098943           NaN  2761650981  2.769074e+09           NaN   \n",
        "1956  2835299673           NaN  2811572031  2.822502e+09           NaN   \n",
        "1957  2891349717           NaN  2863042795  2.879934e+09           NaN   \n",
        "1958  2948137248           NaN  2916030167  2.939254e+09           NaN   \n",
        "1959  3000716593           NaN  2970395814  2.995909e+09           NaN   \n",
        "1960  3043001508           NaN  3026002942  3.041507e+09  3.042000e+09   \n",
        "1961  3083966929           NaN  3082830266  3.082161e+09           NaN   \n",
        "1962  3140093217           NaN  3141071531  3.135787e+09           NaN   \n",
        "1963  3209827882           NaN  3201178277  3.201354e+09           NaN   \n",
        "1964  3281201306           NaN  3263738832  3.266477e+09           NaN   \n",
        "1965  3350425793           NaN  3329122479  3.333138e+09           NaN   \n",
        "1966  3420677923           NaN  3397475247  3.402224e+09           NaN   \n",
        "1967  3490333715           NaN  3468521724  3.471464e+09           NaN   \n",
        "1968  3562313822           NaN  3541674891  3.543086e+09           NaN   \n",
        "1969  3637159050           NaN  3616108749  3.615743e+09           NaN   \n",
        "1970  3712697742           NaN  3691172616  3.691157e+09  3.710000e+09   \n",
        "1971  3790326948           NaN  3766754345  3.769818e+09           NaN   \n",
        "1972  3866568653           NaN  3842873611  3.846499e+09           NaN   \n",
        "1973  3942096442           NaN  3919182332  3.922793e+09  3.923000e+09   \n",
        "1974  4016608813           NaN  3995304922  3.997677e+09           NaN   \n",
        "1975  4089083233           NaN  4071020434  4.070671e+09           NaN   \n",
        "1976  4160185010           NaN  4146135850  4.141445e+09           NaN   \n",
        "1977  4232084578           NaN  4220816737  4.213539e+09           NaN   \n",
        "1978  4304105753           NaN  4295664825  4.286317e+09           NaN   \n",
        "1979  4379013942           NaN  4371527871  4.363144e+09           NaN   \n",
        "...          ...           ...         ...           ...           ...   \n",
        "1986  4940571232           NaN  4953376710  4.920968e+09           NaN   \n",
        "1987  5027200492           NaN  5045315871  5.006672e+09           NaN   \n",
        "1988  5114557167           NaN  5138214688  5.093306e+09           NaN   \n",
        "1989  5201440110           NaN  5230000000  5.180540e+09           NaN   \n",
        "1990  5288955934           NaN  5320816667  5.269029e+09  5.308000e+09   \n",
        "1991  5371585922           NaN  5408908724  5.351922e+09           NaN   \n",
        "1992  5456136278           NaN  5494899570  5.435722e+09           NaN   \n",
        "1993  5538268316           NaN  5578865109  5.518127e+09           NaN   \n",
        "1994  5618682132           NaN  5661086346  5.599396e+09           NaN   \n",
        "1995  5699202985  5.760000e+09  5741822412  5.681575e+09           NaN   \n",
        "1996  5779440593           NaN  5821016750  5.762212e+09           NaN   \n",
        "1997  5857972543  5.840000e+09  5898688337  5.842122e+09           NaN   \n",
        "1998  5935213248           NaN  5975303657  5.921366e+09           NaN   \n",
        "1999  6012074922           NaN  6051478010  5.999622e+09           NaN   \n",
        "2000  6088571383  6.067000e+09  6127700428  6.076558e+09  6.145000e+09   \n",
        "2001  6165219247  6.137000e+09  6204147026  6.154791e+09           NaN   \n",
        "2002  6242016348  6.215000e+09  6280853817  6.231704e+09           NaN   \n",
        "2003  6318590956  6.314000e+09  6357991749  6.308364e+09           NaN   \n",
        "2004  6395699509  6.396000e+09  6435705595  6.374056e+09           NaN   \n",
        "2005  6473044732  6.477000e+09  6514094605  6.462987e+09           NaN   \n",
        "2006  6551263534  6.555000e+09  6593227977  6.540214e+09           NaN   \n",
        "2007  6629913759  6.625000e+09  6673105937  6.616689e+09           NaN   \n",
        "2008  6709049780  6.705000e+09  6753649228  6.694832e+09           NaN   \n",
        "2009  6788214394  6.809972e+09  6834721933  6.764086e+09           NaN   \n",
        "2010  6866332358  6.892319e+09  6916183482           NaN           NaN   \n",
        "2011  6944055583  6.986951e+09  6997998760           NaN           NaN   \n",
        "2012  7022349283  7.057075e+09  7080072417           NaN           NaN   \n",
        "2013  7101027895  7.136796e+09  7162119434           NaN           NaN   \n",
        "2014  7178722893  7.238184e+09  7243784000           NaN           NaN   \n",
        "2015  7256490011  7.336435e+09  7349472000           NaN           NaN   \n",
        "\n",
        "            tanton       biraben            mj    thomlinson  \\\n",
        "Year                                                           \n",
        "1950  2.400000e+09  2.527000e+09  2.500000e+09  2.400000e+09   \n",
        "1951           NaN           NaN           NaN           NaN   \n",
        "1952           NaN           NaN           NaN           NaN   \n",
        "1953           NaN           NaN           NaN           NaN   \n",
        "1954           NaN           NaN           NaN           NaN   \n",
        "1955           NaN           NaN           NaN           NaN   \n",
        "1956           NaN           NaN           NaN           NaN   \n",
        "1957           NaN           NaN           NaN           NaN   \n",
        "1958           NaN           NaN           NaN           NaN   \n",
        "1959           NaN           NaN           NaN           NaN   \n",
        "1960           NaN           NaN           NaN           NaN   \n",
        "1961           NaN           NaN           NaN           NaN   \n",
        "1962           NaN           NaN           NaN           NaN   \n",
        "1963           NaN           NaN           NaN           NaN   \n",
        "1964           NaN           NaN           NaN           NaN   \n",
        "1965           NaN           NaN           NaN           NaN   \n",
        "1966           NaN           NaN           NaN           NaN   \n",
        "1967           NaN           NaN           NaN           NaN   \n",
        "1968           NaN           NaN           NaN           NaN   \n",
        "1969           NaN           NaN           NaN           NaN   \n",
        "1970           NaN  3.637000e+09           NaN  3.600000e+09   \n",
        "1971           NaN           NaN           NaN           NaN   \n",
        "1972           NaN           NaN           NaN           NaN   \n",
        "1973           NaN           NaN           NaN           NaN   \n",
        "1974           NaN           NaN           NaN           NaN   \n",
        "1975           NaN           NaN  3.900000e+09  4.000000e+09   \n",
        "1976           NaN           NaN           NaN           NaN   \n",
        "1977           NaN           NaN           NaN           NaN   \n",
        "1978           NaN           NaN           NaN           NaN   \n",
        "1979           NaN           NaN           NaN           NaN   \n",
        "...            ...           ...           ...           ...   \n",
        "1986           NaN           NaN           NaN           NaN   \n",
        "1987           NaN           NaN           NaN           NaN   \n",
        "1988           NaN           NaN           NaN           NaN   \n",
        "1989           NaN           NaN           NaN           NaN   \n",
        "1990           NaN           NaN           NaN           NaN   \n",
        "1991           NaN           NaN           NaN           NaN   \n",
        "1992           NaN           NaN           NaN           NaN   \n",
        "1993           NaN           NaN           NaN           NaN   \n",
        "1994           NaN           NaN           NaN           NaN   \n",
        "1995           NaN           NaN           NaN           NaN   \n",
        "1996           NaN           NaN           NaN           NaN   \n",
        "1997           NaN           NaN           NaN           NaN   \n",
        "1998           NaN           NaN           NaN           NaN   \n",
        "1999           NaN           NaN           NaN           NaN   \n",
        "2000           NaN           NaN  5.750000e+09           NaN   \n",
        "2001           NaN           NaN           NaN           NaN   \n",
        "2002           NaN           NaN           NaN           NaN   \n",
        "2003           NaN           NaN           NaN           NaN   \n",
        "2004           NaN           NaN           NaN           NaN   \n",
        "2005           NaN           NaN           NaN           NaN   \n",
        "2006           NaN           NaN           NaN           NaN   \n",
        "2007           NaN           NaN           NaN           NaN   \n",
        "2008           NaN           NaN           NaN           NaN   \n",
        "2009           NaN           NaN           NaN           NaN   \n",
        "2010           NaN           NaN           NaN           NaN   \n",
        "2011           NaN           NaN           NaN           NaN   \n",
        "2012           NaN           NaN           NaN           NaN   \n",
        "2013           NaN           NaN           NaN           NaN   \n",
        "2014           NaN           NaN           NaN           NaN   \n",
        "2015           NaN           NaN           NaN           NaN   \n",
        "\n",
        "                            durand         clark  \n",
        "Year                                              \n",
        "1950                           NaN  2.486000e+09  \n",
        "1951                           NaN           NaN  \n",
        "1952                           NaN           NaN  \n",
        "1953                           NaN           NaN  \n",
        "1954                           NaN           NaN  \n",
        "1955                           NaN           NaN  \n",
        "1956                           NaN           NaN  \n",
        "1957                           NaN           NaN  \n",
        "1958                           NaN           NaN  \n",
        "1959                           NaN           NaN  \n",
        "1960                           NaN           NaN  \n",
        "1961                           NaN           NaN  \n",
        "1962                           NaN  3.036000e+09  \n",
        "1963                           NaN           NaN  \n",
        "1964                           NaN           NaN  \n",
        "1965                           NaN           NaN  \n",
        "1966                           NaN  3.288000e+09  \n",
        "1967                           NaN           NaN  \n",
        "1968                           NaN           NaN  \n",
        "1969                           NaN           NaN  \n",
        "1970  3,600,000,000\u2013 3,700,000,000  3.632000e+09  \n",
        "1971                           NaN           NaN  \n",
        "1972                           NaN           NaN  \n",
        "1973                           NaN  3.860000e+09  \n",
        "1974                           NaN           NaN  \n",
        "1975                           NaN           NaN  \n",
        "1976                           NaN           NaN  \n",
        "1977                           NaN           NaN  \n",
        "1978                           NaN           NaN  \n",
        "1979                           NaN           NaN  \n",
        "...                            ...           ...  \n",
        "1986                           NaN           NaN  \n",
        "1987                           NaN           NaN  \n",
        "1988                           NaN           NaN  \n",
        "1989                           NaN           NaN  \n",
        "1990                           NaN           NaN  \n",
        "1991                           NaN           NaN  \n",
        "1992                           NaN           NaN  \n",
        "1993                           NaN           NaN  \n",
        "1994                           NaN           NaN  \n",
        "1995                           NaN           NaN  \n",
        "1996                           NaN           NaN  \n",
        "1997                           NaN           NaN  \n",
        "1998                           NaN           NaN  \n",
        "1999                           NaN           NaN  \n",
        "2000                           NaN           NaN  \n",
        "2001                           NaN           NaN  \n",
        "2002                           NaN           NaN  \n",
        "2003                           NaN           NaN  \n",
        "2004                           NaN           NaN  \n",
        "2005                           NaN           NaN  \n",
        "2006                           NaN           NaN  \n",
        "2007                           NaN           NaN  \n",
        "2008                           NaN           NaN  \n",
        "2009                           NaN           NaN  \n",
        "2010                           NaN           NaN  \n",
        "2011                           NaN           NaN  \n",
        "2012                           NaN           NaN  \n",
        "2013                           NaN           NaN  \n",
        "2014                           NaN           NaN  \n",
        "2015                           NaN           NaN  \n",
        "\n",
        "[66 rows x 11 columns]"
       ]
      }
     ],
     "prompt_number": 7
    },
    {
     "cell_type": "markdown",
     "metadata": {},
     "source": [
      "We can use dot notatio to select a column from a DataFrame.  The result is a Series."
     ]
    },
    {
     "cell_type": "code",
     "collapsed": false,
     "input": [
      "census = table2.census\n",
      "census"
     ],
     "language": "python",
     "metadata": {},
     "outputs": [
      {
       "metadata": {},
       "output_type": "pyout",
       "prompt_number": 8,
       "text": [
        "Year\n",
        "1950    2557628654\n",
        "1951    2594939877\n",
        "1952    2636772306\n",
        "1953    2682053389\n",
        "1954    2730228104\n",
        "1955    2782098943\n",
        "1956    2835299673\n",
        "1957    2891349717\n",
        "1958    2948137248\n",
        "1959    3000716593\n",
        "1960    3043001508\n",
        "1961    3083966929\n",
        "1962    3140093217\n",
        "1963    3209827882\n",
        "1964    3281201306\n",
        "1965    3350425793\n",
        "1966    3420677923\n",
        "1967    3490333715\n",
        "1968    3562313822\n",
        "1969    3637159050\n",
        "1970    3712697742\n",
        "1971    3790326948\n",
        "1972    3866568653\n",
        "1973    3942096442\n",
        "1974    4016608813\n",
        "1975    4089083233\n",
        "1976    4160185010\n",
        "1977    4232084578\n",
        "1978    4304105753\n",
        "1979    4379013942\n",
        "           ...    \n",
        "1986    4940571232\n",
        "1987    5027200492\n",
        "1988    5114557167\n",
        "1989    5201440110\n",
        "1990    5288955934\n",
        "1991    5371585922\n",
        "1992    5456136278\n",
        "1993    5538268316\n",
        "1994    5618682132\n",
        "1995    5699202985\n",
        "1996    5779440593\n",
        "1997    5857972543\n",
        "1998    5935213248\n",
        "1999    6012074922\n",
        "2000    6088571383\n",
        "2001    6165219247\n",
        "2002    6242016348\n",
        "2003    6318590956\n",
        "2004    6395699509\n",
        "2005    6473044732\n",
        "2006    6551263534\n",
        "2007    6629913759\n",
        "2008    6709049780\n",
        "2009    6788214394\n",
        "2010    6866332358\n",
        "2011    6944055583\n",
        "2012    7022349283\n",
        "2013    7101027895\n",
        "2014    7178722893\n",
        "2015    7256490011\n",
        "Name: census, Length: 66, dtype: int64"
       ]
      }
     ],
     "prompt_number": 8
    },
    {
     "cell_type": "markdown",
     "metadata": {},
     "source": [
      "A Series object has two parts, `values` and `index`.\n",
      "\n",
      "The `values` part is an array."
     ]
    },
    {
     "cell_type": "code",
     "collapsed": false,
     "input": [
      "census.values"
     ],
     "language": "python",
     "metadata": {},
     "outputs": [
      {
       "metadata": {},
       "output_type": "pyout",
       "prompt_number": 9,
       "text": [
        "array([2557628654, 2594939877, 2636772306, 2682053389, 2730228104,\n",
        "       2782098943, 2835299673, 2891349717, 2948137248, 3000716593,\n",
        "       3043001508, 3083966929, 3140093217, 3209827882, 3281201306,\n",
        "       3350425793, 3420677923, 3490333715, 3562313822, 3637159050,\n",
        "       3712697742, 3790326948, 3866568653, 3942096442, 4016608813,\n",
        "       4089083233, 4160185010, 4232084578, 4304105753, 4379013942,\n",
        "       4451362735, 4534410125, 4614566561, 4695736743, 4774569391,\n",
        "       4856462699, 4940571232, 5027200492, 5114557167, 5201440110,\n",
        "       5288955934, 5371585922, 5456136278, 5538268316, 5618682132,\n",
        "       5699202985, 5779440593, 5857972543, 5935213248, 6012074922,\n",
        "       6088571383, 6165219247, 6242016348, 6318590956, 6395699509,\n",
        "       6473044732, 6551263534, 6629913759, 6709049780, 6788214394,\n",
        "       6866332358, 6944055583, 7022349283, 7101027895, 7178722893,\n",
        "       7256490011])"
       ]
      }
     ],
     "prompt_number": 9
    },
    {
     "cell_type": "markdown",
     "metadata": {},
     "source": [
      "The `index` part is yet another kind of object, an `Int64Index`."
     ]
    },
    {
     "cell_type": "code",
     "collapsed": false,
     "input": [
      "census.index"
     ],
     "language": "python",
     "metadata": {},
     "outputs": [
      {
       "metadata": {},
       "output_type": "pyout",
       "prompt_number": 10,
       "text": [
        "Int64Index([1950, 1951, 1952, 1953, 1954, 1955, 1956, 1957, 1958, 1959, 1960,\n",
        "            1961, 1962, 1963, 1964, 1965, 1966, 1967, 1968, 1969, 1970, 1971,\n",
        "            1972, 1973, 1974, 1975, 1976, 1977, 1978, 1979, 1980, 1981, 1982,\n",
        "            1983, 1984, 1985, 1986, 1987, 1988, 1989, 1990, 1991, 1992, 1993,\n",
        "            1994, 1995, 1996, 1997, 1998, 1999, 2000, 2001, 2002, 2003, 2004,\n",
        "            2005, 2006, 2007, 2008, 2009, 2010, 2011, 2012, 2013, 2014, 2015],\n",
        "           dtype='int64', name='Year')"
       ]
      }
     ],
     "prompt_number": 10
    },
    {
     "cell_type": "markdown",
     "metadata": {},
     "source": [
      "If you ever wonder what kind of object a variable refers to, you can use the `type` function.\n",
      "\n",
      "The result indicates what type the object is, and the module where that type is defined.\n",
      "\n",
      "DataFrame, Series, and Int64Index are defined by Pandas.\n",
      "\n",
      "array is defined by NumPy."
     ]
    },
    {
     "cell_type": "code",
     "collapsed": false,
     "input": [
      "type(table2)"
     ],
     "language": "python",
     "metadata": {},
     "outputs": [
      {
       "metadata": {},
       "output_type": "pyout",
       "prompt_number": 11,
       "text": [
        "pandas.core.frame.DataFrame"
       ]
      }
     ],
     "prompt_number": 11
    },
    {
     "cell_type": "code",
     "collapsed": false,
     "input": [
      "type(census)"
     ],
     "language": "python",
     "metadata": {},
     "outputs": [
      {
       "metadata": {},
       "output_type": "pyout",
       "prompt_number": 12,
       "text": [
        "pandas.core.series.Series"
       ]
      }
     ],
     "prompt_number": 12
    },
    {
     "cell_type": "code",
     "collapsed": false,
     "input": [
      "type(census.index)"
     ],
     "language": "python",
     "metadata": {},
     "outputs": [
      {
       "metadata": {},
       "output_type": "pyout",
       "prompt_number": 13,
       "text": [
        "pandas.core.indexes.numeric.Int64Index"
       ]
      }
     ],
     "prompt_number": 13
    },
    {
     "cell_type": "code",
     "collapsed": false,
     "input": [
      "type(census.values)"
     ],
     "language": "python",
     "metadata": {},
     "outputs": [
      {
       "metadata": {},
       "output_type": "pyout",
       "prompt_number": 14,
       "text": [
        "numpy.ndarray"
       ]
      }
     ],
     "prompt_number": 14
    },
    {
     "cell_type": "markdown",
     "metadata": {},
     "source": [
      "This function plots the estimates generated by the US Censis and UN DESA, and labels the axes.\n",
      "\n",
      "`1e9` is scientific notation for $1 \\cdot 10^9$ or 1 billion."
     ]
    },
    {
     "cell_type": "code",
     "collapsed": true,
     "input": [
      "def plot_estimates(table):\n",
      "    un = table.un / 1e9\n",
      "    census = table.census / 1e9\n",
      "    \n",
      "    plot(census, ':', color='darkblue', label='US Census')\n",
      "    plot(un, '--', color='green', label='UN DESA')\n",
      "    \n",
      "    decorate(xlabel='Year',\n",
      "             ylabel='World population (billion)')"
     ],
     "language": "python",
     "metadata": {},
     "outputs": [],
     "prompt_number": 15
    },
    {
     "cell_type": "markdown",
     "metadata": {},
     "source": [
      "Now we can plot the estimates."
     ]
    },
    {
     "cell_type": "code",
     "collapsed": false,
     "input": [
      "newfig()\n",
      "plot_estimates(table2)\n",
      "savefig('chap03-fig01.pdf')"
     ],
     "language": "python",
     "metadata": {
      "scrolled": false
     },
     "outputs": [
      {
       "output_type": "stream",
       "stream": "stdout",
       "text": [
        "Saving figure to file chap03-fig01.pdf\n"
       ]
      },
      {
       "metadata": {},
       "output_type": "display_data",
       "png": "[encoded data removed]",
       "text": [
        "<matplotlib.figure.Figure at 0x7f1f3754b588>"
       ]
      }
     ],
     "prompt_number": 16
    },
    {
     "cell_type": "markdown",
     "metadata": {},
     "source": [
      "From here on, we will work in units of billions."
     ]
    },
    {
     "cell_type": "code",
     "collapsed": true,
     "input": [
      "un = table2.un / 1e9"
     ],
     "language": "python",
     "metadata": {},
     "outputs": [],
     "prompt_number": 17
    },
    {
     "cell_type": "code",
     "collapsed": true,
     "input": [
      "census = table2.census / 1e9"
     ],
     "language": "python",
     "metadata": {},
     "outputs": [],
     "prompt_number": 18
    },
    {
     "cell_type": "markdown",
     "metadata": {},
     "source": [
      "This expression computes the elementwise differences between the series, then divides through by the UN value to produce relative errors, then finds the largest element.\n",
      "\n",
      "So the largest relative error between the estimates is about 1.3%."
     ]
    },
    {
     "cell_type": "code",
     "collapsed": false,
     "input": [
      "max(abs(census - un) / un) * 100"
     ],
     "language": "python",
     "metadata": {},
     "outputs": [
      {
       "metadata": {},
       "output_type": "pyout",
       "prompt_number": 19,
       "text": [
        "1.2862470293832287"
       ]
      }
     ],
     "prompt_number": 19
    },
    {
     "cell_type": "markdown",
     "metadata": {},
     "source": [
      "**Exercise:** Break down that expression into smaller steps and display the intermediate results, to make sure you understand how it works.\n",
      "\n",
      "Where in the series is the largest relative error between the two estimates, near the beginning or the end?\n",
      "\n",
      "When I computed relative errors, I used `un` as the denominator.  But that was an arbitraty choice.  What happens if we use `census` instead?  How much difference does it make."
     ]
    },
    {
     "cell_type": "code",
     "collapsed": false,
     "input": [
      "# Solution goes here"
     ],
     "language": "python",
     "metadata": {
      "scrolled": true
     },
     "outputs": [],
     "prompt_number": 20
    },
    {
     "cell_type": "code",
     "collapsed": false,
     "input": [
      "# Solution goes here"
     ],
     "language": "python",
     "metadata": {
      "scrolled": true
     },
     "outputs": [],
     "prompt_number": 21
    },
    {
     "cell_type": "code",
     "collapsed": false,
     "input": [
      "# Solution goes here"
     ],
     "language": "python",
     "metadata": {
      "scrolled": true
     },
     "outputs": [],
     "prompt_number": 22
    },
    {
     "cell_type": "code",
     "collapsed": false,
     "input": [
      "# Solution goes here"
     ],
     "language": "python",
     "metadata": {},
     "outputs": [],
     "prompt_number": 23
    },
    {
     "cell_type": "heading",
     "level": 3,
     "metadata": {},
     "source": [
      "Constant growth"
     ]
    },
    {
     "cell_type": "markdown",
     "metadata": {},
     "source": [
      "We can select an element from a series using bracket notation and one of the elements from the index.  Here's the first element:"
     ]
    },
    {
     "cell_type": "code",
     "collapsed": false,
     "input": [
      "census[1950]"
     ],
     "language": "python",
     "metadata": {},
     "outputs": [
      {
       "metadata": {},
       "output_type": "pyout",
       "prompt_number": 24,
       "text": [
        "2.5576286540000002"
       ]
      }
     ],
     "prompt_number": 24
    },
    {
     "cell_type": "markdown",
     "metadata": {},
     "source": [
      "And the last element."
     ]
    },
    {
     "cell_type": "code",
     "collapsed": false,
     "input": [
      "census[2015]"
     ],
     "language": "python",
     "metadata": {},
     "outputs": [
      {
       "metadata": {},
       "output_type": "pyout",
       "prompt_number": 25,
       "text": [
        "7.2564900110000004"
       ]
      }
     ],
     "prompt_number": 25
    },
    {
     "cell_type": "markdown",
     "metadata": {},
     "source": [
      "But we can get the first and last years from the index itself:"
     ]
    },
    {
     "cell_type": "code",
     "collapsed": false,
     "input": [
      "first_year = census.index[0]\n",
      "last_year = census.index[-1]\n",
      "first_year, last_year"
     ],
     "language": "python",
     "metadata": {},
     "outputs": [
      {
       "metadata": {},
       "output_type": "pyout",
       "prompt_number": 26,
       "text": [
        "(1950, 2015)"
       ]
      }
     ],
     "prompt_number": 26
    },
    {
     "cell_type": "markdown",
     "metadata": {},
     "source": [
      "And use them to look up the first and last elements.\n",
      "\n",
      "Then we can compute the average annual growth in billions of people per year."
     ]
    },
    {
     "cell_type": "code",
     "collapsed": false,
     "input": [
      "total_growth = census[last_year] - census[first_year]\n",
      "elapsed_time = last_year - first_year\n",
      "annual_growth = total_growth / elapsed_time\n",
      "annual_growth"
     ],
     "language": "python",
     "metadata": {},
     "outputs": [
      {
       "metadata": {},
       "output_type": "pyout",
       "prompt_number": 27,
       "text": [
        "0.07229017472307693"
       ]
      }
     ],
     "prompt_number": 27
    },
    {
     "cell_type": "markdown",
     "metadata": {},
     "source": [
      "Now let's create a new Series we will use to contain values generated by a linear growth model."
     ]
    },
    {
     "cell_type": "code",
     "collapsed": false,
     "input": [
      "model = Series([])"
     ],
     "language": "python",
     "metadata": {},
     "outputs": [],
     "prompt_number": 28
    },
    {
     "cell_type": "markdown",
     "metadata": {},
     "source": [
      "p0ially the Series is empty, but we can p0ialize it so the starting value, in 1950, is the 1950 population estimated by the US Census."
     ]
    },
    {
     "cell_type": "code",
     "collapsed": false,
     "input": [
      "model[1950] = census[1950]\n",
      "model"
     ],
     "language": "python",
     "metadata": {},
     "outputs": [
      {
       "metadata": {},
       "output_type": "pyout",
       "prompt_number": 29,
       "text": [
        "1950    2.557629\n",
        "dtype: float64"
       ]
      }
     ],
     "prompt_number": 29
    },
    {
     "cell_type": "markdown",
     "metadata": {},
     "source": [
      "After that, the population in the model grows by a constant amount each year."
     ]
    },
    {
     "cell_type": "code",
     "collapsed": false,
     "input": [
      "for year in arange(1950, 2015):\n",
      "    model[year+1] = model[year] + annual_growth"
     ],
     "language": "python",
     "metadata": {},
     "outputs": [],
     "prompt_number": 30
    },
    {
     "cell_type": "markdown",
     "metadata": {},
     "source": [
      "Here's what the results looks like, compared to the actual data."
     ]
    },
    {
     "cell_type": "code",
     "collapsed": false,
     "input": [
      "newfig()\n",
      "plot_estimates(table2)\n",
      "plot(model, '--', color='gray', label='model')\n",
      "decorate(xlabel='Year', ylabel='World population (billion)')\n",
      "savefig('chap03-fig02.pdf')"
     ],
     "language": "python",
     "metadata": {},
     "outputs": [
      {
       "output_type": "stream",
       "stream": "stdout",
       "text": [
        "Saving figure to file chap03-fig02.pdf\n"
       ]
      },
      {
       "metadata": {},
       "output_type": "display_data",
       "png": "[encoded data removed]",
       "text": [
        "<matplotlib.figure.Figure at 0x7f1f34bd3898>"
       ]
      }
     ],
     "prompt_number": 31
    },
    {
     "cell_type": "markdown",
     "metadata": {},
     "source": [
      "The model fits the data pretty well after 1990, but not so well before."
     ]
    },
    {
     "cell_type": "markdown",
     "metadata": {},
     "source": [
      "**Exercise:**  Try fitting the model using data from 1965 to the present, and see if that does a better job.\n",
      "\n",
      "Hint: Copy the code from above and make a few changes.\n",
      "\n",
      "Make sure your model starts in 1950, even though the estimated annual growth is based on later data.  You might have to shift the first value in the series up or down to match the data."
     ]
    },
    {
     "cell_type": "code",
     "collapsed": false,
     "input": [
      "# Solution goes here"
     ],
     "language": "python",
     "metadata": {},
     "outputs": [],
     "prompt_number": 32
    },
    {
     "cell_type": "heading",
     "level": 3,
     "metadata": {},
     "source": [
      "Now with state objects"
     ]
    },
    {
     "cell_type": "markdown",
     "metadata": {},
     "source": [
      "We can rewrite the code from the previous section using state objects."
     ]
    },
    {
     "cell_type": "code",
     "collapsed": true,
     "input": [
      "t0 = census.index[0]\n",
      "t_end = census.index[-1]\n",
      "total_growth = census[t_end] - census[t0]\n",
      "elapsed_time = t_end - t0\n",
      "annual_growth = total_growth / elapsed_time"
     ],
     "language": "python",
     "metadata": {},
     "outputs": [],
     "prompt_number": 33
    },
    {
     "cell_type": "markdown",
     "metadata": {},
     "source": [
      "Here's the state object."
     ]
    },
    {
     "cell_type": "code",
     "collapsed": false,
     "input": [
      "state = State(t0=t0, \n",
      "              t_end=t_end,\n",
      "              p0=census[t0],\n",
      "              annual_growth=annual_growth)"
     ],
     "language": "python",
     "metadata": {},
     "outputs": [],
     "prompt_number": 34
    },
    {
     "cell_type": "markdown",
     "metadata": {},
     "source": [
      "And we can encapsulate the code tha runs the model in a function that stores the resulting Series as a new state variable."
     ]
    },
    {
     "cell_type": "code",
     "collapsed": false,
     "input": [
      "def run_model1(state):\n",
      "    \"\"\"Runs the constant growth model.\n",
      "    \n",
      "    Adds `model` to the state object\n",
      "    \n",
      "    state: State object\n",
      "    \"\"\"\n",
      "    model = Series([])\n",
      "    model[state.t0] = state.p0\n",
      "    for year in arange(state.t0, state.t_end):\n",
      "        model[year+1] = model[year] + state.annual_growth\n",
      "    state.model = model"
     ],
     "language": "python",
     "metadata": {},
     "outputs": [],
     "prompt_number": 35
    },
    {
     "cell_type": "markdown",
     "metadata": {},
     "source": [
      "We can also encapsulate the code that plots the results."
     ]
    },
    {
     "cell_type": "code",
     "collapsed": false,
     "input": [
      "def plot_model(state, title=None):\n",
      "    \"\"\"Plot the estimates and the model.\n",
      "    \n",
      "    state: State object with a state variable `model`\n",
      "    \"\"\"\n",
      "    newfig()\n",
      "    plot_estimates(table2)\n",
      "    plot(state.model, '--', color='gray', label='model')\n",
      "    decorate(xlabel='Year', \n",
      "             ylabel='World population (billion)',\n",
      "             title=title)"
     ],
     "language": "python",
     "metadata": {},
     "outputs": [],
     "prompt_number": 36
    },
    {
     "cell_type": "markdown",
     "metadata": {},
     "source": [
      "Here's how we run it."
     ]
    },
    {
     "cell_type": "code",
     "collapsed": false,
     "input": [
      "run_model1(state)\n",
      "plot_model(state, title='Constant growth model')"
     ],
     "language": "python",
     "metadata": {},
     "outputs": [
      {
       "metadata": {},
       "output_type": "display_data",
       "png": "[encoded data removed]",
       "text": [
        "<matplotlib.figure.Figure at 0x7f1f34be0390>"
       ]
      }
     ],
     "prompt_number": 37
    },
    {
     "cell_type": "markdown",
     "metadata": {},
     "source": [
      "**Exercise:** The constant growth model doesn't make a lot of sense, because it seems like the number of deaths and births should depend on the size of the population.  As a small improvement, let's write a version of `run_model1` where the number of deaths is proportional to the size of the population, but the number of births is constant.  This model doesn't make a lot of sense, either, but it's a good exercise.\n",
      "\n",
      "Write a function called `run_model1b` that implements a model where the number of births is constant, but the number of deaths is proportional to the current size of the population.  Set the death rate to `0.01`, which means that 1% of the population dies each year; then choose the number of annual births to make the model fit the data as well as you can.\n",
      "\n",
      "Hint: It probably won't fit very well."
     ]
    },
    {
     "cell_type": "code",
     "collapsed": false,
     "input": [
      "# Solution goes here"
     ],
     "language": "python",
     "metadata": {},
     "outputs": [],
     "prompt_number": 38
    },
    {
     "cell_type": "code",
     "collapsed": false,
     "input": [
      "# Solution goes here"
     ],
     "language": "python",
     "metadata": {},
     "outputs": [],
     "prompt_number": 39
    },
    {
     "cell_type": "heading",
     "level": 2,
     "metadata": {},
     "source": [
      "Proportional death, proportional birth"
     ]
    },
    {
     "cell_type": "markdown",
     "metadata": {},
     "source": [
      "Now let's get to a more realistic model where the number of births and deaths is proportional to the current population."
     ]
    },
    {
     "cell_type": "code",
     "collapsed": true,
     "input": [
      "def run_model2(state):\n",
      "    model = Series([])\n",
      "    model[state.t0] = state.p0\n",
      "    for year in arange(state.t0, state.t_end):\n",
      "        births = state.birth_rate * model[year]\n",
      "        deaths = state.death_rate * model[year]\n",
      "        model[year+1] = model[year] + births - deaths\n",
      "    state.model = model"
     ],
     "language": "python",
     "metadata": {},
     "outputs": [],
     "prompt_number": 40
    },
    {
     "cell_type": "markdown",
     "metadata": {},
     "source": [
      "I kept the death rate at 1% and chose the birth rate to fit the data."
     ]
    },
    {
     "cell_type": "code",
     "collapsed": false,
     "input": [
      "state.death_rate = 0.01\n",
      "state.birth_rate = 0.027"
     ],
     "language": "python",
     "metadata": {},
     "outputs": [],
     "prompt_number": 41
    },
    {
     "cell_type": "markdown",
     "metadata": {},
     "source": [
      "Here's what it looks like."
     ]
    },
    {
     "cell_type": "code",
     "collapsed": false,
     "input": [
      "run_model2(state)\n",
      "plot_model(state, title='Proportional model')\n",
      "savefig('chap03-fig03.pdf')"
     ],
     "language": "python",
     "metadata": {},
     "outputs": [
      {
       "output_type": "stream",
       "stream": "stdout",
       "text": [
        "Saving figure to file chap03-fig03.pdf\n"
       ]
      },
      {
       "metadata": {},
       "output_type": "display_data",
       "png": "[encoded data removed]",
       "text": [
        "<matplotlib.figure.Figure at 0x7f1f34b4de48>"
       ]
      }
     ],
     "prompt_number": 42
    },
    {
     "cell_type": "markdown",
     "metadata": {},
     "source": [
      "The model fits the data pretty well for the first 20 years, but not so well after that."
     ]
    },
    {
     "cell_type": "markdown",
     "metadata": {},
     "source": [
      "**Exercise:** In this implementation, we compute the number of deaths and births separately, but since they are both proportional to the current population, we can combine them.\n",
      "\n",
      "Write a function called `run_model2b` that implements a model with a single parameter, `alpha`, that represents the net growth rate, which is the difference between the birth and death rates.  For example, if `alpha=0.01`, the population should grow by 1% per year.\n",
      "\n",
      "Choose the value of `alpha` that fits the data best."
     ]
    },
    {
     "cell_type": "code",
     "collapsed": true,
     "input": [
      "# Solution goes here"
     ],
     "language": "python",
     "metadata": {},
     "outputs": [],
     "prompt_number": 43
    },
    {
     "cell_type": "code",
     "collapsed": false,
     "input": [
      "# Solution goes here"
     ],
     "language": "python",
     "metadata": {},
     "outputs": [],
     "prompt_number": 44
    },
    {
     "cell_type": "heading",
     "level": 3,
     "metadata": {},
     "source": [
      "Factoring out the update function"
     ]
    },
    {
     "cell_type": "markdown",
     "metadata": {},
     "source": [
      "The functions that run the model all look the same except the body of the loop.  So we can factor that part out into a function."
     ]
    },
    {
     "cell_type": "code",
     "collapsed": false,
     "input": [
      "def update_func1(year, pop, state):\n",
      "    \"\"\"Compute the population next year.\n",
      "    \n",
      "    year: current year\n",
      "    pop: current population\n",
      "    state: State object containing parameters of the model\n",
      "    \n",
      "    returns: population next year\n",
      "    \"\"\"\n",
      "    births = state.birth_rate * pop\n",
      "    deaths = state.death_rate * pop\n",
      "    return pop + births - deaths"
     ],
     "language": "python",
     "metadata": {},
     "outputs": [],
     "prompt_number": 45
    },
    {
     "cell_type": "markdown",
     "metadata": {},
     "source": [
      "Now the name `update_func1` refers to a function object."
     ]
    },
    {
     "cell_type": "code",
     "collapsed": false,
     "input": [
      "update_func1"
     ],
     "language": "python",
     "metadata": {},
     "outputs": [
      {
       "metadata": {},
       "output_type": "pyout",
       "prompt_number": 46,
       "text": [
        "<function __main__.update_func1>"
       ]
      }
     ],
     "prompt_number": 46
    },
    {
     "cell_type": "markdown",
     "metadata": {},
     "source": [
      "Which we can confirm by checking its type."
     ]
    },
    {
     "cell_type": "code",
     "collapsed": false,
     "input": [
      "type(update_func1)"
     ],
     "language": "python",
     "metadata": {},
     "outputs": [
      {
       "metadata": {},
       "output_type": "pyout",
       "prompt_number": 47,
       "text": [
        "function"
       ]
      }
     ],
     "prompt_number": 47
    },
    {
     "cell_type": "markdown",
     "metadata": {},
     "source": [
      "`run_any_model` takes the update function as a parameter and calls it just like any other function."
     ]
    },
    {
     "cell_type": "code",
     "collapsed": true,
     "input": [
      "def run_any_model(state, update_func):\n",
      "    \"\"\"Run a model.\n",
      "    \n",
      "    state: State object\n",
      "    update_func: function that computes the population next year\n",
      "    \"\"\"\n",
      "    model = Series([])\n",
      "    model[state.t0] = state.p0\n",
      "    for year in arange(state.t0, state.t_end):\n",
      "        model[year+1] = update_func(year, model[year], state)\n",
      "    state.model = model"
     ],
     "language": "python",
     "metadata": {},
     "outputs": [],
     "prompt_number": 48
    },
    {
     "cell_type": "markdown",
     "metadata": {},
     "source": [
      "Here's how we use it."
     ]
    },
    {
     "cell_type": "code",
     "collapsed": false,
     "input": [
      "run_any_model(state, update_func1)"
     ],
     "language": "python",
     "metadata": {},
     "outputs": [],
     "prompt_number": 49
    },
    {
     "cell_type": "markdown",
     "metadata": {},
     "source": [
      "Remember not to put parentheses after `update_func1`.  What happens if you try?"
     ]
    },
    {
     "cell_type": "code",
     "collapsed": false,
     "input": [
      "plot_model(state, title='Proportional model, factored')"
     ],
     "language": "python",
     "metadata": {},
     "outputs": [
      {
       "metadata": {},
       "output_type": "display_data",
       "png": "[encoded data removed]",
       "text": [
        "<matplotlib.figure.Figure at 0x7f1f34a4c128>"
       ]
      }
     ],
     "prompt_number": 50
    },
    {
     "cell_type": "markdown",
     "metadata": {},
     "source": [
      "**Exercise:** When you run `run_any_model`, it runs `update_func1` once for each year between `t0` and `t_end`.  To see that for yourself, add a print statement at the beginning of `update_func1` that prints the values of `year` and `pop`, then run `run_any_model` again."
     ]
    },
    {
     "cell_type": "heading",
     "level": 3,
     "metadata": {},
     "source": [
      "Combining birth and death"
     ]
    },
    {
     "cell_type": "markdown",
     "metadata": {},
     "source": [
      "Since births and deaths get added up, we don't have to compute them separately.  We can combine the birth and death rates into a single net growth rate."
     ]
    },
    {
     "cell_type": "code",
     "collapsed": false,
     "input": [
      "def update_func1b(year, pop, state):\n",
      "    net_growth = state.alpha  * pop\n",
      "    return pop + net_growth"
     ],
     "language": "python",
     "metadata": {},
     "outputs": [],
     "prompt_number": 51
    },
    {
     "cell_type": "markdown",
     "metadata": {},
     "source": [
      "Here's how it works:"
     ]
    },
    {
     "cell_type": "code",
     "collapsed": false,
     "input": [
      "state.alpha = state.birth_rate - state.death_rate\n",
      "\n",
      "run_any_model(state, update_func1b)\n",
      "plot_model(state, title='Proportional model, combined birth and death')"
     ],
     "language": "python",
     "metadata": {},
     "outputs": [
      {
       "metadata": {},
       "output_type": "display_data",
       "png": "[encoded data removed]",
       "text": [
        "<matplotlib.figure.Figure at 0x7f1f348941d0>"
       ]
      }
     ],
     "prompt_number": 52
    },
    {
     "cell_type": "markdown",
     "metadata": {},
     "source": [
      "**Exercise:** Maybe the reason the proportional model doesn't work very well is that the growth rate, `alpha`, might be changing over time.  So let's try a model with different growth rates before and after 1980 (as an arbitrary choice).\n",
      "\n",
      "Write a function called `update_func1c` that takes `year`, `pop`, and `state` as parameters.  The state object, `state`, should contains two parameters: the growth rate before 1980, `alpha1`, and the growth rate after 1980, `alpha2`.  It should compute and return the simulated population one year later.\n",
      "\n",
      "Note: Don't forget the `return` statement."
     ]
    },
    {
     "cell_type": "code",
     "collapsed": false,
     "input": [
      "# Solution goes here"
     ],
     "language": "python",
     "metadata": {
      "scrolled": false
     },
     "outputs": [],
     "prompt_number": 53
    },
    {
     "cell_type": "code",
     "collapsed": false,
     "input": [
      "# Solution goes here"
     ],
     "language": "python",
     "metadata": {},
     "outputs": [],
     "prompt_number": 54
    },
    {
     "cell_type": "heading",
     "level": 3,
     "metadata": {},
     "source": [
      "Quadratic growth"
     ]
    },
    {
     "cell_type": "markdown",
     "metadata": {},
     "source": [
      "Here's the implementation of the quadratic growth model."
     ]
    },
    {
     "cell_type": "code",
     "collapsed": false,
     "input": [
      "def update_func3(year, pop, state):\n",
      "    net_growth = state.alpha * pop + state.beta * pop**2\n",
      "    return pop + net_growth"
     ],
     "language": "python",
     "metadata": {},
     "outputs": [],
     "prompt_number": 55
    },
    {
     "cell_type": "markdown",
     "metadata": {},
     "source": [
      "And here are the results.  Can you find values for the parameters that make the model fit better?"
     ]
    },
    {
     "cell_type": "code",
     "collapsed": false,
     "input": [
      "state.alpha = 0.025\n",
      "state.beta = -0.0018\n",
      "\n",
      "run_any_model(state, update_func3)\n",
      "plot_model(state, title='Quadratic model')\n",
      "savefig('chap03-fig04.pdf')"
     ],
     "language": "python",
     "metadata": {},
     "outputs": [
      {
       "output_type": "stream",
       "stream": "stdout",
       "text": [
        "Saving figure to file chap03-fig04.pdf\n"
       ]
      },
      {
       "metadata": {},
       "output_type": "display_data",
       "png": "[encoded data removed]",
       "text": [
        "<matplotlib.figure.Figure at 0x7f1f347bf5f8>"
       ]
      }
     ],
     "prompt_number": 56
    },
    {
     "cell_type": "markdown",
     "metadata": {},
     "source": [
      "To understand the quadratic model better, let's plot net growth as a function of population."
     ]
    },
    {
     "cell_type": "code",
     "collapsed": true,
     "input": [
      "pop_array = linspace(0.001, 15, 100)\n",
      "net_growth_array = state.alpha * pop_array + state.beta * pop_array**2"
     ],
     "language": "python",
     "metadata": {},
     "outputs": [],
     "prompt_number": 57
    },
    {
     "cell_type": "markdown",
     "metadata": {},
     "source": [
      "Here's what it looks like.  Remember that the x axis is population now, not time.\n",
      "\n",
      "The function `sns.set` sets the style for the plots.  I added a grid to this one to make it easier to read."
     ]
    },
    {
     "cell_type": "code",
     "collapsed": false,
     "input": [
      "newfig()\n",
      "sns.set(style='whitegrid', font_scale=1.5)\n",
      "plot(pop_array, net_growth_array, '-')\n",
      "decorate(xlabel='Population (billions)',\n",
      "         ylabel='Net growth (billions)',\n",
      "         legend=False)\n",
      "savefig('chap03-fig05.pdf')"
     ],
     "language": "python",
     "metadata": {},
     "outputs": [
      {
       "output_type": "stream",
       "stream": "stdout",
       "text": [
        "Saving figure to file chap03-fig05.pdf\n"
       ]
      },
      {
       "metadata": {},
       "output_type": "display_data",
       "png": "[encoded data removed]",
       "text": [
        "<matplotlib.figure.Figure at 0x7f1f3470c780>"
       ]
      }
     ],
     "prompt_number": 58
    },
    {
     "cell_type": "markdown",
     "metadata": {},
     "source": [
      "Using `sns.set` to reset the plot style."
     ]
    },
    {
     "cell_type": "code",
     "collapsed": true,
     "input": [
      "sns.set(style='white', font_scale=1.5)"
     ],
     "language": "python",
     "metadata": {},
     "outputs": [],
     "prompt_number": 59
    },
    {
     "cell_type": "markdown",
     "metadata": {},
     "source": [
      "In the book we found that the net growth is 0 when the population is $-\\alpha/\\beta$:"
     ]
    },
    {
     "cell_type": "code",
     "collapsed": false,
     "input": [
      "-state.alpha / state.beta"
     ],
     "language": "python",
     "metadata": {},
     "outputs": [
      {
       "metadata": {},
       "output_type": "pyout",
       "prompt_number": 60,
       "text": [
        "13.88888888888889"
       ]
      }
     ],
     "prompt_number": 60
    },
    {
     "cell_type": "markdown",
     "metadata": {},
     "source": [
      "This is the equilibrium the population tends toward."
     ]
    },
    {
     "cell_type": "markdown",
     "metadata": {},
     "source": [
      "**Exercise:** In the book, I presented a different way to parameterize the quadratic model:\n",
      "\n",
      "$ \\Delta p = r p (1 - p / K) $\n",
      "\n",
      "where $r=\\alpha$ and $K=\\alpha/\\beta$.  Write a version of `update_func3` that implements this version of the model.  Test it by computing state variables `r` and `K` equivalent to `alpha` and `beta`, and confirm that you get the same results. "
     ]
    },
    {
     "cell_type": "code",
     "collapsed": false,
     "input": [
      "# Solution goes here"
     ],
     "language": "python",
     "metadata": {},
     "outputs": [],
     "prompt_number": 61
    },
    {
     "cell_type": "code",
     "collapsed": false,
     "input": [
      "# Solution goes here"
     ],
     "language": "python",
     "metadata": {},
     "outputs": [],
     "prompt_number": 62
    },
    {
     "cell_type": "code",
     "collapsed": false,
     "input": [
      "# Solution goes here"
     ],
     "language": "python",
     "metadata": {},
     "outputs": [],
     "prompt_number": 63
    },
    {
     "cell_type": "markdown",
     "metadata": {},
     "source": [
      "**Exercise:** On the Wikipedia page about world population estimates, the first table contains estimates for prehistoric populations.  The following cells process this table and plot some of the results."
     ]
    },
    {
     "cell_type": "markdown",
     "metadata": {},
     "source": [
      "Select `table1`, which is the second table on the page."
     ]
    },
    {
     "cell_type": "code",
     "collapsed": false,
     "input": [
      "table1 = tables[1]\n",
      "table1.head()"
     ],
     "language": "python",
     "metadata": {},
     "outputs": [
      {
       "html": [
        "<div>\n",
        "<style>\n",
        "    .dataframe thead tr:only-child th {\n",
        "        text-align: right;\n",
        "    }\n",
        "\n",
        "    .dataframe thead th {\n",
        "        text-align: left;\n",
        "    }\n",
        "\n",
        "    .dataframe tbody tr th {\n",
        "        vertical-align: top;\n",
        "    }\n",
        "</style>\n",
        "<table border=\"1\" class=\"dataframe\">\n",
        "  <thead>\n",
        "    <tr style=\"text-align: right;\">\n",
        "      <th></th>\n",
        "      <th>Population Reference Bureau (1973\u20132015)[6]</th>\n",
        "      <th>United Nations Department of Economic and Social Affairs (2015)[7]</th>\n",
        "      <th>Maddison (2008)[8]</th>\n",
        "      <th>HYDE (2010)[citation needed]</th>\n",
        "      <th>Tanton (1994)[9]</th>\n",
        "      <th>Biraben (1980)[10]</th>\n",
        "      <th>McEvedy &amp; Jones (1978)[11]</th>\n",
        "      <th>Thomlinson (1975)[12]</th>\n",
        "      <th>Durand (1974)[13]</th>\n",
        "      <th>Clark (1967)[14]</th>\n",
        "    </tr>\n",
        "    <tr>\n",
        "      <th>Year</th>\n",
        "      <th></th>\n",
        "      <th></th>\n",
        "      <th></th>\n",
        "      <th></th>\n",
        "      <th></th>\n",
        "      <th></th>\n",
        "      <th></th>\n",
        "      <th></th>\n",
        "      <th></th>\n",
        "      <th></th>\n",
        "    </tr>\n",
        "  </thead>\n",
        "  <tbody>\n",
        "    <tr>\n",
        "      <th>-10000</th>\n",
        "      <td>NaN</td>\n",
        "      <td>NaN</td>\n",
        "      <td>NaN</td>\n",
        "      <td>2M[15]</td>\n",
        "      <td>NaN</td>\n",
        "      <td>NaN</td>\n",
        "      <td>4.0</td>\n",
        "      <td>1\u201310M</td>\n",
        "      <td>NaN</td>\n",
        "      <td>NaN</td>\n",
        "    </tr>\n",
        "    <tr>\n",
        "      <th>-9000</th>\n",
        "      <td>NaN</td>\n",
        "      <td>NaN</td>\n",
        "      <td>NaN</td>\n",
        "      <td>4.</td>\n",
        "      <td>NaN</td>\n",
        "      <td>NaN</td>\n",
        "      <td>NaN</td>\n",
        "      <td>NaN</td>\n",
        "      <td>NaN</td>\n",
        "      <td>NaN</td>\n",
        "    </tr>\n",
        "    <tr>\n",
        "      <th>-8000</th>\n",
        "      <td>5.0</td>\n",
        "      <td>NaN</td>\n",
        "      <td>NaN</td>\n",
        "      <td>5.</td>\n",
        "      <td>NaN</td>\n",
        "      <td>NaN</td>\n",
        "      <td>NaN</td>\n",
        "      <td>NaN</td>\n",
        "      <td>5\u201310M</td>\n",
        "      <td>NaN</td>\n",
        "    </tr>\n",
        "    <tr>\n",
        "      <th>-7000</th>\n",
        "      <td>NaN</td>\n",
        "      <td>NaN</td>\n",
        "      <td>NaN</td>\n",
        "      <td>8.</td>\n",
        "      <td>NaN</td>\n",
        "      <td>NaN</td>\n",
        "      <td>NaN</td>\n",
        "      <td>NaN</td>\n",
        "      <td>NaN</td>\n",
        "      <td>NaN</td>\n",
        "    </tr>\n",
        "    <tr>\n",
        "      <th>-6000</th>\n",
        "      <td>NaN</td>\n",
        "      <td>NaN</td>\n",
        "      <td>NaN</td>\n",
        "      <td>11.</td>\n",
        "      <td>NaN</td>\n",
        "      <td>NaN</td>\n",
        "      <td>NaN</td>\n",
        "      <td>NaN</td>\n",
        "      <td>NaN</td>\n",
        "      <td>NaN</td>\n",
        "    </tr>\n",
        "  </tbody>\n",
        "</table>\n",
        "</div>"
       ],
       "metadata": {},
       "output_type": "pyout",
       "prompt_number": 64,
       "text": [
        "        Population Reference Bureau (1973\u20132015)[6]  \\\n",
        "Year                                                 \n",
        "-10000                                         NaN   \n",
        "-9000                                          NaN   \n",
        "-8000                                          5.0   \n",
        "-7000                                          NaN   \n",
        "-6000                                          NaN   \n",
        "\n",
        "        United Nations Department of Economic and Social Affairs (2015)[7]  \\\n",
        "Year                                                                         \n",
        "-10000                                                NaN                    \n",
        "-9000                                                 NaN                    \n",
        "-8000                                                 NaN                    \n",
        "-7000                                                 NaN                    \n",
        "-6000                                                 NaN                    \n",
        "\n",
        "       Maddison (2008)[8] HYDE (2010)[citation needed]  Tanton (1994)[9]  \\\n",
        "Year                                                                       \n",
        "-10000                NaN                       2M[15]               NaN   \n",
        "-9000                 NaN                           4.               NaN   \n",
        "-8000                 NaN                           5.               NaN   \n",
        "-7000                 NaN                           8.               NaN   \n",
        "-6000                 NaN                          11.               NaN   \n",
        "\n",
        "        Biraben (1980)[10]  McEvedy & Jones (1978)[11] Thomlinson (1975)[12]  \\\n",
        "Year                                                                           \n",
        "-10000                 NaN                         4.0                 1\u201310M   \n",
        "-9000                  NaN                         NaN                   NaN   \n",
        "-8000                  NaN                         NaN                   NaN   \n",
        "-7000                  NaN                         NaN                   NaN   \n",
        "-6000                  NaN                         NaN                   NaN   \n",
        "\n",
        "       Durand (1974)[13] Clark (1967)[14]  \n",
        "Year                                       \n",
        "-10000               NaN              NaN  \n",
        "-9000                NaN              NaN  \n",
        "-8000              5\u201310M              NaN  \n",
        "-7000                NaN              NaN  \n",
        "-6000                NaN              NaN  "
       ]
      }
     ],
     "prompt_number": 64
    },
    {
     "cell_type": "markdown",
     "metadata": {},
     "source": [
      "Not all agencies and researchers provided estimates for the same dates.  Again `NaN` is the special value that indicates missing data."
     ]
    },
    {
     "cell_type": "code",
     "collapsed": false,
     "input": [
      "table1.tail()"
     ],
     "language": "python",
     "metadata": {},
     "outputs": [
      {
       "html": [
        "<div>\n",
        "<style>\n",
        "    .dataframe thead tr:only-child th {\n",
        "        text-align: right;\n",
        "    }\n",
        "\n",
        "    .dataframe thead th {\n",
        "        text-align: left;\n",
        "    }\n",
        "\n",
        "    .dataframe tbody tr th {\n",
        "        vertical-align: top;\n",
        "    }\n",
        "</style>\n",
        "<table border=\"1\" class=\"dataframe\">\n",
        "  <thead>\n",
        "    <tr style=\"text-align: right;\">\n",
        "      <th></th>\n",
        "      <th>Population Reference Bureau (1973\u20132015)[6]</th>\n",
        "      <th>United Nations Department of Economic and Social Affairs (2015)[7]</th>\n",
        "      <th>Maddison (2008)[8]</th>\n",
        "      <th>HYDE (2010)[citation needed]</th>\n",
        "      <th>Tanton (1994)[9]</th>\n",
        "      <th>Biraben (1980)[10]</th>\n",
        "      <th>McEvedy &amp; Jones (1978)[11]</th>\n",
        "      <th>Thomlinson (1975)[12]</th>\n",
        "      <th>Durand (1974)[13]</th>\n",
        "      <th>Clark (1967)[14]</th>\n",
        "    </tr>\n",
        "    <tr>\n",
        "      <th>Year</th>\n",
        "      <th></th>\n",
        "      <th></th>\n",
        "      <th></th>\n",
        "      <th></th>\n",
        "      <th></th>\n",
        "      <th></th>\n",
        "      <th></th>\n",
        "      <th></th>\n",
        "      <th></th>\n",
        "      <th></th>\n",
        "    </tr>\n",
        "  </thead>\n",
        "  <tbody>\n",
        "    <tr>\n",
        "      <th>1913</th>\n",
        "      <td>NaN</td>\n",
        "      <td>NaN</td>\n",
        "      <td>1793.</td>\n",
        "      <td>NaN</td>\n",
        "      <td>NaN</td>\n",
        "      <td>NaN</td>\n",
        "      <td>NaN</td>\n",
        "      <td>NaN</td>\n",
        "      <td>NaN</td>\n",
        "      <td>NaN</td>\n",
        "    </tr>\n",
        "    <tr>\n",
        "      <th>1920</th>\n",
        "      <td>NaN</td>\n",
        "      <td>1860.0</td>\n",
        "      <td>1863.</td>\n",
        "      <td>1912.</td>\n",
        "      <td>NaN</td>\n",
        "      <td>NaN</td>\n",
        "      <td>NaN</td>\n",
        "      <td>NaN</td>\n",
        "      <td>NaN</td>\n",
        "      <td>1968.</td>\n",
        "    </tr>\n",
        "    <tr>\n",
        "      <th>1925</th>\n",
        "      <td>NaN</td>\n",
        "      <td>NaN</td>\n",
        "      <td>NaN</td>\n",
        "      <td>NaN</td>\n",
        "      <td>NaN</td>\n",
        "      <td>NaN</td>\n",
        "      <td>2000.0</td>\n",
        "      <td>NaN</td>\n",
        "      <td>NaN</td>\n",
        "      <td>NaN</td>\n",
        "    </tr>\n",
        "    <tr>\n",
        "      <th>1930</th>\n",
        "      <td>NaN</td>\n",
        "      <td>2070.0</td>\n",
        "      <td>NaN</td>\n",
        "      <td>2092.</td>\n",
        "      <td>NaN</td>\n",
        "      <td>NaN</td>\n",
        "      <td>NaN</td>\n",
        "      <td>NaN</td>\n",
        "      <td>NaN</td>\n",
        "      <td>2145.</td>\n",
        "    </tr>\n",
        "    <tr>\n",
        "      <th>1940</th>\n",
        "      <td>NaN</td>\n",
        "      <td>2300.0</td>\n",
        "      <td>2299.</td>\n",
        "      <td>2307.</td>\n",
        "      <td>NaN</td>\n",
        "      <td>NaN</td>\n",
        "      <td>NaN</td>\n",
        "      <td>NaN</td>\n",
        "      <td>NaN</td>\n",
        "      <td>2340.</td>\n",
        "    </tr>\n",
        "  </tbody>\n",
        "</table>\n",
        "</div>"
       ],
       "metadata": {},
       "output_type": "pyout",
       "prompt_number": 65,
       "text": [
        "      Population Reference Bureau (1973\u20132015)[6]  \\\n",
        "Year                                               \n",
        "1913                                         NaN   \n",
        "1920                                         NaN   \n",
        "1925                                         NaN   \n",
        "1930                                         NaN   \n",
        "1940                                         NaN   \n",
        "\n",
        "      United Nations Department of Economic and Social Affairs (2015)[7]  \\\n",
        "Year                                                                       \n",
        "1913                                                NaN                    \n",
        "1920                                             1860.0                    \n",
        "1925                                                NaN                    \n",
        "1930                                             2070.0                    \n",
        "1940                                             2300.0                    \n",
        "\n",
        "     Maddison (2008)[8] HYDE (2010)[citation needed]  Tanton (1994)[9]  \\\n",
        "Year                                                                     \n",
        "1913              1793.                          NaN               NaN   \n",
        "1920              1863.                        1912.               NaN   \n",
        "1925                NaN                          NaN               NaN   \n",
        "1930                NaN                        2092.               NaN   \n",
        "1940              2299.                        2307.               NaN   \n",
        "\n",
        "      Biraben (1980)[10]  McEvedy & Jones (1978)[11] Thomlinson (1975)[12]  \\\n",
        "Year                                                                         \n",
        "1913                 NaN                         NaN                   NaN   \n",
        "1920                 NaN                         NaN                   NaN   \n",
        "1925                 NaN                      2000.0                   NaN   \n",
        "1930                 NaN                         NaN                   NaN   \n",
        "1940                 NaN                         NaN                   NaN   \n",
        "\n",
        "     Durand (1974)[13] Clark (1967)[14]  \n",
        "Year                                     \n",
        "1913               NaN              NaN  \n",
        "1920               NaN            1968.  \n",
        "1925               NaN              NaN  \n",
        "1930               NaN            2145.  \n",
        "1940               NaN            2340.  "
       ]
      }
     ],
     "prompt_number": 65
    },
    {
     "cell_type": "markdown",
     "metadata": {},
     "source": [
      "Some of the estimates are in a form we can't read as numbers.  We could clean them up by hand, but for simplicity I'll replace any value that has an `M` in it with `NaN`."
     ]
    },
    {
     "cell_type": "code",
     "collapsed": false,
     "input": [
      "table1.replace('M', np.nan, regex=True, inplace=True)"
     ],
     "language": "python",
     "metadata": {},
     "outputs": [],
     "prompt_number": 66
    },
    {
     "cell_type": "markdown",
     "metadata": {},
     "source": [
      "Again, we'll replace the long column names with more convenient abbreviations."
     ]
    },
    {
     "cell_type": "code",
     "collapsed": false,
     "input": [
      "table1.columns = ['prb', 'un', 'maddison', 'hyde', 'tanton', \n",
      "                  'biraben', 'mj', 'thomlinson', 'durand', 'clark']"
     ],
     "language": "python",
     "metadata": {},
     "outputs": [],
     "prompt_number": 67
    },
    {
     "cell_type": "markdown",
     "metadata": {},
     "source": [
      "This function plots selected estimates."
     ]
    },
    {
     "cell_type": "code",
     "collapsed": false,
     "input": [
      "def plot_prehistory(table):\n",
      "    \"\"\"Plots population estimates.\n",
      "    \n",
      "    table: DataFrame\n",
      "    \"\"\"\n",
      "    plot(table.prb, 'ro', label='PRB')\n",
      "    plot(table.un, 'co', label='UN')\n",
      "    plot(table.hyde, 'yo', label='HYDE')\n",
      "    plot(table.tanton, 'go', label='Tanton')\n",
      "    plot(table.biraben, 'bo', label='Biraben')\n",
      "    plot(table.mj, 'mo', label='McEvedy & Jones')"
     ],
     "language": "python",
     "metadata": {},
     "outputs": [],
     "prompt_number": 68
    },
    {
     "cell_type": "markdown",
     "metadata": {},
     "source": [
      "Here are the results.  Notice that we are working in millions now, not billions."
     ]
    },
    {
     "cell_type": "code",
     "collapsed": false,
     "input": [
      "newfig()\n",
      "plot_prehistory(table1)\n",
      "decorate(xlabel='Year', \n",
      "         ylabel='World population (millions)',\n",
      "         title='Prehistorical population estimates')"
     ],
     "language": "python",
     "metadata": {
      "scrolled": false
     },
     "outputs": [
      {
       "metadata": {},
       "output_type": "display_data",
       "png": "[encoded data removed]",
       "text": [
        "<matplotlib.figure.Figure at 0x7f1f345f7dd8>"
       ]
      }
     ],
     "prompt_number": 69
    },
    {
     "cell_type": "markdown",
     "metadata": {},
     "source": [
      "We can use `xlim` to zoom in on everything after Year 0."
     ]
    },
    {
     "cell_type": "code",
     "collapsed": false,
     "input": [
      "newfig()\n",
      "plot_prehistory(table1)\n",
      "decorate(xlim=[0, 2000], xlabel='Year', \n",
      "         ylabel='World population (millions)',\n",
      "         title='Prehistorical population estimates')"
     ],
     "language": "python",
     "metadata": {},
     "outputs": [
      {
       "metadata": {},
       "output_type": "display_data",
       "png": "[encoded data removed]",
       "text": [
        "<matplotlib.figure.Figure at 0x7f1f34687f28>"
       ]
      }
     ],
     "prompt_number": 70
    },
    {
     "cell_type": "markdown",
     "metadata": {},
     "source": [
      "See if you can find a model that fits these data well from Year -1000 to 1940, or from Year 0 to 1940.\n",
      "\n",
      "How well does your best model predict actual population growth from 1950 to the present?"
     ]
    },
    {
     "cell_type": "code",
     "collapsed": false,
     "input": [
      "# Solution goes here"
     ],
     "language": "python",
     "metadata": {},
     "outputs": [],
     "prompt_number": 71
    },
    {
     "cell_type": "code",
     "collapsed": false,
     "input": [
      "# Solution goes here"
     ],
     "language": "python",
     "metadata": {},
     "outputs": [],
     "prompt_number": 72
    },
    {
     "cell_type": "code",
     "collapsed": false,
     "input": [
      "# Solution goes here"
     ],
     "language": "python",
     "metadata": {},
     "outputs": [],
     "prompt_number": 73
    },
    {
     "cell_type": "code",
     "collapsed": true,
     "input": [],
     "language": "python",
     "metadata": {},
     "outputs": [],
     "prompt_number": null
    },
    {
     "cell_type": "code",
     "collapsed": true,
     "input": [],
     "language": "python",
     "metadata": {},
     "outputs": [],
     "prompt_number": null
    }
   ],
   "metadata": {}
  }
 ]
}