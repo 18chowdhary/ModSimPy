{
 "cells": [
  {
   "cell_type": "markdown",
   "metadata": {},
   "source": [
    "# Modeling and Simulation in Python\n",
    "\n",
    "Chapter 1:\n",
    "\n",
    "Copyright 2017 Allen Downey\n",
    "\n",
    "License: [Creative Commons Attribution 4.0 International](https://creativecommons.org/licenses/by/4.0)\n"
   ]
  },
  {
   "cell_type": "code",
   "execution_count": 2,
   "metadata": {
    "collapsed": false
   },
   "outputs": [],
   "source": [
    "# If you want the figures to appear in the notebook, use\n",
    "# %matplotlib notebook\n",
    "\n",
    "# If you want the figures to appear in separate windows, use\n",
    "# %matplotlib qt\n",
    "\n",
    "# To switch from one to another, you have to select Kernel->Restart\n",
    "\n",
    "%matplotlib notebook\n",
    "\n",
    "from modsim import *"
   ]
  },
  {
   "cell_type": "markdown",
   "metadata": {},
   "source": [
    "## Modeling a bikeshare system"
   ]
  },
  {
   "cell_type": "code",
   "execution_count": 3,
   "metadata": {
    "collapsed": false
   },
   "outputs": [],
   "source": [
    "bikeshare = State(olin=10, wellesley=2)"
   ]
  },
  {
   "cell_type": "markdown",
   "metadata": {},
   "source": []
  },
  {
   "cell_type": "code",
   "execution_count": 4,
   "metadata": {
    "collapsed": false
   },
   "outputs": [
    {
     "data": {
      "text/plain": [
       "10"
      ]
     },
     "execution_count": 4,
     "metadata": {},
     "output_type": "execute_result"
    }
   ],
   "source": [
    "bikeshare.olin"
   ]
  },
  {
   "cell_type": "markdown",
   "metadata": {},
   "source": []
  },
  {
   "cell_type": "code",
   "execution_count": 5,
   "metadata": {
    "collapsed": false
   },
   "outputs": [
    {
     "data": {
      "text/plain": [
       "2"
      ]
     },
     "execution_count": 5,
     "metadata": {},
     "output_type": "execute_result"
    }
   ],
   "source": [
    "bikeshare.wellesley"
   ]
  },
  {
   "cell_type": "markdown",
   "metadata": {},
   "source": []
  },
  {
   "cell_type": "code",
   "execution_count": 6,
   "metadata": {
    "collapsed": false
   },
   "outputs": [
    {
     "name": "stdout",
     "output_type": "stream",
     "text": [
      "wellesley = 2\n",
      "olin = 10\n"
     ]
    }
   ],
   "source": [
    "print_state(bikeshare)"
   ]
  },
  {
   "cell_type": "markdown",
   "metadata": {},
   "source": [
    "**Exercise:** Add a third attribute called `babson` with initial value 0, and print the state of `bikeshare` again."
   ]
  },
  {
   "cell_type": "markdown",
   "metadata": {},
   "source": [
    "## Plotting"
   ]
  },
  {
   "cell_type": "code",
   "execution_count": 6,
   "metadata": {
    "collapsed": false
   },
   "outputs": [],
   "source": [
    "newfig()\n",
    "plot(bikeshare.olin, 'rs-')\n",
    "plot(bikeshare.wellesley, 'bo-')"
   ]
  },
  {
   "cell_type": "markdown",
   "metadata": {},
   "source": []
  },
  {
   "cell_type": "code",
   "execution_count": 7,
   "metadata": {
    "collapsed": false
   },
   "outputs": [],
   "source": [
    "bikeshare.olin -= 1\n",
    "bikeshare.wellesley += 1"
   ]
  },
  {
   "cell_type": "markdown",
   "metadata": {},
   "source": []
  },
  {
   "cell_type": "code",
   "execution_count": 8,
   "metadata": {
    "collapsed": true
   },
   "outputs": [],
   "source": [
    "plot(bikeshare.olin, 'rs-')\n",
    "plot(bikeshare.wellesley, 'bo-')"
   ]
  },
  {
   "cell_type": "markdown",
   "metadata": {},
   "source": [
    "**Exercise:** Read the [documentation of the Matplotlib function `plot`](https://matplotlib.org/api/pyplot_api.html#matplotlib.pyplot.plot) and modify these lines to plot different shapes with different colors."
   ]
  },
  {
   "cell_type": "markdown",
   "metadata": {},
   "source": [
    "## Functions"
   ]
  },
  {
   "cell_type": "code",
   "execution_count": 11,
   "metadata": {
    "collapsed": true
   },
   "outputs": [],
   "source": [
    "def bike_to_wellesley():\n",
    "    bikeshare.olin -= 1\n",
    "    bikeshare.wellesley += 1"
   ]
  },
  {
   "cell_type": "markdown",
   "metadata": {},
   "source": []
  },
  {
   "cell_type": "code",
   "execution_count": 12,
   "metadata": {
    "collapsed": true
   },
   "outputs": [],
   "source": [
    "def plot_state():\n",
    "    plot(bikeshare.olin, 'rs-', label='Olin')\n",
    "    plot(bikeshare.wellesley, 'bo-', label='Wellesley')"
   ]
  },
  {
   "cell_type": "markdown",
   "metadata": {},
   "source": []
  },
  {
   "cell_type": "code",
   "execution_count": 13,
   "metadata": {
    "collapsed": false
   },
   "outputs": [
    {
     "data": {
      "application/javascript": [
       "/* Put everything inside the global mpl namespace */\n",
       "window.mpl = {};\n",
       "\n",
       "mpl.get_websocket_type = function() {\n",
       "    if (typeof(WebSocket) !== 'undefined') {\n",
       "        return WebSocket;\n",
       "    } else if (typeof(MozWebSocket) !== 'undefined') {\n",
       "        return MozWebSocket;\n",
       "    } else {\n",
       "        alert('Your browser does not have WebSocket support.' +\n",
       "              'Please try Chrome, Safari or Firefox ≥ 6. ' +\n",
       "              'Firefox 4 and 5 are also supported but you ' +\n",
       "              'have to enable WebSockets in about:config.');\n",
       "    };\n",
       "}\n",
       "\n",
       "mpl.figure = function(figure_id, websocket, ondownload, parent_element) {\n",
       "    this.id = figure_id;\n",
       "\n",
       "    this.ws = websocket;\n",
       "\n",
       "    this.supports_binary = (this.ws.binaryType != undefined);\n",
       "\n",
       "    if (!this.supports_binary) {\n",
       "        var warnings = document.getElementById(\"mpl-warnings\");\n",
       "        if (warnings) {\n",
       "            warnings.style.display = 'block';\n",
       "            warnings.textContent = (\n",
       "                \"This browser does not support binary websocket messages. \" +\n",
       "                    \"Performance may be slow.\");\n",
       "        }\n",
       "    }\n",
       "\n",
       "    this.imageObj = new Image();\n",
       "\n",
       "    this.context = undefined;\n",
       "    this.message = undefined;\n",
       "    this.canvas = undefined;\n",
       "    this.rubberband_canvas = undefined;\n",
       "    this.rubberband_context = undefined;\n",
       "    this.format_dropdown = undefined;\n",
       "\n",
       "    this.image_mode = 'full';\n",
       "\n",
       "    this.root = $('<div/>');\n",
       "    this._root_extra_style(this.root)\n",
       "    this.root.attr('style', 'display: inline-block');\n",
       "\n",
       "    $(parent_element).append(this.root);\n",
       "\n",
       "    this._init_header(this);\n",
       "    this._init_canvas(this);\n",
       "    this._init_toolbar(this);\n",
       "\n",
       "    var fig = this;\n",
       "\n",
       "    this.waiting = false;\n",
       "\n",
       "    this.ws.onopen =  function () {\n",
       "            fig.send_message(\"supports_binary\", {value: fig.supports_binary});\n",
       "            fig.send_message(\"send_image_mode\", {});\n",
       "            fig.send_message(\"refresh\", {});\n",
       "        }\n",
       "\n",
       "    this.imageObj.onload = function() {\n",
       "            if (fig.image_mode == 'full') {\n",
       "                // Full images could contain transparency (where diff images\n",
       "                // almost always do), so we need to clear the canvas so that\n",
       "                // there is no ghosting.\n",
       "                fig.context.clearRect(0, 0, fig.canvas.width, fig.canvas.height);\n",
       "            }\n",
       "            fig.context.drawImage(fig.imageObj, 0, 0);\n",
       "        };\n",
       "\n",
       "    this.imageObj.onunload = function() {\n",
       "        this.ws.close();\n",
       "    }\n",
       "\n",
       "    this.ws.onmessage = this._make_on_message_function(this);\n",
       "\n",
       "    this.ondownload = ondownload;\n",
       "}\n",
       "\n",
       "mpl.figure.prototype._init_header = function() {\n",
       "    var titlebar = $(\n",
       "        '<div class=\"ui-dialog-titlebar ui-widget-header ui-corner-all ' +\n",
       "        'ui-helper-clearfix\"/>');\n",
       "    var titletext = $(\n",
       "        '<div class=\"ui-dialog-title\" style=\"width: 100%; ' +\n",
       "        'text-align: center; padding: 3px;\"/>');\n",
       "    titlebar.append(titletext)\n",
       "    this.root.append(titlebar);\n",
       "    this.header = titletext[0];\n",
       "}\n",
       "\n",
       "\n",
       "\n",
       "mpl.figure.prototype._canvas_extra_style = function(canvas_div) {\n",
       "\n",
       "}\n",
       "\n",
       "\n",
       "mpl.figure.prototype._root_extra_style = function(canvas_div) {\n",
       "\n",
       "}\n",
       "\n",
       "mpl.figure.prototype._init_canvas = function() {\n",
       "    var fig = this;\n",
       "\n",
       "    var canvas_div = $('<div/>');\n",
       "\n",
       "    canvas_div.attr('style', 'position: relative; clear: both; outline: 0');\n",
       "\n",
       "    function canvas_keyboard_event(event) {\n",
       "        return fig.key_event(event, event['data']);\n",
       "    }\n",
       "\n",
       "    canvas_div.keydown('key_press', canvas_keyboard_event);\n",
       "    canvas_div.keyup('key_release', canvas_keyboard_event);\n",
       "    this.canvas_div = canvas_div\n",
       "    this._canvas_extra_style(canvas_div)\n",
       "    this.root.append(canvas_div);\n",
       "\n",
       "    var canvas = $('<canvas/>');\n",
       "    canvas.addClass('mpl-canvas');\n",
       "    canvas.attr('style', \"left: 0; top: 0; z-index: 0; outline: 0\")\n",
       "\n",
       "    this.canvas = canvas[0];\n",
       "    this.context = canvas[0].getContext(\"2d\");\n",
       "\n",
       "    var rubberband = $('<canvas/>');\n",
       "    rubberband.attr('style', \"position: absolute; left: 0; top: 0; z-index: 1;\")\n",
       "\n",
       "    var pass_mouse_events = true;\n",
       "\n",
       "    canvas_div.resizable({\n",
       "        start: function(event, ui) {\n",
       "            pass_mouse_events = false;\n",
       "        },\n",
       "        resize: function(event, ui) {\n",
       "            fig.request_resize(ui.size.width, ui.size.height);\n",
       "        },\n",
       "        stop: function(event, ui) {\n",
       "            pass_mouse_events = true;\n",
       "            fig.request_resize(ui.size.width, ui.size.height);\n",
       "        },\n",
       "    });\n",
       "\n",
       "    function mouse_event_fn(event) {\n",
       "        if (pass_mouse_events)\n",
       "            return fig.mouse_event(event, event['data']);\n",
       "    }\n",
       "\n",
       "    rubberband.mousedown('button_press', mouse_event_fn);\n",
       "    rubberband.mouseup('button_release', mouse_event_fn);\n",
       "    // Throttle sequential mouse events to 1 every 20ms.\n",
       "    rubberband.mousemove('motion_notify', mouse_event_fn);\n",
       "\n",
       "    rubberband.mouseenter('figure_enter', mouse_event_fn);\n",
       "    rubberband.mouseleave('figure_leave', mouse_event_fn);\n",
       "\n",
       "    canvas_div.on(\"wheel\", function (event) {\n",
       "        event = event.originalEvent;\n",
       "        event['data'] = 'scroll'\n",
       "        if (event.deltaY < 0) {\n",
       "            event.step = 1;\n",
       "        } else {\n",
       "            event.step = -1;\n",
       "        }\n",
       "        mouse_event_fn(event);\n",
       "    });\n",
       "\n",
       "    canvas_div.append(canvas);\n",
       "    canvas_div.append(rubberband);\n",
       "\n",
       "    this.rubberband = rubberband;\n",
       "    this.rubberband_canvas = rubberband[0];\n",
       "    this.rubberband_context = rubberband[0].getContext(\"2d\");\n",
       "    this.rubberband_context.strokeStyle = \"#000000\";\n",
       "\n",
       "    this._resize_canvas = function(width, height) {\n",
       "        // Keep the size of the canvas, canvas container, and rubber band\n",
       "        // canvas in synch.\n",
       "        canvas_div.css('width', width)\n",
       "        canvas_div.css('height', height)\n",
       "\n",
       "        canvas.attr('width', width);\n",
       "        canvas.attr('height', height);\n",
       "\n",
       "        rubberband.attr('width', width);\n",
       "        rubberband.attr('height', height);\n",
       "    }\n",
       "\n",
       "    // Set the figure to an initial 600x600px, this will subsequently be updated\n",
       "    // upon first draw.\n",
       "    this._resize_canvas(600, 600);\n",
       "\n",
       "    // Disable right mouse context menu.\n",
       "    $(this.rubberband_canvas).bind(\"contextmenu\",function(e){\n",
       "        return false;\n",
       "    });\n",
       "\n",
       "    function set_focus () {\n",
       "        canvas.focus();\n",
       "        canvas_div.focus();\n",
       "    }\n",
       "\n",
       "    window.setTimeout(set_focus, 100);\n",
       "}\n",
       "\n",
       "mpl.figure.prototype._init_toolbar = function() {\n",
       "    var fig = this;\n",
       "\n",
       "    var nav_element = $('<div/>')\n",
       "    nav_element.attr('style', 'width: 100%');\n",
       "    this.root.append(nav_element);\n",
       "\n",
       "    // Define a callback function for later on.\n",
       "    function toolbar_event(event) {\n",
       "        return fig.toolbar_button_onclick(event['data']);\n",
       "    }\n",
       "    function toolbar_mouse_event(event) {\n",
       "        return fig.toolbar_button_onmouseover(event['data']);\n",
       "    }\n",
       "\n",
       "    for(var toolbar_ind in mpl.toolbar_items) {\n",
       "        var name = mpl.toolbar_items[toolbar_ind][0];\n",
       "        var tooltip = mpl.toolbar_items[toolbar_ind][1];\n",
       "        var image = mpl.toolbar_items[toolbar_ind][2];\n",
       "        var method_name = mpl.toolbar_items[toolbar_ind][3];\n",
       "\n",
       "        if (!name) {\n",
       "            // put a spacer in here.\n",
       "            continue;\n",
       "        }\n",
       "        var button = $('<button/>');\n",
       "        button.addClass('ui-button ui-widget ui-state-default ui-corner-all ' +\n",
       "                        'ui-button-icon-only');\n",
       "        button.attr('role', 'button');\n",
       "        button.attr('aria-disabled', 'false');\n",
       "        button.click(method_name, toolbar_event);\n",
       "        button.mouseover(tooltip, toolbar_mouse_event);\n",
       "\n",
       "        var icon_img = $('<span/>');\n",
       "        icon_img.addClass('ui-button-icon-primary ui-icon');\n",
       "        icon_img.addClass(image);\n",
       "        icon_img.addClass('ui-corner-all');\n",
       "\n",
       "        var tooltip_span = $('<span/>');\n",
       "        tooltip_span.addClass('ui-button-text');\n",
       "        tooltip_span.html(tooltip);\n",
       "\n",
       "        button.append(icon_img);\n",
       "        button.append(tooltip_span);\n",
       "\n",
       "        nav_element.append(button);\n",
       "    }\n",
       "\n",
       "    var fmt_picker_span = $('<span/>');\n",
       "\n",
       "    var fmt_picker = $('<select/>');\n",
       "    fmt_picker.addClass('mpl-toolbar-option ui-widget ui-widget-content');\n",
       "    fmt_picker_span.append(fmt_picker);\n",
       "    nav_element.append(fmt_picker_span);\n",
       "    this.format_dropdown = fmt_picker[0];\n",
       "\n",
       "    for (var ind in mpl.extensions) {\n",
       "        var fmt = mpl.extensions[ind];\n",
       "        var option = $(\n",
       "            '<option/>', {selected: fmt === mpl.default_extension}).html(fmt);\n",
       "        fmt_picker.append(option)\n",
       "    }\n",
       "\n",
       "    // Add hover states to the ui-buttons\n",
       "    $( \".ui-button\" ).hover(\n",
       "        function() { $(this).addClass(\"ui-state-hover\");},\n",
       "        function() { $(this).removeClass(\"ui-state-hover\");}\n",
       "    );\n",
       "\n",
       "    var status_bar = $('<span class=\"mpl-message\"/>');\n",
       "    nav_element.append(status_bar);\n",
       "    this.message = status_bar[0];\n",
       "}\n",
       "\n",
       "mpl.figure.prototype.request_resize = function(x_pixels, y_pixels) {\n",
       "    // Request matplotlib to resize the figure. Matplotlib will then trigger a resize in the client,\n",
       "    // which will in turn request a refresh of the image.\n",
       "    this.send_message('resize', {'width': x_pixels, 'height': y_pixels});\n",
       "}\n",
       "\n",
       "mpl.figure.prototype.send_message = function(type, properties) {\n",
       "    properties['type'] = type;\n",
       "    properties['figure_id'] = this.id;\n",
       "    this.ws.send(JSON.stringify(properties));\n",
       "}\n",
       "\n",
       "mpl.figure.prototype.send_draw_message = function() {\n",
       "    if (!this.waiting) {\n",
       "        this.waiting = true;\n",
       "        this.ws.send(JSON.stringify({type: \"draw\", figure_id: this.id}));\n",
       "    }\n",
       "}\n",
       "\n",
       "\n",
       "mpl.figure.prototype.handle_save = function(fig, msg) {\n",
       "    var format_dropdown = fig.format_dropdown;\n",
       "    var format = format_dropdown.options[format_dropdown.selectedIndex].value;\n",
       "    fig.ondownload(fig, format);\n",
       "}\n",
       "\n",
       "\n",
       "mpl.figure.prototype.handle_resize = function(fig, msg) {\n",
       "    var size = msg['size'];\n",
       "    if (size[0] != fig.canvas.width || size[1] != fig.canvas.height) {\n",
       "        fig._resize_canvas(size[0], size[1]);\n",
       "        fig.send_message(\"refresh\", {});\n",
       "    };\n",
       "}\n",
       "\n",
       "mpl.figure.prototype.handle_rubberband = function(fig, msg) {\n",
       "    var x0 = msg['x0'];\n",
       "    var y0 = fig.canvas.height - msg['y0'];\n",
       "    var x1 = msg['x1'];\n",
       "    var y1 = fig.canvas.height - msg['y1'];\n",
       "    x0 = Math.floor(x0) + 0.5;\n",
       "    y0 = Math.floor(y0) + 0.5;\n",
       "    x1 = Math.floor(x1) + 0.5;\n",
       "    y1 = Math.floor(y1) + 0.5;\n",
       "    var min_x = Math.min(x0, x1);\n",
       "    var min_y = Math.min(y0, y1);\n",
       "    var width = Math.abs(x1 - x0);\n",
       "    var height = Math.abs(y1 - y0);\n",
       "\n",
       "    fig.rubberband_context.clearRect(\n",
       "        0, 0, fig.canvas.width, fig.canvas.height);\n",
       "\n",
       "    fig.rubberband_context.strokeRect(min_x, min_y, width, height);\n",
       "}\n",
       "\n",
       "mpl.figure.prototype.handle_figure_label = function(fig, msg) {\n",
       "    // Updates the figure title.\n",
       "    fig.header.textContent = msg['label'];\n",
       "}\n",
       "\n",
       "mpl.figure.prototype.handle_cursor = function(fig, msg) {\n",
       "    var cursor = msg['cursor'];\n",
       "    switch(cursor)\n",
       "    {\n",
       "    case 0:\n",
       "        cursor = 'pointer';\n",
       "        break;\n",
       "    case 1:\n",
       "        cursor = 'default';\n",
       "        break;\n",
       "    case 2:\n",
       "        cursor = 'crosshair';\n",
       "        break;\n",
       "    case 3:\n",
       "        cursor = 'move';\n",
       "        break;\n",
       "    }\n",
       "    fig.rubberband_canvas.style.cursor = cursor;\n",
       "}\n",
       "\n",
       "mpl.figure.prototype.handle_message = function(fig, msg) {\n",
       "    fig.message.textContent = msg['message'];\n",
       "}\n",
       "\n",
       "mpl.figure.prototype.handle_draw = function(fig, msg) {\n",
       "    // Request the server to send over a new figure.\n",
       "    fig.send_draw_message();\n",
       "}\n",
       "\n",
       "mpl.figure.prototype.handle_image_mode = function(fig, msg) {\n",
       "    fig.image_mode = msg['mode'];\n",
       "}\n",
       "\n",
       "mpl.figure.prototype.updated_canvas_event = function() {\n",
       "    // Called whenever the canvas gets updated.\n",
       "    this.send_message(\"ack\", {});\n",
       "}\n",
       "\n",
       "// A function to construct a web socket function for onmessage handling.\n",
       "// Called in the figure constructor.\n",
       "mpl.figure.prototype._make_on_message_function = function(fig) {\n",
       "    return function socket_on_message(evt) {\n",
       "        if (evt.data instanceof Blob) {\n",
       "            /* FIXME: We get \"Resource interpreted as Image but\n",
       "             * transferred with MIME type text/plain:\" errors on\n",
       "             * Chrome.  But how to set the MIME type?  It doesn't seem\n",
       "             * to be part of the websocket stream */\n",
       "            evt.data.type = \"image/png\";\n",
       "\n",
       "            /* Free the memory for the previous frames */\n",
       "            if (fig.imageObj.src) {\n",
       "                (window.URL || window.webkitURL).revokeObjectURL(\n",
       "                    fig.imageObj.src);\n",
       "            }\n",
       "\n",
       "            fig.imageObj.src = (window.URL || window.webkitURL).createObjectURL(\n",
       "                evt.data);\n",
       "            fig.updated_canvas_event();\n",
       "            fig.waiting = false;\n",
       "            return;\n",
       "        }\n",
       "        else if (typeof evt.data === 'string' && evt.data.slice(0, 21) == \"data:image/png;base64\") {\n",
       "            fig.imageObj.src = evt.data;\n",
       "            fig.updated_canvas_event();\n",
       "            fig.waiting = false;\n",
       "            return;\n",
       "        }\n",
       "\n",
       "        var msg = JSON.parse(evt.data);\n",
       "        var msg_type = msg['type'];\n",
       "\n",
       "        // Call the  \"handle_{type}\" callback, which takes\n",
       "        // the figure and JSON message as its only arguments.\n",
       "        try {\n",
       "            var callback = fig[\"handle_\" + msg_type];\n",
       "        } catch (e) {\n",
       "            console.log(\"No handler for the '\" + msg_type + \"' message type: \", msg);\n",
       "            return;\n",
       "        }\n",
       "\n",
       "        if (callback) {\n",
       "            try {\n",
       "                // console.log(\"Handling '\" + msg_type + \"' message: \", msg);\n",
       "                callback(fig, msg);\n",
       "            } catch (e) {\n",
       "                console.log(\"Exception inside the 'handler_\" + msg_type + \"' callback:\", e, e.stack, msg);\n",
       "            }\n",
       "        }\n",
       "    };\n",
       "}\n",
       "\n",
       "// from http://stackoverflow.com/questions/1114465/getting-mouse-location-in-canvas\n",
       "mpl.findpos = function(e) {\n",
       "    //this section is from http://www.quirksmode.org/js/events_properties.html\n",
       "    var targ;\n",
       "    if (!e)\n",
       "        e = window.event;\n",
       "    if (e.target)\n",
       "        targ = e.target;\n",
       "    else if (e.srcElement)\n",
       "        targ = e.srcElement;\n",
       "    if (targ.nodeType == 3) // defeat Safari bug\n",
       "        targ = targ.parentNode;\n",
       "\n",
       "    // jQuery normalizes the pageX and pageY\n",
       "    // pageX,Y are the mouse positions relative to the document\n",
       "    // offset() returns the position of the element relative to the document\n",
       "    var x = e.pageX - $(targ).offset().left;\n",
       "    var y = e.pageY - $(targ).offset().top;\n",
       "\n",
       "    return {\"x\": x, \"y\": y};\n",
       "};\n",
       "\n",
       "/*\n",
       " * return a copy of an object with only non-object keys\n",
       " * we need this to avoid circular references\n",
       " * http://stackoverflow.com/a/24161582/3208463\n",
       " */\n",
       "function simpleKeys (original) {\n",
       "  return Object.keys(original).reduce(function (obj, key) {\n",
       "    if (typeof original[key] !== 'object')\n",
       "        obj[key] = original[key]\n",
       "    return obj;\n",
       "  }, {});\n",
       "}\n",
       "\n",
       "mpl.figure.prototype.mouse_event = function(event, name) {\n",
       "    var canvas_pos = mpl.findpos(event)\n",
       "\n",
       "    if (name === 'button_press')\n",
       "    {\n",
       "        this.canvas.focus();\n",
       "        this.canvas_div.focus();\n",
       "    }\n",
       "\n",
       "    var x = canvas_pos.x;\n",
       "    var y = canvas_pos.y;\n",
       "\n",
       "    this.send_message(name, {x: x, y: y, button: event.button,\n",
       "                             step: event.step,\n",
       "                             guiEvent: simpleKeys(event)});\n",
       "\n",
       "    /* This prevents the web browser from automatically changing to\n",
       "     * the text insertion cursor when the button is pressed.  We want\n",
       "     * to control all of the cursor setting manually through the\n",
       "     * 'cursor' event from matplotlib */\n",
       "    event.preventDefault();\n",
       "    return false;\n",
       "}\n",
       "\n",
       "mpl.figure.prototype._key_event_extra = function(event, name) {\n",
       "    // Handle any extra behaviour associated with a key event\n",
       "}\n",
       "\n",
       "mpl.figure.prototype.key_event = function(event, name) {\n",
       "\n",
       "    // Prevent repeat events\n",
       "    if (name == 'key_press')\n",
       "    {\n",
       "        if (event.which === this._key)\n",
       "            return;\n",
       "        else\n",
       "            this._key = event.which;\n",
       "    }\n",
       "    if (name == 'key_release')\n",
       "        this._key = null;\n",
       "\n",
       "    var value = '';\n",
       "    if (event.ctrlKey && event.which != 17)\n",
       "        value += \"ctrl+\";\n",
       "    if (event.altKey && event.which != 18)\n",
       "        value += \"alt+\";\n",
       "    if (event.shiftKey && event.which != 16)\n",
       "        value += \"shift+\";\n",
       "\n",
       "    value += 'k';\n",
       "    value += event.which.toString();\n",
       "\n",
       "    this._key_event_extra(event, name);\n",
       "\n",
       "    this.send_message(name, {key: value,\n",
       "                             guiEvent: simpleKeys(event)});\n",
       "    return false;\n",
       "}\n",
       "\n",
       "mpl.figure.prototype.toolbar_button_onclick = function(name) {\n",
       "    if (name == 'download') {\n",
       "        this.handle_save(this, null);\n",
       "    } else {\n",
       "        this.send_message(\"toolbar_button\", {name: name});\n",
       "    }\n",
       "};\n",
       "\n",
       "mpl.figure.prototype.toolbar_button_onmouseover = function(tooltip) {\n",
       "    this.message.textContent = tooltip;\n",
       "};\n",
       "mpl.toolbar_items = [[\"Home\", \"Reset original view\", \"fa fa-home icon-home\", \"home\"], [\"Back\", \"Back to  previous view\", \"fa fa-arrow-left icon-arrow-left\", \"back\"], [\"Forward\", \"Forward to next view\", \"fa fa-arrow-right icon-arrow-right\", \"forward\"], [\"\", \"\", \"\", \"\"], [\"Pan\", \"Pan axes with left mouse, zoom with right\", \"fa fa-arrows icon-move\", \"pan\"], [\"Zoom\", \"Zoom to rectangle\", \"fa fa-square-o icon-check-empty\", \"zoom\"], [\"\", \"\", \"\", \"\"], [\"Download\", \"Download plot\", \"fa fa-floppy-o icon-save\", \"download\"]];\n",
       "\n",
       "mpl.extensions = [\"eps\", \"jpeg\", \"pdf\", \"png\", \"ps\", \"raw\", \"svg\", \"tif\"];\n",
       "\n",
       "mpl.default_extension = \"png\";var comm_websocket_adapter = function(comm) {\n",
       "    // Create a \"websocket\"-like object which calls the given IPython comm\n",
       "    // object with the appropriate methods. Currently this is a non binary\n",
       "    // socket, so there is still some room for performance tuning.\n",
       "    var ws = {};\n",
       "\n",
       "    ws.close = function() {\n",
       "        comm.close()\n",
       "    };\n",
       "    ws.send = function(m) {\n",
       "        //console.log('sending', m);\n",
       "        comm.send(m);\n",
       "    };\n",
       "    // Register the callback with on_msg.\n",
       "    comm.on_msg(function(msg) {\n",
       "        //console.log('receiving', msg['content']['data'], msg);\n",
       "        // Pass the mpl event to the overriden (by mpl) onmessage function.\n",
       "        ws.onmessage(msg['content']['data'])\n",
       "    });\n",
       "    return ws;\n",
       "}\n",
       "\n",
       "mpl.mpl_figure_comm = function(comm, msg) {\n",
       "    // This is the function which gets called when the mpl process\n",
       "    // starts-up an IPython Comm through the \"matplotlib\" channel.\n",
       "\n",
       "    var id = msg.content.data.id;\n",
       "    // Get hold of the div created by the display call when the Comm\n",
       "    // socket was opened in Python.\n",
       "    var element = $(\"#\" + id);\n",
       "    var ws_proxy = comm_websocket_adapter(comm)\n",
       "\n",
       "    function ondownload(figure, format) {\n",
       "        window.open(figure.imageObj.src);\n",
       "    }\n",
       "\n",
       "    var fig = new mpl.figure(id, ws_proxy,\n",
       "                           ondownload,\n",
       "                           element.get(0));\n",
       "\n",
       "    // Call onopen now - mpl needs it, as it is assuming we've passed it a real\n",
       "    // web socket which is closed, not our websocket->open comm proxy.\n",
       "    ws_proxy.onopen();\n",
       "\n",
       "    fig.parent_element = element.get(0);\n",
       "    fig.cell_info = mpl.find_output_cell(\"<div id='\" + id + \"'></div>\");\n",
       "    if (!fig.cell_info) {\n",
       "        console.error(\"Failed to find cell for figure\", id, fig);\n",
       "        return;\n",
       "    }\n",
       "\n",
       "    var output_index = fig.cell_info[2]\n",
       "    var cell = fig.cell_info[0];\n",
       "\n",
       "};\n",
       "\n",
       "mpl.figure.prototype.handle_close = function(fig, msg) {\n",
       "    fig.root.unbind('remove')\n",
       "\n",
       "    // Update the output cell to use the data from the current canvas.\n",
       "    fig.push_to_output();\n",
       "    var dataURL = fig.canvas.toDataURL();\n",
       "    // Re-enable the keyboard manager in IPython - without this line, in FF,\n",
       "    // the notebook keyboard shortcuts fail.\n",
       "    IPython.keyboard_manager.enable()\n",
       "    $(fig.parent_element).html('<img src=\"' + dataURL + '\">');\n",
       "    fig.close_ws(fig, msg);\n",
       "}\n",
       "\n",
       "mpl.figure.prototype.close_ws = function(fig, msg){\n",
       "    fig.send_message('closing', msg);\n",
       "    // fig.ws.close()\n",
       "}\n",
       "\n",
       "mpl.figure.prototype.push_to_output = function(remove_interactive) {\n",
       "    // Turn the data on the canvas into data in the output cell.\n",
       "    var dataURL = this.canvas.toDataURL();\n",
       "    this.cell_info[1]['text/html'] = '<img src=\"' + dataURL + '\">';\n",
       "}\n",
       "\n",
       "mpl.figure.prototype.updated_canvas_event = function() {\n",
       "    // Tell IPython that the notebook contents must change.\n",
       "    IPython.notebook.set_dirty(true);\n",
       "    this.send_message(\"ack\", {});\n",
       "    var fig = this;\n",
       "    // Wait a second, then push the new image to the DOM so\n",
       "    // that it is saved nicely (might be nice to debounce this).\n",
       "    setTimeout(function () { fig.push_to_output() }, 1000);\n",
       "}\n",
       "\n",
       "mpl.figure.prototype._init_toolbar = function() {\n",
       "    var fig = this;\n",
       "\n",
       "    var nav_element = $('<div/>')\n",
       "    nav_element.attr('style', 'width: 100%');\n",
       "    this.root.append(nav_element);\n",
       "\n",
       "    // Define a callback function for later on.\n",
       "    function toolbar_event(event) {\n",
       "        return fig.toolbar_button_onclick(event['data']);\n",
       "    }\n",
       "    function toolbar_mouse_event(event) {\n",
       "        return fig.toolbar_button_onmouseover(event['data']);\n",
       "    }\n",
       "\n",
       "    for(var toolbar_ind in mpl.toolbar_items){\n",
       "        var name = mpl.toolbar_items[toolbar_ind][0];\n",
       "        var tooltip = mpl.toolbar_items[toolbar_ind][1];\n",
       "        var image = mpl.toolbar_items[toolbar_ind][2];\n",
       "        var method_name = mpl.toolbar_items[toolbar_ind][3];\n",
       "\n",
       "        if (!name) { continue; };\n",
       "\n",
       "        var button = $('<button class=\"btn btn-default\" href=\"#\" title=\"' + name + '\"><i class=\"fa ' + image + ' fa-lg\"></i></button>');\n",
       "        button.click(method_name, toolbar_event);\n",
       "        button.mouseover(tooltip, toolbar_mouse_event);\n",
       "        nav_element.append(button);\n",
       "    }\n",
       "\n",
       "    // Add the status bar.\n",
       "    var status_bar = $('<span class=\"mpl-message\" style=\"text-align:right; float: right;\"/>');\n",
       "    nav_element.append(status_bar);\n",
       "    this.message = status_bar[0];\n",
       "\n",
       "    // Add the close button to the window.\n",
       "    var buttongrp = $('<div class=\"btn-group inline pull-right\"></div>');\n",
       "    var button = $('<button class=\"btn btn-mini btn-primary\" href=\"#\" title=\"Stop Interaction\"><i class=\"fa fa-power-off icon-remove icon-large\"></i></button>');\n",
       "    button.click(function (evt) { fig.handle_close(fig, {}); } );\n",
       "    button.mouseover('Stop Interaction', toolbar_mouse_event);\n",
       "    buttongrp.append(button);\n",
       "    var titlebar = this.root.find($('.ui-dialog-titlebar'));\n",
       "    titlebar.prepend(buttongrp);\n",
       "}\n",
       "\n",
       "mpl.figure.prototype._root_extra_style = function(el){\n",
       "    var fig = this\n",
       "    el.on(\"remove\", function(){\n",
       "\tfig.close_ws(fig, {});\n",
       "    });\n",
       "}\n",
       "\n",
       "mpl.figure.prototype._canvas_extra_style = function(el){\n",
       "    // this is important to make the div 'focusable\n",
       "    el.attr('tabindex', 0)\n",
       "    // reach out to IPython and tell the keyboard manager to turn it's self\n",
       "    // off when our div gets focus\n",
       "\n",
       "    // location in version 3\n",
       "    if (IPython.notebook.keyboard_manager) {\n",
       "        IPython.notebook.keyboard_manager.register_events(el);\n",
       "    }\n",
       "    else {\n",
       "        // location in version 2\n",
       "        IPython.keyboard_manager.register_events(el);\n",
       "    }\n",
       "\n",
       "}\n",
       "\n",
       "mpl.figure.prototype._key_event_extra = function(event, name) {\n",
       "    var manager = IPython.notebook.keyboard_manager;\n",
       "    if (!manager)\n",
       "        manager = IPython.keyboard_manager;\n",
       "\n",
       "    // Check for shift+enter\n",
       "    if (event.shiftKey && event.which == 13) {\n",
       "        this.canvas_div.blur();\n",
       "        event.shiftKey = false;\n",
       "        // Send a \"J\" for go to next cell\n",
       "        event.which = 74;\n",
       "        event.keyCode = 74;\n",
       "        manager.command_mode();\n",
       "        manager.handle_keydown(event);\n",
       "    }\n",
       "}\n",
       "\n",
       "mpl.figure.prototype.handle_save = function(fig, msg) {\n",
       "    fig.ondownload(fig, null);\n",
       "}\n",
       "\n",
       "\n",
       "mpl.find_output_cell = function(html_output) {\n",
       "    // Return the cell and output element which can be found *uniquely* in the notebook.\n",
       "    // Note - this is a bit hacky, but it is done because the \"notebook_saving.Notebook\"\n",
       "    // IPython event is triggered only after the cells have been serialised, which for\n",
       "    // our purposes (turning an active figure into a static one), is too late.\n",
       "    var cells = IPython.notebook.get_cells();\n",
       "    var ncells = cells.length;\n",
       "    for (var i=0; i<ncells; i++) {\n",
       "        var cell = cells[i];\n",
       "        if (cell.cell_type === 'code'){\n",
       "            for (var j=0; j<cell.output_area.outputs.length; j++) {\n",
       "                var data = cell.output_area.outputs[j];\n",
       "                if (data.data) {\n",
       "                    // IPython >= 3 moved mimebundle to data attribute of output\n",
       "                    data = data.data;\n",
       "                }\n",
       "                if (data['text/html'] == html_output) {\n",
       "                    return [cell, data, j];\n",
       "                }\n",
       "            }\n",
       "        }\n",
       "    }\n",
       "}\n",
       "\n",
       "// Register the function which deals with the matplotlib target/channel.\n",
       "// The kernel may be null if the page has been refreshed.\n",
       "if (IPython.notebook.kernel != null) {\n",
       "    IPython.notebook.kernel.comm_manager.register_target('matplotlib', mpl.mpl_figure_comm);\n",
       "}\n"
      ],
      "text/plain": [
       "<IPython.core.display.Javascript object>"
      ]
     },
     "metadata": {},
     "output_type": "display_data"
    },
    {
     "data": {
      "text/html": [
       "<img src=\"data:image/png;base64,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\">"
      ],
      "text/plain": [
       "<IPython.core.display.HTML object>"
      ]
     },
     "metadata": {},
     "output_type": "display_data"
    }
   ],
   "source": [
    "bike_to_wellesley()\n",
    "plot_state()"
   ]
  },
  {
   "cell_type": "markdown",
   "metadata": {},
   "source": []
  },
  {
   "cell_type": "code",
   "execution_count": 14,
   "metadata": {
    "collapsed": false
   },
   "outputs": [
    {
     "data": {
      "text/plain": [
       "<function __main__.bike_to_wellesley>"
      ]
     },
     "execution_count": 14,
     "metadata": {},
     "output_type": "execute_result"
    }
   ],
   "source": [
    "bike_to_wellesley"
   ]
  },
  {
   "cell_type": "markdown",
   "metadata": {},
   "source": [
    "**Exercise:** Define a function called `bike_to_olin` that moves a bike from Wellesley to Olin.  Call the new function and print or plot the results to confirm that it works."
   ]
  },
  {
   "cell_type": "code",
   "execution_count": 12,
   "metadata": {
    "collapsed": true
   },
   "outputs": [],
   "source": [
    "# Solution\n",
    "\n",
    "def bike_to_olin():\n",
    "    bikeshare.wellesley -= 1\n",
    "    bikeshare.olin += 1\n",
    "    \n",
    "bike_to_olin()\n",
    "plot_state()"
   ]
  },
  {
   "cell_type": "markdown",
   "metadata": {},
   "source": []
  },
  {
   "cell_type": "markdown",
   "metadata": {},
   "source": [
    "## Parameters"
   ]
  },
  {
   "cell_type": "markdown",
   "metadata": {},
   "source": []
  },
  {
   "cell_type": "code",
   "execution_count": 14,
   "metadata": {
    "collapsed": true
   },
   "outputs": [],
   "source": [
    "def move_bike(n):\n",
    "    bikeshare.olin -= n\n",
    "    bikeshare.wellesley += n\n",
    "    \n",
    "def bike_to_wellesley():\n",
    "    move_bike(1)\n",
    "    \n",
    "def bike_to_olin():\n",
    "    move_bike(-1)"
   ]
  },
  {
   "cell_type": "markdown",
   "metadata": {},
   "source": []
  },
  {
   "cell_type": "code",
   "execution_count": 15,
   "metadata": {
    "collapsed": false
   },
   "outputs": [],
   "source": [
    "bike_to_wellesley()\n",
    "plot_state()"
   ]
  },
  {
   "cell_type": "markdown",
   "metadata": {},
   "source": []
  },
  {
   "cell_type": "code",
   "execution_count": 16,
   "metadata": {
    "collapsed": false
   },
   "outputs": [],
   "source": [
    "bike_to_olin()\n",
    "plot_state()"
   ]
  },
  {
   "cell_type": "code",
   "execution_count": 17,
   "metadata": {
    "collapsed": false
   },
   "outputs": [],
   "source": [
    "label_axes(title='Olin-Wellesley Bikeshare',\n",
    "           xlabel='Time step (min)', \n",
    "           ylabel='Number of bikes')"
   ]
  },
  {
   "cell_type": "markdown",
   "metadata": {},
   "source": []
  },
  {
   "cell_type": "code",
   "execution_count": 18,
   "metadata": {
    "collapsed": false
   },
   "outputs": [],
   "source": [
    "savefig('chap01_01.pdf')"
   ]
  },
  {
   "cell_type": "markdown",
   "metadata": {},
   "source": [
    "**Exercise:** The following function definitions start with print statements so they display messages when they run.  Call each of these functions (with appropriate arguments) and confirm that they do what you expect.\n",
    "\n",
    "Adding print statements like this to functions is a useful debugging technique.  Keep it in mind!\n"
   ]
  },
  {
   "cell_type": "code",
   "execution_count": 21,
   "metadata": {
    "collapsed": true
   },
   "outputs": [],
   "source": [
    "def move_bike_debug(n):\n",
    "    print('Running move_bike with argument', n)\n",
    "    bikeshare.olin -= n\n",
    "    bikeshare.wellesley += n\n",
    "    \n",
    "def bike_to_wellesley_debug():\n",
    "    print('Running bike_to_wellesley')\n",
    "    move_bike_debug(1)\n",
    "    \n",
    "def bike_to_olin_debug():\n",
    "    print('Running bike_to_olin')\n",
    "    move_bike_debug(-1)"
   ]
  },
  {
   "cell_type": "code",
   "execution_count": 22,
   "metadata": {
    "collapsed": false
   },
   "outputs": [
    {
     "name": "stdout",
     "output_type": "stream",
     "text": [
      "Running move_bike with argument 1\n"
     ]
    }
   ],
   "source": [
    "# Solution\n",
    "\n",
    "move_bike_debug(1)"
   ]
  },
  {
   "cell_type": "code",
   "execution_count": 23,
   "metadata": {
    "collapsed": false
   },
   "outputs": [
    {
     "name": "stdout",
     "output_type": "stream",
     "text": [
      "Running bike_to_wellesley\n",
      "Running move_bike with argument 1\n"
     ]
    }
   ],
   "source": [
    "# Solution\n",
    "\n",
    "bike_to_wellesley_debug()"
   ]
  },
  {
   "cell_type": "code",
   "execution_count": 24,
   "metadata": {
    "collapsed": false
   },
   "outputs": [
    {
     "name": "stdout",
     "output_type": "stream",
     "text": [
      "Running bike_to_olin\n",
      "Running move_bike with argument -1\n"
     ]
    }
   ],
   "source": [
    "# Solution\n",
    "\n",
    "bike_to_olin_debug()"
   ]
  },
  {
   "cell_type": "markdown",
   "metadata": {},
   "source": [
    "## Conditionals"
   ]
  },
  {
   "cell_type": "markdown",
   "metadata": {},
   "source": []
  },
  {
   "cell_type": "code",
   "execution_count": 19,
   "metadata": {
    "collapsed": false
   },
   "outputs": [],
   "source": [
    "bikeshare = State(olin=10, wellesley=2)\n",
    "newfig()\n",
    "plot_state()"
   ]
  },
  {
   "cell_type": "markdown",
   "metadata": {},
   "source": []
  },
  {
   "cell_type": "code",
   "execution_count": 20,
   "metadata": {
    "collapsed": false
   },
   "outputs": [
    {
     "data": {
      "text/plain": [
       "True"
      ]
     },
     "execution_count": 20,
     "metadata": {},
     "output_type": "execute_result"
    }
   ],
   "source": [
    "flip(0.5)"
   ]
  },
  {
   "cell_type": "code",
   "execution_count": 21,
   "metadata": {
    "collapsed": false
   },
   "outputs": [
    {
     "name": "stdout",
     "output_type": "stream",
     "text": [
      "heads\n"
     ]
    }
   ],
   "source": [
    "if flip(0.5):\n",
    "    print('heads')"
   ]
  },
  {
   "cell_type": "code",
   "execution_count": 22,
   "metadata": {
    "collapsed": false
   },
   "outputs": [
    {
     "name": "stdout",
     "output_type": "stream",
     "text": [
      "heads\n"
     ]
    }
   ],
   "source": [
    "if flip(0.5):\n",
    "    print('heads')\n",
    "else:\n",
    "    print('tails')"
   ]
  },
  {
   "cell_type": "code",
   "execution_count": 23,
   "metadata": {
    "collapsed": true
   },
   "outputs": [],
   "source": [
    "if flip(0.5):\n",
    "    bike_to_wellesley()\n",
    "\n",
    "plot_state()"
   ]
  },
  {
   "cell_type": "markdown",
   "metadata": {},
   "source": []
  },
  {
   "cell_type": "code",
   "execution_count": 24,
   "metadata": {
    "collapsed": true
   },
   "outputs": [],
   "source": [
    "if flip(0.5):\n",
    "    bike_to_olin()\n",
    "\n",
    "plot_state()"
   ]
  },
  {
   "cell_type": "markdown",
   "metadata": {},
   "source": []
  },
  {
   "cell_type": "code",
   "execution_count": 25,
   "metadata": {
    "collapsed": false
   },
   "outputs": [],
   "source": [
    "def step():\n",
    "    if flip(0.5):\n",
    "        bike_to_wellesley()\n",
    "    \n",
    "    if flip(0.5):\n",
    "        bike_to_olin()"
   ]
  },
  {
   "cell_type": "markdown",
   "metadata": {},
   "source": []
  },
  {
   "cell_type": "code",
   "execution_count": 26,
   "metadata": {
    "collapsed": true
   },
   "outputs": [],
   "source": [
    "step()\n",
    "plot_state()"
   ]
  },
  {
   "cell_type": "markdown",
   "metadata": {},
   "source": []
  },
  {
   "cell_type": "markdown",
   "metadata": {},
   "source": [
    "## Optional parameters"
   ]
  },
  {
   "cell_type": "markdown",
   "metadata": {},
   "source": []
  },
  {
   "cell_type": "code",
   "execution_count": 27,
   "metadata": {
    "collapsed": true
   },
   "outputs": [],
   "source": [
    "def step(p1=0.5, p2=0.5):\n",
    "    if flip(p1):\n",
    "        bike_to_wellesley()\n",
    "    \n",
    "    if flip(p2):\n",
    "        bike_to_olin()"
   ]
  },
  {
   "cell_type": "markdown",
   "metadata": {},
   "source": []
  },
  {
   "cell_type": "code",
   "execution_count": 28,
   "metadata": {
    "collapsed": true
   },
   "outputs": [],
   "source": [
    "step()\n",
    "plot_state()"
   ]
  },
  {
   "cell_type": "markdown",
   "metadata": {},
   "source": []
  },
  {
   "cell_type": "code",
   "execution_count": 29,
   "metadata": {
    "collapsed": true
   },
   "outputs": [],
   "source": [
    "step(0.4)\n",
    "plot_state()"
   ]
  },
  {
   "cell_type": "markdown",
   "metadata": {},
   "source": []
  },
  {
   "cell_type": "code",
   "execution_count": 30,
   "metadata": {
    "collapsed": true
   },
   "outputs": [],
   "source": [
    "step(0.4, 0.2)\n",
    "plot_state()"
   ]
  },
  {
   "cell_type": "markdown",
   "metadata": {},
   "source": []
  },
  {
   "cell_type": "code",
   "execution_count": 31,
   "metadata": {
    "collapsed": true
   },
   "outputs": [],
   "source": [
    "step(p1=0.4, p2=0.2)\n",
    "plot_state()"
   ]
  },
  {
   "cell_type": "markdown",
   "metadata": {},
   "source": []
  },
  {
   "cell_type": "code",
   "execution_count": 32,
   "metadata": {
    "collapsed": true
   },
   "outputs": [],
   "source": [
    "step(0.4, p2=0.2)\n",
    "plot_state()"
   ]
  },
  {
   "cell_type": "markdown",
   "metadata": {},
   "source": []
  },
  {
   "cell_type": "code",
   "execution_count": 33,
   "metadata": {
    "collapsed": false
   },
   "outputs": [],
   "source": [
    "step(p2=0.2)\n",
    "plot_state()"
   ]
  },
  {
   "cell_type": "markdown",
   "metadata": {},
   "source": []
  },
  {
   "cell_type": "code",
   "execution_count": 34,
   "metadata": {
    "collapsed": false
   },
   "outputs": [],
   "source": [
    "# SyntaxError: positional argument follows keyword argument\n",
    "\n",
    "#step(p1=0.4, 0.2)\n",
    "#plot_state()"
   ]
  },
  {
   "cell_type": "markdown",
   "metadata": {},
   "source": []
  },
  {
   "cell_type": "code",
   "execution_count": 35,
   "metadata": {
    "collapsed": true
   },
   "outputs": [],
   "source": [
    "def decorate():\n",
    "    legend(loc='center right')\n",
    "    label_axes(title='Olin-Wellesley Bikeshare',\n",
    "               xlabel='Time step (min)', \n",
    "               ylabel='Number of bikes')"
   ]
  },
  {
   "cell_type": "markdown",
   "metadata": {},
   "source": []
  },
  {
   "cell_type": "code",
   "execution_count": 36,
   "metadata": {
    "collapsed": false
   },
   "outputs": [],
   "source": [
    "decorate()"
   ]
  },
  {
   "cell_type": "markdown",
   "metadata": {},
   "source": []
  },
  {
   "cell_type": "markdown",
   "metadata": {},
   "source": [
    "## For loop"
   ]
  },
  {
   "cell_type": "markdown",
   "metadata": {},
   "source": []
  },
  {
   "cell_type": "code",
   "execution_count": 37,
   "metadata": {
    "collapsed": false
   },
   "outputs": [],
   "source": [
    "bikeshare = State(olin=10, wellesley=2)\n",
    "newfig()\n",
    "plot_state()\n",
    "decorate()"
   ]
  },
  {
   "cell_type": "markdown",
   "metadata": {},
   "source": []
  },
  {
   "cell_type": "code",
   "execution_count": 38,
   "metadata": {
    "collapsed": true
   },
   "outputs": [],
   "source": [
    "for i in range(4):\n",
    "    bike_to_wellesley()\n",
    "    plot_state()"
   ]
  },
  {
   "cell_type": "markdown",
   "metadata": {},
   "source": []
  },
  {
   "cell_type": "code",
   "execution_count": 39,
   "metadata": {
    "collapsed": true
   },
   "outputs": [],
   "source": [
    "for i in range(4):\n",
    "    step()\n",
    "    plot_state()"
   ]
  },
  {
   "cell_type": "markdown",
   "metadata": {},
   "source": []
  },
  {
   "cell_type": "code",
   "execution_count": 40,
   "metadata": {
    "collapsed": true
   },
   "outputs": [],
   "source": [
    "for i in range(20):\n",
    "    step(p1=0.4, p2=0.2)\n",
    "    plot_state()"
   ]
  },
  {
   "cell_type": "markdown",
   "metadata": {},
   "source": [
    "**Exercise:** Combine the examples from the previous two sections to write a function named `run_steps` that takes three parameters, named `iters`, `p1`, and `p2`.  It should use a for loop to call `step` the number of times specified by `iters`, passing along the specified values of `p1` and `p2`.  After each step, it should plot the updated state.\n",
    "\n",
    "Test your function by creating a new `State` object, creating a new figure, and calling `run_steps`."
   ]
  },
  {
   "cell_type": "code",
   "execution_count": 42,
   "metadata": {
    "collapsed": true
   },
   "outputs": [],
   "source": [
    "# Solution\n",
    "\n",
    "def run_steps(iters=1, p1=0.5, p2=0.5):\n",
    "    for i in range(iters):\n",
    "        step(p1, p2)\n",
    "        plot_state()"
   ]
  },
  {
   "cell_type": "code",
   "execution_count": null,
   "metadata": {
    "collapsed": true
   },
   "outputs": [],
   "source": [
    "# Solution\n",
    "\n",
    "bikeshare = State(olin=10, wellesley=2)\n",
    "newfig()\n",
    "plot_state()\n",
    "decorate()\n",
    "run_steps(60, 0.4, 0.2)"
   ]
  },
  {
   "cell_type": "markdown",
   "metadata": {},
   "source": [
    "## Reality check"
   ]
  },
  {
   "cell_type": "markdown",
   "metadata": {},
   "source": []
  },
  {
   "cell_type": "code",
   "execution_count": 41,
   "metadata": {
    "collapsed": true
   },
   "outputs": [],
   "source": [
    "def move_bike(n):\n",
    "    if bikeshare.olin - n < 0:\n",
    "        return\n",
    "    if bikeshare.wellesley + n < 0:\n",
    "        return\n",
    "    \n",
    "    bikeshare.olin -= n\n",
    "    bikeshare.wellesley += n"
   ]
  },
  {
   "cell_type": "markdown",
   "metadata": {},
   "source": []
  },
  {
   "cell_type": "markdown",
   "metadata": {},
   "source": []
  },
  {
   "cell_type": "code",
   "execution_count": 43,
   "metadata": {
    "collapsed": false
   },
   "outputs": [],
   "source": [
    "bikeshare = State(olin=10, wellesley=2)\n",
    "newfig()\n",
    "plot_state()\n",
    "decorate()\n",
    "run_steps(60, 0.4, 0.2)"
   ]
  },
  {
   "cell_type": "markdown",
   "metadata": {},
   "source": []
  },
  {
   "cell_type": "code",
   "execution_count": null,
   "metadata": {
    "collapsed": true
   },
   "outputs": [],
   "source": []
  },
  {
   "cell_type": "markdown",
   "metadata": {},
   "source": [
    "## Metrics"
   ]
  },
  {
   "cell_type": "markdown",
   "metadata": {},
   "source": []
  },
  {
   "cell_type": "code",
   "execution_count": 44,
   "metadata": {
    "collapsed": false
   },
   "outputs": [],
   "source": [
    "bikeshare = State(olin=10, wellesley=2, \n",
    "                  olin_empty=0, wellesley_empty=0)"
   ]
  },
  {
   "cell_type": "markdown",
   "metadata": {},
   "source": []
  },
  {
   "cell_type": "code",
   "execution_count": 45,
   "metadata": {
    "collapsed": true
   },
   "outputs": [],
   "source": [
    "def move_bike(n):\n",
    "    if bikeshare.olin - n < 0:\n",
    "        bikeshare.olin_empty += 1\n",
    "        return\n",
    "    if bikeshare.wellesley + n < 0:\n",
    "        bikeshare.wellesley_empty += 1\n",
    "        return\n",
    "    \n",
    "    bikeshare.olin -= n\n",
    "    bikeshare.wellesley += n"
   ]
  },
  {
   "cell_type": "markdown",
   "metadata": {},
   "source": []
  },
  {
   "cell_type": "code",
   "execution_count": 46,
   "metadata": {
    "collapsed": false
   },
   "outputs": [],
   "source": [
    "newfig()\n",
    "plot_state()\n",
    "decorate()\n",
    "run_steps(60, 0.4, 0.2)"
   ]
  },
  {
   "cell_type": "markdown",
   "metadata": {},
   "source": []
  },
  {
   "cell_type": "code",
   "execution_count": 47,
   "metadata": {
    "collapsed": false
   },
   "outputs": [
    {
     "data": {
      "text/plain": [
       "9"
      ]
     },
     "execution_count": 47,
     "metadata": {},
     "output_type": "execute_result"
    }
   ],
   "source": [
    "bikeshare.olin_empty"
   ]
  },
  {
   "cell_type": "markdown",
   "metadata": {},
   "source": []
  },
  {
   "cell_type": "code",
   "execution_count": 48,
   "metadata": {
    "collapsed": false
   },
   "outputs": [
    {
     "data": {
      "text/plain": [
       "0"
      ]
     },
     "execution_count": 48,
     "metadata": {},
     "output_type": "execute_result"
    }
   ],
   "source": [
    "bikeshare.wellesley_empty"
   ]
  },
  {
   "cell_type": "markdown",
   "metadata": {},
   "source": []
  },
  {
   "cell_type": "code",
   "execution_count": null,
   "metadata": {
    "collapsed": false
   },
   "outputs": [],
   "source": []
  },
  {
   "cell_type": "code",
   "execution_count": null,
   "metadata": {
    "collapsed": true
   },
   "outputs": [],
   "source": []
  }
 ],
 "metadata": {
  "kernelspec": {
   "display_name": "Python 3",
   "language": "python",
   "name": "python3"
  },
  "language_info": {
   "codemirror_mode": {
    "name": "ipython",
    "version": 3
   },
   "file_extension": ".py",
   "mimetype": "text/x-python",
   "name": "python",
   "nbconvert_exporter": "python",
   "pygments_lexer": "ipython3",
   "version": "3.5.1"
  }
 },
 "nbformat": 4,
 "nbformat_minor": 0
}
