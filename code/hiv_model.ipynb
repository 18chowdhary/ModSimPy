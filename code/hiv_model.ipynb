{
 "cells": [
  {
   "cell_type": "markdown",
   "metadata": {},
   "source": [
    "# ModSim: HIV Model \n",
    "## Shreya Chowdhary - Section 1"
   ]
  },
  {
   "cell_type": "code",
   "execution_count": 5,
   "metadata": {},
   "outputs": [],
   "source": [
    "# Configure Jupyter so figures appear in the notebook\n",
    "%matplotlib inline\n",
    "\n",
    "# Configure Jupyter to display the assigned value after an assignment\n",
    "%config InteractiveShell.ast_node_interactivity='last_expr_or_assign'\n",
    "\n",
    "# import functions from the modsim.py module\n",
    "from modsim import *"
   ]
  },
  {
   "cell_type": "code",
   "execution_count": 32,
   "metadata": {},
   "outputs": [],
   "source": [
    "def make_system(gamma, mu, beta, ro, alpha, delta, sigma, pi):\n",
    "    '''\n",
    "    Makes a system object for the HIV model. \n",
    "    gamma: affects the rate of creation of new uninfected cells \n",
    "    mu: affects the rate of HIV-independent death of uninfected cells/latently infected cells\n",
    "    beta: affects rate of activation\n",
    "    ro: proportion of cells that are latent (1-p = proprotion that are activated)\n",
    "    alpha: affects the rate of activation\n",
    "    delta: affects the rate of HIV-independent death of actively infected cells\n",
    "    sigma: affects the rate of removal of virions\n",
    "    pi: affects the rate of production of virions by actively infected cells\n",
    "    activation_rate: rate of new infected cells arising\n",
    "    latent_to_activated_rate: rate of latently infected cells becoming actively infected cells \n",
    "    '''\n",
    "    \n",
    "    init = State(R = 200, L = 0, E = 0, V = 100)\n",
    "    \n",
    "    t0 = 0 \n",
    "    t_end = 120 # infection usually lasts 120 days?\n",
    "    dt = 0.5\n",
    "    \n",
    "    return System(init = init, t0 = 0, t_end = t_end, gamma_tau = gamma, mu = mu, beta = beta, \n",
    "                  ro = ro, alpha = alpha, delta = delta, pi = pi, sigma = sigma, dt = dt)\n",
    "\n",
    "def update_func(state, t, system):\n",
    "    r = state.R \n",
    "    l = state.L\n",
    "    e = state.E\n",
    "    v = state.V\n",
    "    unpack(system)\n",
    "    \n",
    "    infected = beta*r*v\n",
    "    activated = alpha*l\n",
    "    \n",
    "    r += (gamma_tau - mu*r - infected)*dt\n",
    "    l += (ro*infected - mu*l - activated)*dt\n",
    "    e += ((1 - ro)*infected + activated - delta*e)*dt\n",
    "    v += (pi*state.E - sigma*v)*dt\n",
    "    \n",
    "    return State(R = r, L = l, E = e, V = v)"
   ]
  },
  {
   "cell_type": "code",
   "execution_count": 33,
   "metadata": {},
   "outputs": [],
   "source": [
    "def run_simulation(system, update_func):\n",
    "    \"\"\"Runs a simulation of the system.\n",
    "        \n",
    "    system: System object\n",
    "    update_func: function that updates state\n",
    "    \n",
    "    returns: TimeFrame\n",
    "    \"\"\" \n",
    "    unpack(system)\n",
    "    \n",
    "    frame = TimeFrame(columns=init.index)\n",
    "    frame.row[t0] = init\n",
    "    \n",
    "    for t in linrange(t0, t_end):\n",
    "        frame.row[t+1] = update_func(frame.row[t], t, system)\n",
    "    \n",
    "    return frame"
   ]
  },
  {
   "cell_type": "code",
   "execution_count": 34,
   "metadata": {},
   "outputs": [],
   "source": [
    "def plot_results(R, L, E):\n",
    "    plot(R, 'm-', label = \"R\")\n",
    "    plot(L, 'g-', label = \"L\")\n",
    "    plot(E, 'b-', label = \"E\")\n",
    "    decorate(title = \"HIV Infection\", \n",
    "            xlabel = \"Time\", \n",
    "            ylabel = \"Number of Cells\")"
   ]
  },
  {
   "cell_type": "code",
   "execution_count": 35,
   "metadata": {},
   "outputs": [
    {
     "data": {
      "image/png": "[encoded data removed]",
      "text/plain": [
       "<Figure size 432x288 with 1 Axes>"
      ]
     },
     "metadata": {
      "needs_background": "light"
     },
     "output_type": "display_data"
    }
   ],
   "source": [
    "gamma = 1.36*0.2\n",
    "mu = 1.36e-3\n",
    "beta = 0.00027\n",
    "ro = 0.1\n",
    "alpha = 3.6e-2\n",
    "sigma = 2\n",
    "delta = 0.33\n",
    "pi = 100\n",
    "\n",
    "sys = make_system(gamma, mu, beta, ro, alpha, delta, sigma, pi)\n",
    "results = run_simulation(sys, update_func)\n",
    "plot_results(results.R, results.L, results.E)"
   ]
  },
  {
   "cell_type": "code",
   "execution_count": null,
   "metadata": {},
   "outputs": [],
   "source": []
  }
 ],
 "metadata": {
  "kernelspec": {
   "display_name": "Python 3",
   "language": "python",
   "name": "python3"
  },
  "language_info": {
   "codemirror_mode": {
    "name": "ipython",
    "version": 3
   },
   "file_extension": ".py",
   "mimetype": "text/x-python",
   "name": "python",
   "nbconvert_exporter": "python",
   "pygments_lexer": "ipython3",
   "version": "3.6.6"
  }
 },
 "nbformat": 4,
 "nbformat_minor": 2
}
