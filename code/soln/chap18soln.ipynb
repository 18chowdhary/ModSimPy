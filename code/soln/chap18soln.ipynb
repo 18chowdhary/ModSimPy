{
 "cells": [
  {
   "cell_type": "markdown",
   "metadata": {},
   "source": [
    "# Modeling and Simulation in Python\n",
    "\n",
    "Chapter 18\n",
    "\n",
    "Copyright 2017 Allen Downey\n",
    "\n",
    "License: [Creative Commons Attribution 4.0 International](https://creativecommons.org/licenses/by/4.0)\n"
   ]
  },
  {
   "cell_type": "code",
   "execution_count": 1,
   "metadata": {
    "collapsed": true
   },
   "outputs": [],
   "source": [
    "# Configure Jupyter so figures appear in the notebook\n",
    "%matplotlib inline\n",
    "\n",
    "# Configure Jupyter to display the assigned value after an assignment\n",
    "%config InteractiveShell.ast_node_interactivity='last_expr_or_assign'\n",
    "\n",
    "# import functions from the modsim.py module\n",
    "from modsim import *"
   ]
  },
  {
   "cell_type": "markdown",
   "metadata": {},
   "source": [
    "### Data\n",
    "\n",
    "We have data from Pacini and Bergman (1986), \"MINMOD: a computer program to calculate insulin sensitivity and pancreatic responsivity from the frequently sampled intravenous glucose tolerance test\", *Computer Methods and Programs in Biomedicine*, 23: 113-122.."
   ]
  },
  {
   "cell_type": "code",
   "execution_count": 2,
   "metadata": {},
   "outputs": [],
   "source": [
    "data = pd.read_csv('data/glucose_insulin.csv', index_col='time');"
   ]
  },
  {
   "cell_type": "markdown",
   "metadata": {},
   "source": [
    "The return value from `interpolate` is a function."
   ]
  },
  {
   "cell_type": "code",
   "execution_count": 3,
   "metadata": {
    "collapsed": true
   },
   "outputs": [
    {
     "data": {
      "text/plain": [
       "<scipy.interpolate.interpolate.interp1d at 0x7fbf212e6ea8>"
      ]
     },
     "execution_count": 3,
     "metadata": {},
     "output_type": "execute_result"
    }
   ],
   "source": [
    "I = interpolate(data.insulin)"
   ]
  },
  {
   "cell_type": "code",
   "execution_count": 4,
   "metadata": {
    "collapsed": true
   },
   "outputs": [
    {
     "data": {
      "text/plain": [
       "290"
      ]
     },
     "execution_count": 4,
     "metadata": {},
     "output_type": "execute_result"
    }
   ],
   "source": [
    "k1 = 0.03\n",
    "k2 = 0.02\n",
    "k3 = 1e-05\n",
    "G0 = 290"
   ]
  },
  {
   "cell_type": "markdown",
   "metadata": {},
   "source": [
    "To estimate basal levels, we'll use the concentrations at `t=0`."
   ]
  },
  {
   "cell_type": "code",
   "execution_count": 5,
   "metadata": {
    "collapsed": true
   },
   "outputs": [
    {
     "data": {
      "text/plain": [
       "11"
      ]
     },
     "execution_count": 5,
     "metadata": {},
     "output_type": "execute_result"
    }
   ],
   "source": [
    "Gb = data.glucose[0]\n",
    "Ib = data.insulin[0]"
   ]
  },
  {
   "cell_type": "markdown",
   "metadata": {},
   "source": [
    "In the initial conditions, `X(0)=0` and `G(0)=G0`, where `G0` is one of the parameters we'll choose."
   ]
  },
  {
   "cell_type": "code",
   "execution_count": 6,
   "metadata": {
    "collapsed": true
   },
   "outputs": [
    {
     "data": {
      "text/html": [
       "<div>\n",
       "<style scoped>\n",
       "    .dataframe tbody tr th:only-of-type {\n",
       "        vertical-align: middle;\n",
       "    }\n",
       "\n",
       "    .dataframe tbody tr th {\n",
       "        vertical-align: top;\n",
       "    }\n",
       "\n",
       "    .dataframe thead th {\n",
       "        text-align: right;\n",
       "    }\n",
       "</style>\n",
       "<table border=\"1\" class=\"dataframe\">\n",
       "  <thead>\n",
       "    <tr style=\"text-align: right;\">\n",
       "      <th></th>\n",
       "      <th>values</th>\n",
       "    </tr>\n",
       "  </thead>\n",
       "  <tbody>\n",
       "    <tr>\n",
       "      <th>G</th>\n",
       "      <td>290</td>\n",
       "    </tr>\n",
       "    <tr>\n",
       "      <th>X</th>\n",
       "      <td>0</td>\n",
       "    </tr>\n",
       "  </tbody>\n",
       "</table>\n",
       "</div>"
      ],
      "text/plain": [
       "G    290\n",
       "X      0\n",
       "dtype: int64"
      ]
     },
     "execution_count": 6,
     "metadata": {},
     "output_type": "execute_result"
    }
   ],
   "source": [
    "init = State(G=G0, X=0)"
   ]
  },
  {
   "cell_type": "markdown",
   "metadata": {},
   "source": [
    "Here's the system object with all parameters and the interpolation object `I`."
   ]
  },
  {
   "cell_type": "code",
   "execution_count": 7,
   "metadata": {
    "collapsed": true
   },
   "outputs": [
    {
     "data": {
      "text/html": [
       "<div>\n",
       "<style scoped>\n",
       "    .dataframe tbody tr th:only-of-type {\n",
       "        vertical-align: middle;\n",
       "    }\n",
       "\n",
       "    .dataframe tbody tr th {\n",
       "        vertical-align: top;\n",
       "    }\n",
       "\n",
       "    .dataframe thead th {\n",
       "        text-align: right;\n",
       "    }\n",
       "</style>\n",
       "<table border=\"1\" class=\"dataframe\">\n",
       "  <thead>\n",
       "    <tr style=\"text-align: right;\">\n",
       "      <th></th>\n",
       "      <th>values</th>\n",
       "    </tr>\n",
       "  </thead>\n",
       "  <tbody>\n",
       "    <tr>\n",
       "      <th>init</th>\n",
       "      <td>G    290\n",
       "X      0\n",
       "dtype: int64</td>\n",
       "    </tr>\n",
       "    <tr>\n",
       "      <th>k1</th>\n",
       "      <td>0.03</td>\n",
       "    </tr>\n",
       "    <tr>\n",
       "      <th>k2</th>\n",
       "      <td>0.02</td>\n",
       "    </tr>\n",
       "    <tr>\n",
       "      <th>k3</th>\n",
       "      <td>1e-05</td>\n",
       "    </tr>\n",
       "    <tr>\n",
       "      <th>I</th>\n",
       "      <td>&lt;scipy.interpolate.interpolate.interp1d object...</td>\n",
       "    </tr>\n",
       "    <tr>\n",
       "      <th>Gb</th>\n",
       "      <td>92</td>\n",
       "    </tr>\n",
       "    <tr>\n",
       "      <th>Ib</th>\n",
       "      <td>11</td>\n",
       "    </tr>\n",
       "    <tr>\n",
       "      <th>t0</th>\n",
       "      <td>0</td>\n",
       "    </tr>\n",
       "    <tr>\n",
       "      <th>t_end</th>\n",
       "      <td>182</td>\n",
       "    </tr>\n",
       "    <tr>\n",
       "      <th>dt</th>\n",
       "      <td>2</td>\n",
       "    </tr>\n",
       "  </tbody>\n",
       "</table>\n",
       "</div>"
      ],
      "text/plain": [
       "init                        G    290\n",
       "X      0\n",
       "dtype: int64\n",
       "k1                                                    0.03\n",
       "k2                                                    0.02\n",
       "k3                                                   1e-05\n",
       "I        <scipy.interpolate.interpolate.interp1d object...\n",
       "Gb                                                      92\n",
       "Ib                                                      11\n",
       "t0                                                       0\n",
       "t_end                                                  182\n",
       "dt                                                       2\n",
       "dtype: object"
      ]
     },
     "execution_count": 7,
     "metadata": {},
     "output_type": "execute_result"
    }
   ],
   "source": [
    "system = System(init=init, \n",
    "                k1=k1, k2=k2, k3=k3,\n",
    "                I=I, Gb=Gb, Ib=Ib,\n",
    "                t0=0, t_end=182, dt=2)"
   ]
  },
  {
   "cell_type": "code",
   "execution_count": 8,
   "metadata": {
    "collapsed": true
   },
   "outputs": [],
   "source": [
    "def update_func(state, t, system):\n",
    "    \"\"\"Updates the glucose minimal model.\n",
    "    \n",
    "    state: State object\n",
    "    t: time in min\n",
    "    system: System object\n",
    "    \n",
    "    returns: State object\n",
    "    \"\"\"\n",
    "    G, X = state\n",
    "    unpack(system)\n",
    "        \n",
    "    dGdt = -k1 * (G - Gb) - X*G\n",
    "    dXdt = k3 * (I(t) - Ib) - k2 * X\n",
    "    \n",
    "    G += dGdt * dt\n",
    "    X += dXdt * dt\n",
    "\n",
    "    return State(G=G, X=X)"
   ]
  },
  {
   "cell_type": "code",
   "execution_count": 53,
   "metadata": {
    "collapsed": true
   },
   "outputs": [],
   "source": [
    "def run_simulation(system, update_func):\n",
    "    \"\"\"Runs a simulation of the system.\n",
    "        \n",
    "    system: System object\n",
    "    update_func: function that updates state\n",
    "    \n",
    "    returns: TimeFrame\n",
    "    \"\"\"\n",
    "    unpack(system)\n",
    "    \n",
    "    frame = TimeFrame(columns=init.index)\n",
    "    frame.row[t0] = init\n",
    "    ts = linrange(t0, t_end-dt, dt)\n",
    "    \n",
    "    for t in ts:\n",
    "        frame.row[t+dt] = update_func(frame.row[t], t, system)\n",
    "    \n",
    "    return frame"
   ]
  },
  {
   "cell_type": "markdown",
   "metadata": {},
   "source": [
    "And here's how we run it.  "
   ]
  },
  {
   "cell_type": "code",
   "execution_count": 54,
   "metadata": {},
   "outputs": [
    {
     "name": "stdout",
     "output_type": "stream",
     "text": [
      "CPU times: user 264 ms, sys: 12 ms, total: 276 ms\n",
      "Wall time: 271 ms\n"
     ]
    }
   ],
   "source": [
    "%time results = run_simulation(system, update_func);"
   ]
  },
  {
   "cell_type": "code",
   "execution_count": 11,
   "metadata": {},
   "outputs": [
    {
     "data": {
      "text/html": [
       "<div>\n",
       "<style scoped>\n",
       "    .dataframe tbody tr th:only-of-type {\n",
       "        vertical-align: middle;\n",
       "    }\n",
       "\n",
       "    .dataframe tbody tr th {\n",
       "        vertical-align: top;\n",
       "    }\n",
       "\n",
       "    .dataframe thead th {\n",
       "        text-align: right;\n",
       "    }\n",
       "</style>\n",
       "<table border=\"1\" class=\"dataframe\">\n",
       "  <thead>\n",
       "    <tr style=\"text-align: right;\">\n",
       "      <th></th>\n",
       "      <th>G</th>\n",
       "      <th>X</th>\n",
       "    </tr>\n",
       "  </thead>\n",
       "  <tbody>\n",
       "    <tr>\n",
       "      <th>0</th>\n",
       "      <td>290.000000</td>\n",
       "      <td>0.000000</td>\n",
       "    </tr>\n",
       "    <tr>\n",
       "      <th>2</th>\n",
       "      <td>278.120000</td>\n",
       "      <td>0.000000</td>\n",
       "    </tr>\n",
       "    <tr>\n",
       "      <th>4</th>\n",
       "      <td>266.952800</td>\n",
       "      <td>0.000300</td>\n",
       "    </tr>\n",
       "    <tr>\n",
       "      <th>6</th>\n",
       "      <td>256.295460</td>\n",
       "      <td>0.002668</td>\n",
       "    </tr>\n",
       "    <tr>\n",
       "      <th>8</th>\n",
       "      <td>245.070140</td>\n",
       "      <td>0.004041</td>\n",
       "    </tr>\n",
       "    <tr>\n",
       "      <th>10</th>\n",
       "      <td>233.905138</td>\n",
       "      <td>0.004680</td>\n",
       "    </tr>\n",
       "    <tr>\n",
       "      <th>12</th>\n",
       "      <td>223.201651</td>\n",
       "      <td>0.005252</td>\n",
       "    </tr>\n",
       "    <tr>\n",
       "      <th>14</th>\n",
       "      <td>212.984844</td>\n",
       "      <td>0.005722</td>\n",
       "    </tr>\n",
       "    <tr>\n",
       "      <th>16</th>\n",
       "      <td>203.288207</td>\n",
       "      <td>0.006093</td>\n",
       "    </tr>\n",
       "    <tr>\n",
       "      <th>18</th>\n",
       "      <td>194.133461</td>\n",
       "      <td>0.006330</td>\n",
       "    </tr>\n",
       "    <tr>\n",
       "      <th>20</th>\n",
       "      <td>185.547835</td>\n",
       "      <td>0.006490</td>\n",
       "    </tr>\n",
       "    <tr>\n",
       "      <th>22</th>\n",
       "      <td>177.526606</td>\n",
       "      <td>0.006610</td>\n",
       "    </tr>\n",
       "    <tr>\n",
       "      <th>24</th>\n",
       "      <td>170.048014</td>\n",
       "      <td>0.006726</td>\n",
       "    </tr>\n",
       "    <tr>\n",
       "      <th>26</th>\n",
       "      <td>163.077697</td>\n",
       "      <td>0.006813</td>\n",
       "    </tr>\n",
       "    <tr>\n",
       "      <th>28</th>\n",
       "      <td>156.590997</td>\n",
       "      <td>0.006872</td>\n",
       "    </tr>\n",
       "    <tr>\n",
       "      <th>30</th>\n",
       "      <td>150.563255</td>\n",
       "      <td>0.006929</td>\n",
       "    </tr>\n",
       "    <tr>\n",
       "      <th>32</th>\n",
       "      <td>144.962829</td>\n",
       "      <td>0.007008</td>\n",
       "    </tr>\n",
       "    <tr>\n",
       "      <th>34</th>\n",
       "      <td>139.753191</td>\n",
       "      <td>0.007108</td>\n",
       "    </tr>\n",
       "    <tr>\n",
       "      <th>36</th>\n",
       "      <td>134.901294</td>\n",
       "      <td>0.007172</td>\n",
       "    </tr>\n",
       "    <tr>\n",
       "      <th>38</th>\n",
       "      <td>130.392302</td>\n",
       "      <td>0.007201</td>\n",
       "    </tr>\n",
       "    <tr>\n",
       "      <th>40</th>\n",
       "      <td>126.210925</td>\n",
       "      <td>0.007197</td>\n",
       "    </tr>\n",
       "    <tr>\n",
       "      <th>42</th>\n",
       "      <td>122.341665</td>\n",
       "      <td>0.007161</td>\n",
       "    </tr>\n",
       "    <tr>\n",
       "      <th>44</th>\n",
       "      <td>118.769029</td>\n",
       "      <td>0.007094</td>\n",
       "    </tr>\n",
       "    <tr>\n",
       "      <th>46</th>\n",
       "      <td>115.477698</td>\n",
       "      <td>0.007003</td>\n",
       "    </tr>\n",
       "    <tr>\n",
       "      <th>48</th>\n",
       "      <td>112.451743</td>\n",
       "      <td>0.006887</td>\n",
       "    </tr>\n",
       "    <tr>\n",
       "      <th>50</th>\n",
       "      <td>109.675836</td>\n",
       "      <td>0.006747</td>\n",
       "    </tr>\n",
       "    <tr>\n",
       "      <th>52</th>\n",
       "      <td>107.135308</td>\n",
       "      <td>0.006585</td>\n",
       "    </tr>\n",
       "    <tr>\n",
       "      <th>54</th>\n",
       "      <td>104.816180</td>\n",
       "      <td>0.006402</td>\n",
       "    </tr>\n",
       "    <tr>\n",
       "      <th>56</th>\n",
       "      <td>102.705192</td>\n",
       "      <td>0.006226</td>\n",
       "    </tr>\n",
       "    <tr>\n",
       "      <th>58</th>\n",
       "      <td>100.784058</td>\n",
       "      <td>0.006057</td>\n",
       "    </tr>\n",
       "    <tr>\n",
       "      <th>...</th>\n",
       "      <td>...</td>\n",
       "      <td>...</td>\n",
       "    </tr>\n",
       "    <tr>\n",
       "      <th>124</th>\n",
       "      <td>86.390694</td>\n",
       "      <td>0.001095</td>\n",
       "    </tr>\n",
       "    <tr>\n",
       "      <th>126</th>\n",
       "      <td>86.538102</td>\n",
       "      <td>0.000973</td>\n",
       "    </tr>\n",
       "    <tr>\n",
       "      <th>128</th>\n",
       "      <td>86.697421</td>\n",
       "      <td>0.000858</td>\n",
       "    </tr>\n",
       "    <tr>\n",
       "      <th>130</th>\n",
       "      <td>86.866797</td>\n",
       "      <td>0.000750</td>\n",
       "    </tr>\n",
       "    <tr>\n",
       "      <th>132</th>\n",
       "      <td>87.044539</td>\n",
       "      <td>0.000648</td>\n",
       "    </tr>\n",
       "    <tr>\n",
       "      <th>134</th>\n",
       "      <td>87.229105</td>\n",
       "      <td>0.000552</td>\n",
       "    </tr>\n",
       "    <tr>\n",
       "      <th>136</th>\n",
       "      <td>87.419090</td>\n",
       "      <td>0.000462</td>\n",
       "    </tr>\n",
       "    <tr>\n",
       "      <th>138</th>\n",
       "      <td>87.613215</td>\n",
       "      <td>0.000377</td>\n",
       "    </tr>\n",
       "    <tr>\n",
       "      <th>140</th>\n",
       "      <td>87.810314</td>\n",
       "      <td>0.000298</td>\n",
       "    </tr>\n",
       "    <tr>\n",
       "      <th>142</th>\n",
       "      <td>88.009328</td>\n",
       "      <td>0.000224</td>\n",
       "    </tr>\n",
       "    <tr>\n",
       "      <th>144</th>\n",
       "      <td>88.209296</td>\n",
       "      <td>0.000155</td>\n",
       "    </tr>\n",
       "    <tr>\n",
       "      <th>146</th>\n",
       "      <td>88.409343</td>\n",
       "      <td>0.000089</td>\n",
       "    </tr>\n",
       "    <tr>\n",
       "      <th>148</th>\n",
       "      <td>88.609033</td>\n",
       "      <td>0.000026</td>\n",
       "    </tr>\n",
       "    <tr>\n",
       "      <th>150</th>\n",
       "      <td>88.807970</td>\n",
       "      <td>-0.000036</td>\n",
       "    </tr>\n",
       "    <tr>\n",
       "      <th>152</th>\n",
       "      <td>89.005799</td>\n",
       "      <td>-0.000094</td>\n",
       "    </tr>\n",
       "    <tr>\n",
       "      <th>154</th>\n",
       "      <td>89.202200</td>\n",
       "      <td>-0.000150</td>\n",
       "    </tr>\n",
       "    <tr>\n",
       "      <th>156</th>\n",
       "      <td>89.396887</td>\n",
       "      <td>-0.000204</td>\n",
       "    </tr>\n",
       "    <tr>\n",
       "      <th>158</th>\n",
       "      <td>89.589604</td>\n",
       "      <td>-0.000256</td>\n",
       "    </tr>\n",
       "    <tr>\n",
       "      <th>160</th>\n",
       "      <td>89.780123</td>\n",
       "      <td>-0.000306</td>\n",
       "    </tr>\n",
       "    <tr>\n",
       "      <th>162</th>\n",
       "      <td>89.968242</td>\n",
       "      <td>-0.000354</td>\n",
       "    </tr>\n",
       "    <tr>\n",
       "      <th>164</th>\n",
       "      <td>90.153784</td>\n",
       "      <td>-0.000400</td>\n",
       "    </tr>\n",
       "    <tr>\n",
       "      <th>166</th>\n",
       "      <td>90.336592</td>\n",
       "      <td>-0.000446</td>\n",
       "    </tr>\n",
       "    <tr>\n",
       "      <th>168</th>\n",
       "      <td>90.516892</td>\n",
       "      <td>-0.000492</td>\n",
       "    </tr>\n",
       "    <tr>\n",
       "      <th>170</th>\n",
       "      <td>90.694895</td>\n",
       "      <td>-0.000538</td>\n",
       "    </tr>\n",
       "    <tr>\n",
       "      <th>172</th>\n",
       "      <td>90.870797</td>\n",
       "      <td>-0.000585</td>\n",
       "    </tr>\n",
       "    <tr>\n",
       "      <th>174</th>\n",
       "      <td>91.044781</td>\n",
       "      <td>-0.000631</td>\n",
       "    </tr>\n",
       "    <tr>\n",
       "      <th>176</th>\n",
       "      <td>91.217018</td>\n",
       "      <td>-0.000678</td>\n",
       "    </tr>\n",
       "    <tr>\n",
       "      <th>178</th>\n",
       "      <td>91.387668</td>\n",
       "      <td>-0.000725</td>\n",
       "    </tr>\n",
       "    <tr>\n",
       "      <th>180</th>\n",
       "      <td>91.556880</td>\n",
       "      <td>-0.000772</td>\n",
       "    </tr>\n",
       "    <tr>\n",
       "      <th>182</th>\n",
       "      <td>91.724792</td>\n",
       "      <td>-0.000819</td>\n",
       "    </tr>\n",
       "  </tbody>\n",
       "</table>\n",
       "<p>92 rows × 2 columns</p>\n",
       "</div>"
      ],
      "text/plain": [
       "              G         X\n",
       "0    290.000000  0.000000\n",
       "2    278.120000  0.000000\n",
       "4    266.952800  0.000300\n",
       "6    256.295460  0.002668\n",
       "8    245.070140  0.004041\n",
       "10   233.905138  0.004680\n",
       "12   223.201651  0.005252\n",
       "14   212.984844  0.005722\n",
       "16   203.288207  0.006093\n",
       "18   194.133461  0.006330\n",
       "20   185.547835  0.006490\n",
       "22   177.526606  0.006610\n",
       "24   170.048014  0.006726\n",
       "26   163.077697  0.006813\n",
       "28   156.590997  0.006872\n",
       "30   150.563255  0.006929\n",
       "32   144.962829  0.007008\n",
       "34   139.753191  0.007108\n",
       "36   134.901294  0.007172\n",
       "38   130.392302  0.007201\n",
       "40   126.210925  0.007197\n",
       "42   122.341665  0.007161\n",
       "44   118.769029  0.007094\n",
       "46   115.477698  0.007003\n",
       "48   112.451743  0.006887\n",
       "50   109.675836  0.006747\n",
       "52   107.135308  0.006585\n",
       "54   104.816180  0.006402\n",
       "56   102.705192  0.006226\n",
       "58   100.784058  0.006057\n",
       "..          ...       ...\n",
       "124   86.390694  0.001095\n",
       "126   86.538102  0.000973\n",
       "128   86.697421  0.000858\n",
       "130   86.866797  0.000750\n",
       "132   87.044539  0.000648\n",
       "134   87.229105  0.000552\n",
       "136   87.419090  0.000462\n",
       "138   87.613215  0.000377\n",
       "140   87.810314  0.000298\n",
       "142   88.009328  0.000224\n",
       "144   88.209296  0.000155\n",
       "146   88.409343  0.000089\n",
       "148   88.609033  0.000026\n",
       "150   88.807970 -0.000036\n",
       "152   89.005799 -0.000094\n",
       "154   89.202200 -0.000150\n",
       "156   89.396887 -0.000204\n",
       "158   89.589604 -0.000256\n",
       "160   89.780123 -0.000306\n",
       "162   89.968242 -0.000354\n",
       "164   90.153784 -0.000400\n",
       "166   90.336592 -0.000446\n",
       "168   90.516892 -0.000492\n",
       "170   90.694895 -0.000538\n",
       "172   90.870797 -0.000585\n",
       "174   91.044781 -0.000631\n",
       "176   91.217018 -0.000678\n",
       "178   91.387668 -0.000725\n",
       "180   91.556880 -0.000772\n",
       "182   91.724792 -0.000819\n",
       "\n",
       "[92 rows x 2 columns]"
      ]
     },
     "execution_count": 11,
     "metadata": {},
     "output_type": "execute_result"
    }
   ],
   "source": [
    "results"
   ]
  },
  {
   "cell_type": "markdown",
   "metadata": {},
   "source": [
    "### Numerical solution\n",
    "\n",
    "We can do the same thing using `odeint`.  Instead of an update function, we provide a slope function that evaluates the right-hand side of the differential equations.  We don't have to do the update part; `odeint` does it for us."
   ]
  },
  {
   "cell_type": "code",
   "execution_count": 12,
   "metadata": {
    "collapsed": true
   },
   "outputs": [],
   "source": [
    "def slope_func(state, t, system):\n",
    "    \"\"\"Computes derivatives of the glucose minimal model.\n",
    "    \n",
    "    state: State object\n",
    "    t: time in min\n",
    "    system: System object\n",
    "    \n",
    "    returns: derivatives of G and X\n",
    "    \"\"\"\n",
    "    G, X = state\n",
    "    unpack(system)\n",
    "    \n",
    "    dGdt = -k1 * (G - Gb) - X*G\n",
    "    dXdt = k3 * (I(t) - Ib) - k2 * X\n",
    "    \n",
    "    return dGdt, dXdt"
   ]
  },
  {
   "cell_type": "markdown",
   "metadata": {},
   "source": [
    "We can test the slope function with the initial conditions."
   ]
  },
  {
   "cell_type": "code",
   "execution_count": 13,
   "metadata": {},
   "outputs": [
    {
     "data": {
      "text/plain": [
       "(-5.9399999999999995, 0.0)"
      ]
     },
     "execution_count": 13,
     "metadata": {},
     "output_type": "execute_result"
    }
   ],
   "source": [
    "slope_func(init, 0, system)"
   ]
  },
  {
   "cell_type": "markdown",
   "metadata": {},
   "source": [
    "The `System` object we use with `run_odeint` is almost the same as the one we used with `run_simulation`, but instead of providing `t0`, `t_end`, and `dt`, we provide an array of times where we want to evaluate the solution.  In this case, we use `data.index`, so the results are evaluated at the same times as the measurements."
   ]
  },
  {
   "cell_type": "code",
   "execution_count": 14,
   "metadata": {
    "collapsed": true
   },
   "outputs": [
    {
     "data": {
      "text/html": [
       "<div>\n",
       "<style scoped>\n",
       "    .dataframe tbody tr th:only-of-type {\n",
       "        vertical-align: middle;\n",
       "    }\n",
       "\n",
       "    .dataframe tbody tr th {\n",
       "        vertical-align: top;\n",
       "    }\n",
       "\n",
       "    .dataframe thead th {\n",
       "        text-align: right;\n",
       "    }\n",
       "</style>\n",
       "<table border=\"1\" class=\"dataframe\">\n",
       "  <thead>\n",
       "    <tr style=\"text-align: right;\">\n",
       "      <th></th>\n",
       "      <th>values</th>\n",
       "    </tr>\n",
       "  </thead>\n",
       "  <tbody>\n",
       "    <tr>\n",
       "      <th>init</th>\n",
       "      <td>G    290\n",
       "X      0\n",
       "dtype: int64</td>\n",
       "    </tr>\n",
       "    <tr>\n",
       "      <th>k1</th>\n",
       "      <td>0.03</td>\n",
       "    </tr>\n",
       "    <tr>\n",
       "      <th>k2</th>\n",
       "      <td>0.02</td>\n",
       "    </tr>\n",
       "    <tr>\n",
       "      <th>k3</th>\n",
       "      <td>1e-05</td>\n",
       "    </tr>\n",
       "    <tr>\n",
       "      <th>I</th>\n",
       "      <td>&lt;scipy.interpolate.interpolate.interp1d object...</td>\n",
       "    </tr>\n",
       "    <tr>\n",
       "      <th>Gb</th>\n",
       "      <td>92</td>\n",
       "    </tr>\n",
       "    <tr>\n",
       "      <th>Ib</th>\n",
       "      <td>11</td>\n",
       "    </tr>\n",
       "    <tr>\n",
       "      <th>ts</th>\n",
       "      <td>Int64Index([  0,   2,   4,   6,   8,  10,  12,...</td>\n",
       "    </tr>\n",
       "  </tbody>\n",
       "</table>\n",
       "</div>"
      ],
      "text/plain": [
       "init                       G    290\n",
       "X      0\n",
       "dtype: int64\n",
       "k1                                                   0.03\n",
       "k2                                                   0.02\n",
       "k3                                                  1e-05\n",
       "I       <scipy.interpolate.interpolate.interp1d object...\n",
       "Gb                                                     92\n",
       "Ib                                                     11\n",
       "ts      Int64Index([  0,   2,   4,   6,   8,  10,  12,...\n",
       "dtype: object"
      ]
     },
     "execution_count": 14,
     "metadata": {},
     "output_type": "execute_result"
    }
   ],
   "source": [
    "system2 = System(init=init, \n",
    "                 k1=k1, k2=k2, k3=k3,\n",
    "                 I=I, Gb=Gb, Ib=Ib,\n",
    "                 ts=data.index)"
   ]
  },
  {
   "cell_type": "markdown",
   "metadata": {},
   "source": [
    "`run_odeint` is a wrapper for `scipy.integrate.odeint`"
   ]
  },
  {
   "cell_type": "code",
   "execution_count": 15,
   "metadata": {
    "collapsed": true
   },
   "outputs": [
    {
     "data": {
      "text/plain": [
       "\u001b[0;32mdef\u001b[0m \u001b[0mrun_odeint\u001b[0m\u001b[0;34m(\u001b[0m\u001b[0msystem\u001b[0m\u001b[0;34m,\u001b[0m \u001b[0mslope_func\u001b[0m\u001b[0;34m,\u001b[0m \u001b[0;34m**\u001b[0m\u001b[0moptions\u001b[0m\u001b[0;34m)\u001b[0m\u001b[0;34m:\u001b[0m\u001b[0;34m\u001b[0m\n",
       "\u001b[0;34m\u001b[0m    \u001b[0;34m\"\"\"Runs a simulation of the system.\u001b[0m\n",
       "\u001b[0;34m\u001b[0m\n",
       "\u001b[0;34m    `system` should contain system parameters and `ts`, which\u001b[0m\n",
       "\u001b[0;34m    is an array or Series that specifies the time when the\u001b[0m\n",
       "\u001b[0;34m    solution will be computed.\u001b[0m\n",
       "\u001b[0;34m\u001b[0m\n",
       "\u001b[0;34m    system: System object\u001b[0m\n",
       "\u001b[0;34m    slope_func: function that computes slopes\u001b[0m\n",
       "\u001b[0;34m\u001b[0m\n",
       "\u001b[0;34m    returns: TimeFrame\u001b[0m\n",
       "\u001b[0;34m    \"\"\"\u001b[0m\u001b[0;34m\u001b[0m\n",
       "\u001b[0;34m\u001b[0m    \u001b[0;31m# makes sure `system` contains `ts`\u001b[0m\u001b[0;34m\u001b[0m\n",
       "\u001b[0;34m\u001b[0m    \u001b[0;32mif\u001b[0m \u001b[0;32mnot\u001b[0m \u001b[0mhasattr\u001b[0m\u001b[0;34m(\u001b[0m\u001b[0msystem\u001b[0m\u001b[0;34m,\u001b[0m \u001b[0;34m'ts'\u001b[0m\u001b[0;34m)\u001b[0m\u001b[0;34m:\u001b[0m\u001b[0;34m\u001b[0m\n",
       "\u001b[0;34m\u001b[0m        \u001b[0mmsg\u001b[0m \u001b[0;34m=\u001b[0m \u001b[0;34m\"\"\"It looks like `system` does not contain `ts`\u001b[0m\n",
       "\u001b[0;34m                 as a system variable.  `ts` should be an array\u001b[0m\n",
       "\u001b[0;34m                 or Series that specifies the times when the\u001b[0m\n",
       "\u001b[0;34m                 solution will be computed:\"\"\"\u001b[0m\u001b[0;34m\u001b[0m\n",
       "\u001b[0;34m\u001b[0m        \u001b[0;32mraise\u001b[0m \u001b[0mValueError\u001b[0m\u001b[0;34m(\u001b[0m\u001b[0mmsg\u001b[0m\u001b[0;34m)\u001b[0m\u001b[0;34m\u001b[0m\n",
       "\u001b[0;34m\u001b[0m\u001b[0;34m\u001b[0m\n",
       "\u001b[0;34m\u001b[0m    \u001b[0;31m# makes sure `system` contains `ts`\u001b[0m\u001b[0;34m\u001b[0m\n",
       "\u001b[0;34m\u001b[0m    \u001b[0;32mif\u001b[0m \u001b[0;32mnot\u001b[0m \u001b[0mhasattr\u001b[0m\u001b[0;34m(\u001b[0m\u001b[0msystem\u001b[0m\u001b[0;34m,\u001b[0m \u001b[0;34m'init'\u001b[0m\u001b[0;34m)\u001b[0m\u001b[0;34m:\u001b[0m\u001b[0;34m\u001b[0m\n",
       "\u001b[0;34m\u001b[0m        \u001b[0mmsg\u001b[0m \u001b[0;34m=\u001b[0m \u001b[0;34m\"\"\"It looks like `system` does not contain `init`\u001b[0m\n",
       "\u001b[0;34m                 as a system variable.  `init` should be a State\u001b[0m\n",
       "\u001b[0;34m                 object that specifies the initial condition:\"\"\"\u001b[0m\u001b[0;34m\u001b[0m\n",
       "\u001b[0;34m\u001b[0m        \u001b[0;32mraise\u001b[0m \u001b[0mValueError\u001b[0m\u001b[0;34m(\u001b[0m\u001b[0mmsg\u001b[0m\u001b[0;34m)\u001b[0m\u001b[0;34m\u001b[0m\n",
       "\u001b[0;34m\u001b[0m\u001b[0;34m\u001b[0m\n",
       "\u001b[0;34m\u001b[0m    \u001b[0;31m# make the system parameters available as globals\u001b[0m\u001b[0;34m\u001b[0m\n",
       "\u001b[0;34m\u001b[0m    \u001b[0munpack\u001b[0m\u001b[0;34m(\u001b[0m\u001b[0msystem\u001b[0m\u001b[0;34m)\u001b[0m\u001b[0;34m\u001b[0m\n",
       "\u001b[0;34m\u001b[0m\u001b[0;34m\u001b[0m\n",
       "\u001b[0;34m\u001b[0m    \u001b[0;31m# try running the slope function with the initial conditions\u001b[0m\u001b[0;34m\u001b[0m\n",
       "\u001b[0;34m\u001b[0m    \u001b[0;32mtry\u001b[0m\u001b[0;34m:\u001b[0m\u001b[0;34m\u001b[0m\n",
       "\u001b[0;34m\u001b[0m        \u001b[0mslope_func\u001b[0m\u001b[0;34m(\u001b[0m\u001b[0minit\u001b[0m\u001b[0;34m,\u001b[0m \u001b[0mts\u001b[0m\u001b[0;34m[\u001b[0m\u001b[0;36m0\u001b[0m\u001b[0;34m]\u001b[0m\u001b[0;34m,\u001b[0m \u001b[0msystem\u001b[0m\u001b[0;34m)\u001b[0m\u001b[0;34m\u001b[0m\n",
       "\u001b[0;34m\u001b[0m    \u001b[0;32mexcept\u001b[0m \u001b[0mException\u001b[0m \u001b[0;32mas\u001b[0m \u001b[0me\u001b[0m\u001b[0;34m:\u001b[0m\u001b[0;34m\u001b[0m\n",
       "\u001b[0;34m\u001b[0m        \u001b[0mmsg\u001b[0m \u001b[0;34m=\u001b[0m \u001b[0;34m\"\"\"Before running scipy.integrate.odeint, I tried\u001b[0m\n",
       "\u001b[0;34m                 running the slope function you provided with the\u001b[0m\n",
       "\u001b[0;34m                 initial conditions in system and t=0, and I got\u001b[0m\n",
       "\u001b[0;34m                 the following error:\"\"\"\u001b[0m\u001b[0;34m\u001b[0m\n",
       "\u001b[0;34m\u001b[0m        \u001b[0mlogger\u001b[0m\u001b[0;34m.\u001b[0m\u001b[0merror\u001b[0m\u001b[0;34m(\u001b[0m\u001b[0mmsg\u001b[0m\u001b[0;34m)\u001b[0m\u001b[0;34m\u001b[0m\n",
       "\u001b[0;34m\u001b[0m        \u001b[0;32mraise\u001b[0m\u001b[0;34m(\u001b[0m\u001b[0me\u001b[0m\u001b[0;34m)\u001b[0m\u001b[0;34m\u001b[0m\n",
       "\u001b[0;34m\u001b[0m\u001b[0;34m\u001b[0m\n",
       "\u001b[0;34m\u001b[0m    \u001b[0;31m# when odeint calls slope_func, it should pass `system` as\u001b[0m\u001b[0;34m\u001b[0m\n",
       "\u001b[0;34m\u001b[0m    \u001b[0;31m# the third argument.  To make that work, we have to make a\u001b[0m\u001b[0;34m\u001b[0m\n",
       "\u001b[0;34m\u001b[0m    \u001b[0;31m# tuple with a single element and pass the tuple to odeint as `args`\u001b[0m\u001b[0;34m\u001b[0m\n",
       "\u001b[0;34m\u001b[0m    \u001b[0margs\u001b[0m \u001b[0;34m=\u001b[0m \u001b[0;34m(\u001b[0m\u001b[0msystem\u001b[0m\u001b[0;34m,\u001b[0m\u001b[0;34m)\u001b[0m\u001b[0;34m\u001b[0m\n",
       "\u001b[0;34m\u001b[0m\u001b[0;34m\u001b[0m\n",
       "\u001b[0;34m\u001b[0m    \u001b[0;31m# now we're ready to run `odeint` with `init` and `ts` from `system`\u001b[0m\u001b[0;34m\u001b[0m\n",
       "\u001b[0;34m\u001b[0m    \u001b[0munits_off\u001b[0m\u001b[0;34m(\u001b[0m\u001b[0;34m)\u001b[0m\u001b[0;34m\u001b[0m\n",
       "\u001b[0;34m\u001b[0m    \u001b[0marray\u001b[0m \u001b[0;34m=\u001b[0m \u001b[0modeint\u001b[0m\u001b[0;34m(\u001b[0m\u001b[0mslope_func\u001b[0m\u001b[0;34m,\u001b[0m \u001b[0mlist\u001b[0m\u001b[0;34m(\u001b[0m\u001b[0minit\u001b[0m\u001b[0;34m)\u001b[0m\u001b[0;34m,\u001b[0m \u001b[0mts\u001b[0m\u001b[0;34m,\u001b[0m \u001b[0margs\u001b[0m\u001b[0;34m,\u001b[0m \u001b[0;34m**\u001b[0m\u001b[0moptions\u001b[0m\u001b[0;34m)\u001b[0m\u001b[0;34m\u001b[0m\n",
       "\u001b[0;34m\u001b[0m    \u001b[0munits_on\u001b[0m\u001b[0;34m(\u001b[0m\u001b[0;34m)\u001b[0m\u001b[0;34m\u001b[0m\n",
       "\u001b[0;34m\u001b[0m\u001b[0;34m\u001b[0m\n",
       "\u001b[0;34m\u001b[0m    \u001b[0;31m# the return value from odeint is an array, so let's pack it into\u001b[0m\u001b[0;34m\u001b[0m\n",
       "\u001b[0;34m\u001b[0m    \u001b[0;31m# a TimeFrame with appropriate columns and index\u001b[0m\u001b[0;34m\u001b[0m\n",
       "\u001b[0;34m\u001b[0m    \u001b[0mframe\u001b[0m \u001b[0;34m=\u001b[0m \u001b[0mTimeFrame\u001b[0m\u001b[0;34m(\u001b[0m\u001b[0marray\u001b[0m\u001b[0;34m,\u001b[0m \u001b[0mcolumns\u001b[0m\u001b[0;34m=\u001b[0m\u001b[0minit\u001b[0m\u001b[0;34m.\u001b[0m\u001b[0mindex\u001b[0m\u001b[0;34m,\u001b[0m \u001b[0mindex\u001b[0m\u001b[0;34m=\u001b[0m\u001b[0mts\u001b[0m\u001b[0;34m,\u001b[0m \u001b[0mdtype\u001b[0m\u001b[0;34m=\u001b[0m\u001b[0mnp\u001b[0m\u001b[0;34m.\u001b[0m\u001b[0mfloat64\u001b[0m\u001b[0;34m)\u001b[0m\u001b[0;34m\u001b[0m\n",
       "\u001b[0;34m\u001b[0m    \u001b[0;32mreturn\u001b[0m \u001b[0mframe\u001b[0m\u001b[0;34m\u001b[0m\u001b[0m\n"
      ]
     },
     "metadata": {},
     "output_type": "display_data"
    }
   ],
   "source": [
    "%psource run_odeint"
   ]
  },
  {
   "cell_type": "markdown",
   "metadata": {},
   "source": [
    "Here's how we run it."
   ]
  },
  {
   "cell_type": "code",
   "execution_count": 16,
   "metadata": {},
   "outputs": [
    {
     "name": "stdout",
     "output_type": "stream",
     "text": [
      "CPU times: user 220 ms, sys: 0 ns, total: 220 ms\n",
      "Wall time: 212 ms\n"
     ]
    }
   ],
   "source": [
    "%time results2 = run_odeint(system2, slope_func);"
   ]
  },
  {
   "cell_type": "markdown",
   "metadata": {},
   "source": [
    "And here are the results."
   ]
  },
  {
   "cell_type": "code",
   "execution_count": 17,
   "metadata": {},
   "outputs": [
    {
     "data": {
      "text/html": [
       "<div>\n",
       "<style scoped>\n",
       "    .dataframe tbody tr th:only-of-type {\n",
       "        vertical-align: middle;\n",
       "    }\n",
       "\n",
       "    .dataframe tbody tr th {\n",
       "        vertical-align: top;\n",
       "    }\n",
       "\n",
       "    .dataframe thead th {\n",
       "        text-align: right;\n",
       "    }\n",
       "</style>\n",
       "<table border=\"1\" class=\"dataframe\">\n",
       "  <thead>\n",
       "    <tr style=\"text-align: right;\">\n",
       "      <th></th>\n",
       "      <th>G</th>\n",
       "      <th>X</th>\n",
       "    </tr>\n",
       "    <tr>\n",
       "      <th>time</th>\n",
       "      <th></th>\n",
       "      <th></th>\n",
       "    </tr>\n",
       "  </thead>\n",
       "  <tbody>\n",
       "    <tr>\n",
       "      <th>0</th>\n",
       "      <td>290.000000</td>\n",
       "      <td>0.000000</td>\n",
       "    </tr>\n",
       "    <tr>\n",
       "      <th>2</th>\n",
       "      <td>278.441946</td>\n",
       "      <td>0.000148</td>\n",
       "    </tr>\n",
       "    <tr>\n",
       "      <th>4</th>\n",
       "      <td>267.246339</td>\n",
       "      <td>0.001463</td>\n",
       "    </tr>\n",
       "    <tr>\n",
       "      <th>6</th>\n",
       "      <td>255.791154</td>\n",
       "      <td>0.003294</td>\n",
       "    </tr>\n",
       "    <tr>\n",
       "      <th>8</th>\n",
       "      <td>244.385049</td>\n",
       "      <td>0.004280</td>\n",
       "    </tr>\n",
       "    <tr>\n",
       "      <th>10</th>\n",
       "      <td>233.385689</td>\n",
       "      <td>0.004877</td>\n",
       "    </tr>\n",
       "    <tr>\n",
       "      <th>12</th>\n",
       "      <td>222.875391</td>\n",
       "      <td>0.005391</td>\n",
       "    </tr>\n",
       "    <tr>\n",
       "      <th>14</th>\n",
       "      <td>212.883104</td>\n",
       "      <td>0.005807</td>\n",
       "    </tr>\n",
       "    <tr>\n",
       "      <th>16</th>\n",
       "      <td>203.432604</td>\n",
       "      <td>0.006108</td>\n",
       "    </tr>\n",
       "    <tr>\n",
       "      <th>19</th>\n",
       "      <td>190.311106</td>\n",
       "      <td>0.006378</td>\n",
       "    </tr>\n",
       "    <tr>\n",
       "      <th>22</th>\n",
       "      <td>178.430723</td>\n",
       "      <td>0.006560</td>\n",
       "    </tr>\n",
       "    <tr>\n",
       "      <th>27</th>\n",
       "      <td>161.141293</td>\n",
       "      <td>0.006767</td>\n",
       "    </tr>\n",
       "    <tr>\n",
       "      <th>32</th>\n",
       "      <td>146.627308</td>\n",
       "      <td>0.006957</td>\n",
       "    </tr>\n",
       "    <tr>\n",
       "      <th>42</th>\n",
       "      <td>124.272257</td>\n",
       "      <td>0.007043</td>\n",
       "    </tr>\n",
       "    <tr>\n",
       "      <th>52</th>\n",
       "      <td>109.125928</td>\n",
       "      <td>0.006436</td>\n",
       "    </tr>\n",
       "    <tr>\n",
       "      <th>62</th>\n",
       "      <td>99.310554</td>\n",
       "      <td>0.005632</td>\n",
       "    </tr>\n",
       "    <tr>\n",
       "      <th>72</th>\n",
       "      <td>93.102455</td>\n",
       "      <td>0.004786</td>\n",
       "    </tr>\n",
       "    <tr>\n",
       "      <th>82</th>\n",
       "      <td>89.434359</td>\n",
       "      <td>0.003872</td>\n",
       "    </tr>\n",
       "    <tr>\n",
       "      <th>92</th>\n",
       "      <td>87.498085</td>\n",
       "      <td>0.002986</td>\n",
       "    </tr>\n",
       "    <tr>\n",
       "      <th>102</th>\n",
       "      <td>86.712650</td>\n",
       "      <td>0.002313</td>\n",
       "    </tr>\n",
       "    <tr>\n",
       "      <th>122</th>\n",
       "      <td>86.844866</td>\n",
       "      <td>0.001199</td>\n",
       "    </tr>\n",
       "    <tr>\n",
       "      <th>142</th>\n",
       "      <td>88.356758</td>\n",
       "      <td>0.000232</td>\n",
       "    </tr>\n",
       "    <tr>\n",
       "      <th>162</th>\n",
       "      <td>90.136930</td>\n",
       "      <td>-0.000339</td>\n",
       "    </tr>\n",
       "    <tr>\n",
       "      <th>182</th>\n",
       "      <td>91.795663</td>\n",
       "      <td>-0.000810</td>\n",
       "    </tr>\n",
       "  </tbody>\n",
       "</table>\n",
       "</div>"
      ],
      "text/plain": [
       "               G         X\n",
       "time                      \n",
       "0     290.000000  0.000000\n",
       "2     278.441946  0.000148\n",
       "4     267.246339  0.001463\n",
       "6     255.791154  0.003294\n",
       "8     244.385049  0.004280\n",
       "10    233.385689  0.004877\n",
       "12    222.875391  0.005391\n",
       "14    212.883104  0.005807\n",
       "16    203.432604  0.006108\n",
       "19    190.311106  0.006378\n",
       "22    178.430723  0.006560\n",
       "27    161.141293  0.006767\n",
       "32    146.627308  0.006957\n",
       "42    124.272257  0.007043\n",
       "52    109.125928  0.006436\n",
       "62     99.310554  0.005632\n",
       "72     93.102455  0.004786\n",
       "82     89.434359  0.003872\n",
       "92     87.498085  0.002986\n",
       "102    86.712650  0.002313\n",
       "122    86.844866  0.001199\n",
       "142    88.356758  0.000232\n",
       "162    90.136930 -0.000339\n",
       "182    91.795663 -0.000810"
      ]
     },
     "execution_count": 17,
     "metadata": {},
     "output_type": "execute_result"
    }
   ],
   "source": [
    "results2"
   ]
  },
  {
   "cell_type": "markdown",
   "metadata": {},
   "source": [
    "Plotting the results from `run_simulation` and `run_odeint`, we can see that they are not very different."
   ]
  },
  {
   "cell_type": "code",
   "execution_count": 18,
   "metadata": {},
   "outputs": [
    {
     "data": {
      "image/png": "[encoded data removed]",
      "text/plain": [
       "<matplotlib.figure.Figure at 0x7fbf2120e940>"
      ]
     },
     "metadata": {},
     "output_type": "display_data"
    }
   ],
   "source": [
    "plot(results.G, 'r-')\n",
    "plot(results2.G, 'b-')\n",
    "plot(data.glucose, 'bo')"
   ]
  },
  {
   "cell_type": "markdown",
   "metadata": {},
   "source": [
    "The differences in `G` are usually less than 1% and always less than 2%."
   ]
  },
  {
   "cell_type": "code",
   "execution_count": 19,
   "metadata": {},
   "outputs": [
    {
     "data": {
      "text/plain": [
       "0      0.000000\n",
       "2     -0.115624\n",
       "4     -0.109838\n",
       "6      0.197156\n",
       "8      0.280333\n",
       "10     0.222571\n",
       "12     0.146387\n",
       "14     0.047791\n",
       "16    -0.070980\n",
       "22    -0.506705\n",
       "32    -1.135176\n",
       "42    -1.553518\n",
       "52    -1.824149\n",
       "62    -1.877001\n",
       "72    -1.764022\n",
       "82    -1.574539\n",
       "92    -1.346686\n",
       "102   -1.093100\n",
       "122   -0.676648\n",
       "142   -0.393212\n",
       "162   -0.187146\n",
       "182   -0.077205\n",
       "Name: G, dtype: float64"
      ]
     },
     "execution_count": 19,
     "metadata": {},
     "output_type": "execute_result"
    }
   ],
   "source": [
    "diff = results.G - results2.G\n",
    "percent_diff = diff / results2.G * 100\n",
    "percent_diff.dropna()"
   ]
  },
  {
   "cell_type": "markdown",
   "metadata": {},
   "source": [
    "**Exercise:** What happens to these errors if you run the simulation with a smaller value of `dt`?"
   ]
  },
  {
   "cell_type": "markdown",
   "metadata": {},
   "source": [
    "### Optimization"
   ]
  },
  {
   "cell_type": "markdown",
   "metadata": {},
   "source": [
    "Now let's find the parameters that yield the best fit for the data."
   ]
  },
  {
   "cell_type": "code",
   "execution_count": 20,
   "metadata": {
    "collapsed": true
   },
   "outputs": [
    {
     "data": {
      "text/plain": [
       "290"
      ]
     },
     "execution_count": 20,
     "metadata": {},
     "output_type": "execute_result"
    }
   ],
   "source": [
    "k1 = 0.03\n",
    "k2 = 0.02\n",
    "k3 = 1e-05\n",
    "G0 = 290"
   ]
  },
  {
   "cell_type": "markdown",
   "metadata": {},
   "source": [
    "Again, we'll get basal levels from the initial values."
   ]
  },
  {
   "cell_type": "code",
   "execution_count": 21,
   "metadata": {
    "collapsed": true
   },
   "outputs": [
    {
     "data": {
      "text/plain": [
       "11"
      ]
     },
     "execution_count": 21,
     "metadata": {},
     "output_type": "execute_result"
    }
   ],
   "source": [
    "Gb = data.glucose[0]\n",
    "Ib = data.insulin[0]"
   ]
  },
  {
   "cell_type": "markdown",
   "metadata": {},
   "source": [
    "And the slope function is the same."
   ]
  },
  {
   "cell_type": "code",
   "execution_count": 22,
   "metadata": {
    "collapsed": true
   },
   "outputs": [],
   "source": [
    "def slope_func(state, t, system):\n",
    "    \"\"\"Computes derivatives of the glucose minimal model.\n",
    "    \n",
    "    state: State object\n",
    "    t: time in min\n",
    "    system: System object\n",
    "    \n",
    "    returns: derivatives of G and X\n",
    "    \"\"\"\n",
    "    G, X = state\n",
    "    unpack(system)\n",
    "    \n",
    "    dGdt = -k1 * (G - Gb) - X*G\n",
    "    dXdt = k3 * (I(t) - Ib) - k2 * X\n",
    "    \n",
    "    return dGdt, dXdt"
   ]
  },
  {
   "cell_type": "markdown",
   "metadata": {},
   "source": [
    "`make_system` takes the parameters and `DataFrame` and returns a `System` object."
   ]
  },
  {
   "cell_type": "code",
   "execution_count": 33,
   "metadata": {
    "collapsed": true
   },
   "outputs": [],
   "source": [
    "def make_system(params, data):\n",
    "    \"\"\"Makes a System object with the given parameters.\n",
    "    \n",
    "    params: sequence of G0, k1, k2, k3\n",
    "    data: DataFrame with `glucose` and `insulin`\n",
    "    \n",
    "    returns: System object\n",
    "    \"\"\"\n",
    "    G0, k1, k2, k3 = params\n",
    "    init = State(G=G0, X=0)\n",
    "    system = System(init=init, \n",
    "                    k1=k1, k2=k2, k3=k3,\n",
    "                    Gb=Gb, Ib=Ib, \n",
    "                    I=interpolate(data.insulin),\n",
    "                    ts=data.index)\n",
    "    return system"
   ]
  },
  {
   "cell_type": "markdown",
   "metadata": {},
   "source": [
    "`error_func` takes the parameters and actual data, makes a `System` object and runs it, then compares the results of the simulation to the data.  It returns an array of errors."
   ]
  },
  {
   "cell_type": "code",
   "execution_count": 34,
   "metadata": {
    "collapsed": true
   },
   "outputs": [],
   "source": [
    "def error_func(params, data):\n",
    "    \"\"\"Computes an array of errors to be minimized.\n",
    "    \n",
    "    params: sequence of parameters\n",
    "    data: DataFrame of values to be matched\n",
    "    \n",
    "    returns: array of errors\n",
    "    \"\"\"\n",
    "    print(params)\n",
    "    \n",
    "    # make a System with the given parameters\n",
    "    system = make_system(params, data)\n",
    "    \n",
    "    # solve the ODE\n",
    "    results = run_odeint(system, slope_func)\n",
    "    \n",
    "    # compute the difference between the model\n",
    "    # results and actual data\n",
    "    errors = results.G - data.glucose\n",
    "    return errors"
   ]
  },
  {
   "cell_type": "markdown",
   "metadata": {},
   "source": [
    "When we call `error_func`, we provide a sequence of parameters as a single object."
   ]
  },
  {
   "cell_type": "code",
   "execution_count": 35,
   "metadata": {},
   "outputs": [
    {
     "data": {
      "text/plain": [
       "(290, 0.0267309385434166, 0.01335158143968368, 1.3226829295046203e-05)"
      ]
     },
     "execution_count": 35,
     "metadata": {},
     "output_type": "execute_result"
    }
   ],
   "source": [
    "params = G0, k1, k2, k3\n",
    "params"
   ]
  },
  {
   "cell_type": "markdown",
   "metadata": {},
   "source": [
    "Here's how that works:"
   ]
  },
  {
   "cell_type": "code",
   "execution_count": 36,
   "metadata": {},
   "outputs": [
    {
     "name": "stdout",
     "output_type": "stream",
     "text": [
      "(290, 0.0267309385434166, 0.01335158143968368, 1.3226829295046203e-05)\n"
     ]
    },
    {
     "data": {
      "text/plain": [
       "time\n",
       "0      198.000000\n",
       "2      -70.344051\n",
       "4      -17.566735\n",
       "6        7.507060\n",
       "8        7.290530\n",
       "10      20.278027\n",
       "12      14.602055\n",
       "14      10.324373\n",
       "16       9.499804\n",
       "19      -0.287215\n",
       "22       7.096361\n",
       "27      -2.490364\n",
       "32       2.697770\n",
       "42      -4.066834\n",
       "52      -2.090790\n",
       "62      -0.203703\n",
       "72       0.734789\n",
       "82       3.568637\n",
       "92      -3.589955\n",
       "102     -3.380256\n",
       "122     -3.831264\n",
       "142     -1.397434\n",
       "162     -1.362193\n",
       "182     -3.254534\n",
       "dtype: float64"
      ]
     },
     "execution_count": 36,
     "metadata": {},
     "output_type": "execute_result"
    }
   ],
   "source": [
    "error_func(params, data)"
   ]
  },
  {
   "cell_type": "markdown",
   "metadata": {},
   "source": [
    "`fit_leastsq` is a wrapper for `scipy.optimize.leastsq`"
   ]
  },
  {
   "cell_type": "code",
   "execution_count": 37,
   "metadata": {
    "collapsed": true
   },
   "outputs": [
    {
     "data": {
      "text/plain": [
       "\u001b[0;32mdef\u001b[0m \u001b[0mfit_leastsq\u001b[0m\u001b[0;34m(\u001b[0m\u001b[0merror_func\u001b[0m\u001b[0;34m,\u001b[0m \u001b[0mparams\u001b[0m\u001b[0;34m,\u001b[0m \u001b[0mdata\u001b[0m\u001b[0;34m,\u001b[0m \u001b[0;34m**\u001b[0m\u001b[0moptions\u001b[0m\u001b[0;34m)\u001b[0m\u001b[0;34m:\u001b[0m\u001b[0;34m\u001b[0m\n",
       "\u001b[0;34m\u001b[0m    \u001b[0;34m\"\"\"Find the parameters that yield the best fit for the data.\u001b[0m\n",
       "\u001b[0;34m\u001b[0m\n",
       "\u001b[0;34m    `params` can be a sequence, array, or Series\u001b[0m\n",
       "\u001b[0;34m\u001b[0m\n",
       "\u001b[0;34m    error_func: function that computes a sequence of errors\u001b[0m\n",
       "\u001b[0;34m    params: initial guess for the best parameters\u001b[0m\n",
       "\u001b[0;34m    data: the data to be fit; will be passed to min_fun\u001b[0m\n",
       "\u001b[0;34m    options: any other arguments are passed to leastsq\u001b[0m\n",
       "\u001b[0;34m    \"\"\"\u001b[0m\u001b[0;34m\u001b[0m\n",
       "\u001b[0;34m\u001b[0m    \u001b[0;31m# to pass `data` to `leastsq`, we have to put it in a tuple\u001b[0m\u001b[0;34m\u001b[0m\n",
       "\u001b[0;34m\u001b[0m    \u001b[0margs\u001b[0m \u001b[0;34m=\u001b[0m \u001b[0;34m(\u001b[0m\u001b[0mdata\u001b[0m\u001b[0;34m,\u001b[0m\u001b[0;34m)\u001b[0m\u001b[0;34m\u001b[0m\n",
       "\u001b[0;34m\u001b[0m\u001b[0;34m\u001b[0m\n",
       "\u001b[0;34m\u001b[0m    \u001b[0;31m# override `full_output` so we get a message if something goes wrong\u001b[0m\u001b[0;34m\u001b[0m\n",
       "\u001b[0;34m\u001b[0m    \u001b[0moptions\u001b[0m\u001b[0;34m[\u001b[0m\u001b[0;34m'full_output'\u001b[0m\u001b[0;34m]\u001b[0m \u001b[0;34m=\u001b[0m \u001b[0;32mTrue\u001b[0m\u001b[0;34m\u001b[0m\n",
       "\u001b[0;34m\u001b[0m\u001b[0;34m\u001b[0m\n",
       "\u001b[0;34m\u001b[0m    \u001b[0;31m# run leastsq\u001b[0m\u001b[0;34m\u001b[0m\n",
       "\u001b[0;34m\u001b[0m    \u001b[0mbest_params\u001b[0m\u001b[0;34m,\u001b[0m \u001b[0m_\u001b[0m\u001b[0;34m,\u001b[0m \u001b[0m_\u001b[0m\u001b[0;34m,\u001b[0m \u001b[0mmesg\u001b[0m\u001b[0;34m,\u001b[0m \u001b[0mier\u001b[0m \u001b[0;34m=\u001b[0m \u001b[0mleastsq\u001b[0m\u001b[0;34m(\u001b[0m\u001b[0merror_func\u001b[0m\u001b[0;34m,\u001b[0m \u001b[0mx0\u001b[0m\u001b[0;34m=\u001b[0m\u001b[0mparams\u001b[0m\u001b[0;34m,\u001b[0m\u001b[0;34m\u001b[0m\n",
       "\u001b[0;34m\u001b[0m                                           \u001b[0margs\u001b[0m\u001b[0;34m=\u001b[0m\u001b[0margs\u001b[0m\u001b[0;34m,\u001b[0m \u001b[0;34m**\u001b[0m\u001b[0moptions\u001b[0m\u001b[0;34m)\u001b[0m\u001b[0;34m\u001b[0m\n",
       "\u001b[0;34m\u001b[0m\u001b[0;34m\u001b[0m\n",
       "\u001b[0;34m\u001b[0m    \u001b[0;31m#TODO: check why logging.info is not visible\u001b[0m\u001b[0;34m\u001b[0m\n",
       "\u001b[0;34m\u001b[0m\u001b[0;34m\u001b[0m\n",
       "\u001b[0;34m\u001b[0m    \u001b[0;31m# check for errors\u001b[0m\u001b[0;34m\u001b[0m\n",
       "\u001b[0;34m\u001b[0m    \u001b[0;32mif\u001b[0m \u001b[0mier\u001b[0m \u001b[0;32min\u001b[0m \u001b[0;34m[\u001b[0m\u001b[0;36m1\u001b[0m\u001b[0;34m,\u001b[0m \u001b[0;36m2\u001b[0m\u001b[0;34m,\u001b[0m \u001b[0;36m3\u001b[0m\u001b[0;34m,\u001b[0m \u001b[0;36m4\u001b[0m\u001b[0;34m]\u001b[0m\u001b[0;34m:\u001b[0m\u001b[0;34m\u001b[0m\n",
       "\u001b[0;34m\u001b[0m        \u001b[0mprint\u001b[0m\u001b[0;34m(\u001b[0m\u001b[0;34m\"\"\"modsim.py: scipy.optimize.leastsq ran successfully\u001b[0m\n",
       "\u001b[0;34m                 and returned the following message:\\n\"\"\"\u001b[0m \u001b[0;34m+\u001b[0m \u001b[0mmesg\u001b[0m\u001b[0;34m)\u001b[0m\u001b[0;34m\u001b[0m\n",
       "\u001b[0;34m\u001b[0m    \u001b[0;32melse\u001b[0m\u001b[0;34m:\u001b[0m\u001b[0;34m\u001b[0m\n",
       "\u001b[0;34m\u001b[0m        \u001b[0mlogging\u001b[0m\u001b[0;34m.\u001b[0m\u001b[0merror\u001b[0m\u001b[0;34m(\u001b[0m\u001b[0;34m\"\"\"modsim.py: When I ran scipy.optimize.leastsq, something\u001b[0m\n",
       "\u001b[0;34m                         went wrong, and I got the following message:\"\"\"\u001b[0m\u001b[0;34m)\u001b[0m\u001b[0;34m\u001b[0m\n",
       "\u001b[0;34m\u001b[0m        \u001b[0;32mraise\u001b[0m \u001b[0mException\u001b[0m\u001b[0;34m(\u001b[0m\u001b[0mmesg\u001b[0m\u001b[0;34m)\u001b[0m\u001b[0;34m\u001b[0m\n",
       "\u001b[0;34m\u001b[0m\u001b[0;34m\u001b[0m\n",
       "\u001b[0;34m\u001b[0m    \u001b[0;31m# return the best parameters\u001b[0m\u001b[0;34m\u001b[0m\n",
       "\u001b[0;34m\u001b[0m    \u001b[0;32mreturn\u001b[0m \u001b[0mbest_params\u001b[0m\u001b[0;34m\u001b[0m\u001b[0m\n"
      ]
     },
     "metadata": {},
     "output_type": "display_data"
    }
   ],
   "source": [
    "%psource fit_leastsq"
   ]
  },
  {
   "cell_type": "markdown",
   "metadata": {},
   "source": [
    "Here's how we call it."
   ]
  },
  {
   "cell_type": "code",
   "execution_count": 38,
   "metadata": {},
   "outputs": [
    {
     "name": "stdout",
     "output_type": "stream",
     "text": [
      "[2.90000000e+02 2.67309385e-02 1.33515814e-02 1.32268293e-05]\n",
      "[2.90000000e+02 2.67309385e-02 1.33515814e-02 1.32268293e-05]\n",
      "[2.90000000e+02 2.67309385e-02 1.33515814e-02 1.32268293e-05]\n",
      "[2.90000004e+02 2.67309385e-02 1.33515814e-02 1.32268293e-05]\n",
      "[2.90000000e+02 2.67309389e-02 1.33515814e-02 1.32268293e-05]\n",
      "[2.90000000e+02 2.67309385e-02 1.33515816e-02 1.32268293e-05]\n",
      "[2.90000000e+02 2.67309385e-02 1.33515814e-02 1.32268295e-05]\n",
      "[2.89972550e+02 2.67118101e-02 1.33648983e-02 1.32320074e-05]\n",
      "[2.89972555e+02 2.67118101e-02 1.33648983e-02 1.32320074e-05]\n",
      "[2.89972550e+02 2.67118105e-02 1.33648983e-02 1.32320074e-05]\n",
      "[2.89972550e+02 2.67118101e-02 1.33648985e-02 1.32320074e-05]\n",
      "[2.89972550e+02 2.67118101e-02 1.33648983e-02 1.32320076e-05]\n",
      "[2.89813010e+02 2.67194223e-02 1.33626529e-02 1.32296584e-05]\n",
      "[2.89813014e+02 2.67194223e-02 1.33626529e-02 1.32296584e-05]\n",
      "[2.89813010e+02 2.67194227e-02 1.33626529e-02 1.32296584e-05]\n",
      "[2.89813010e+02 2.67194223e-02 1.33626531e-02 1.32296584e-05]\n",
      "[2.89813010e+02 2.67194223e-02 1.33626529e-02 1.32296585e-05]\n",
      "[2.89741252e+02 2.67133979e-02 1.33813706e-02 1.32297660e-05]\n",
      "[2.89741256e+02 2.67133979e-02 1.33813706e-02 1.32297660e-05]\n",
      "[2.89741252e+02 2.67133983e-02 1.33813706e-02 1.32297660e-05]\n",
      "[2.89741252e+02 2.67133979e-02 1.33813708e-02 1.32297660e-05]\n",
      "[2.89741252e+02 2.67133979e-02 1.33813706e-02 1.32297662e-05]\n",
      "[2.89440613e+02 2.67300210e-02 1.33883800e-02 1.32304486e-05]\n",
      "[2.89440617e+02 2.67300210e-02 1.33883800e-02 1.32304486e-05]\n",
      "[2.89440613e+02 2.67300214e-02 1.33883800e-02 1.32304486e-05]\n",
      "[2.89440613e+02 2.67300210e-02 1.33883802e-02 1.32304486e-05]\n",
      "[2.89440613e+02 2.67300210e-02 1.33883800e-02 1.32304488e-05]\n",
      "[2.89275046e+02 2.67320230e-02 1.33912236e-02 1.32360234e-05]\n",
      "[2.89275050e+02 2.67320230e-02 1.33912236e-02 1.32360234e-05]\n",
      "[2.89275046e+02 2.67320234e-02 1.33912236e-02 1.32360234e-05]\n",
      "[2.89275046e+02 2.67320230e-02 1.33912238e-02 1.32360234e-05]\n",
      "[2.89275046e+02 2.67320230e-02 1.33912236e-02 1.32360236e-05]\n",
      "[2.89068745e+02 2.67346024e-02 1.33965759e-02 1.32309699e-05]\n",
      "[2.89068749e+02 2.67346024e-02 1.33965759e-02 1.32309699e-05]\n",
      "[2.89068745e+02 2.67346028e-02 1.33965759e-02 1.32309699e-05]\n",
      "[2.89068745e+02 2.67346024e-02 1.33965761e-02 1.32309699e-05]\n",
      "[2.89068745e+02 2.67346024e-02 1.33965759e-02 1.32309701e-05]\n",
      "[2.89050643e+02 2.67277227e-02 1.34143009e-02 1.32319865e-05]\n",
      "[2.89050647e+02 2.67277227e-02 1.34143009e-02 1.32319865e-05]\n",
      "[2.89050643e+02 2.67277231e-02 1.34143009e-02 1.32319865e-05]\n",
      "[2.89050643e+02 2.67277227e-02 1.34143011e-02 1.32319865e-05]\n",
      "[2.89050643e+02 2.67277227e-02 1.34143009e-02 1.32319867e-05]\n",
      "[2.88913619e+02 2.67265764e-02 1.34133360e-02 1.32315287e-05]\n",
      "[2.88913623e+02 2.67265764e-02 1.34133360e-02 1.32315287e-05]\n",
      "[2.88913619e+02 2.67265768e-02 1.34133360e-02 1.32315287e-05]\n",
      "[2.88913619e+02 2.67265764e-02 1.34133362e-02 1.32315287e-05]\n",
      "[2.88913619e+02 2.67265764e-02 1.34133360e-02 1.32315289e-05]\n",
      "[2.88740564e+02 2.67347052e-02 1.34183200e-02 1.32282781e-05]\n",
      "[2.88740568e+02 2.67347052e-02 1.34183200e-02 1.32282781e-05]\n",
      "[2.88740564e+02 2.67347056e-02 1.34183200e-02 1.32282781e-05]\n",
      "[2.88740564e+02 2.67347052e-02 1.34183202e-02 1.32282781e-05]\n",
      "[2.88740564e+02 2.67347052e-02 1.34183200e-02 1.32282783e-05]\n",
      "[2.88624633e+02 2.67532567e-02 1.34206530e-02 1.32266837e-05]\n",
      "[2.88624637e+02 2.67532567e-02 1.34206530e-02 1.32266837e-05]\n",
      "[2.88624633e+02 2.67532571e-02 1.34206530e-02 1.32266837e-05]\n",
      "[2.88624633e+02 2.67532567e-02 1.34206532e-02 1.32266837e-05]\n",
      "[2.88624633e+02 2.67532567e-02 1.34206530e-02 1.32266839e-05]\n",
      "[2.88578896e+02 2.67623013e-02 1.34186905e-02 1.32264683e-05]\n",
      "[2.88578901e+02 2.67623013e-02 1.34186905e-02 1.32264683e-05]\n",
      "[2.88578896e+02 2.67623017e-02 1.34186905e-02 1.32264683e-05]\n",
      "[2.88578896e+02 2.67623013e-02 1.34186907e-02 1.32264683e-05]\n",
      "[2.88578896e+02 2.67623013e-02 1.34186905e-02 1.32264685e-05]\n",
      "[2.88522753e+02 2.67562674e-02 1.34186736e-02 1.32288557e-05]\n",
      "[2.88522758e+02 2.67562674e-02 1.34186736e-02 1.32288557e-05]\n",
      "[2.88522753e+02 2.67562678e-02 1.34186736e-02 1.32288557e-05]\n",
      "[2.88522753e+02 2.67562674e-02 1.34186738e-02 1.32288557e-05]\n",
      "[2.88522753e+02 2.67562674e-02 1.34186736e-02 1.32288559e-05]\n",
      "[2.88479800e+02 2.67562609e-02 1.34183580e-02 1.32297924e-05]\n",
      "[2.88479804e+02 2.67562609e-02 1.34183580e-02 1.32297924e-05]\n",
      "[2.88479800e+02 2.67562613e-02 1.34183580e-02 1.32297924e-05]\n",
      "[2.88479800e+02 2.67562609e-02 1.34183582e-02 1.32297924e-05]\n",
      "[2.88479800e+02 2.67562609e-02 1.34183580e-02 1.32297926e-05]\n",
      "[2.88440267e+02 2.67574573e-02 1.34190642e-02 1.32290200e-05]\n",
      "[2.88440272e+02 2.67574573e-02 1.34190642e-02 1.32290200e-05]\n",
      "[2.88440267e+02 2.67574577e-02 1.34190642e-02 1.32290200e-05]\n",
      "[2.88440267e+02 2.67574573e-02 1.34190644e-02 1.32290200e-05]\n",
      "[2.88440267e+02 2.67574573e-02 1.34190642e-02 1.32290202e-05]\n",
      "[2.88415447e+02 2.67567422e-02 1.34190404e-02 1.32291607e-05]\n",
      "[2.88415451e+02 2.67567422e-02 1.34190404e-02 1.32291607e-05]\n",
      "[2.88415447e+02 2.67567426e-02 1.34190404e-02 1.32291607e-05]\n",
      "[2.88415447e+02 2.67567422e-02 1.34190406e-02 1.32291607e-05]\n",
      "[2.88415447e+02 2.67567422e-02 1.34190404e-02 1.32291609e-05]\n",
      "[2.88406891e+02 2.67550657e-02 1.34189637e-02 1.32307037e-05]\n",
      "[2.88406895e+02 2.67550657e-02 1.34189637e-02 1.32307037e-05]\n",
      "[2.88406891e+02 2.67550660e-02 1.34189637e-02 1.32307037e-05]\n",
      "[2.88406891e+02 2.67550657e-02 1.34189639e-02 1.32307037e-05]\n",
      "[2.88406891e+02 2.67550657e-02 1.34189637e-02 1.32307039e-05]\n",
      "[2.88394998e+02 2.67574271e-02 1.34191158e-02 1.32305408e-05]\n",
      "[2.88395003e+02 2.67574271e-02 1.34191158e-02 1.32305408e-05]\n",
      "[2.88394998e+02 2.67574275e-02 1.34191158e-02 1.32305408e-05]\n",
      "[2.88394998e+02 2.67574271e-02 1.34191160e-02 1.32305408e-05]\n",
      "[2.88394998e+02 2.67574271e-02 1.34191158e-02 1.32305410e-05]\n",
      "[2.88403826e+02 2.67570088e-02 1.34195499e-02 1.32304127e-05]\n",
      "[2.88399039e+02 2.67571829e-02 1.34192769e-02 1.32304804e-05]\n",
      "[2.88396780e+02 2.67573068e-02 1.34191825e-02 1.32305127e-05]\n",
      "[2.88395842e+02 2.67573674e-02 1.34191467e-02 1.32305271e-05]\n",
      "[2.88395351e+02 2.67574015e-02 1.34191286e-02 1.32305350e-05]\n",
      "[2.88395157e+02 2.67574154e-02 1.34191216e-02 1.32305381e-05]\n",
      "[2.88395070e+02 2.67574218e-02 1.34191184e-02 1.32305396e-05]\n",
      "[2.88395031e+02 2.67574247e-02 1.34191170e-02 1.32305402e-05]\n",
      "[2.88395013e+02 2.67574260e-02 1.34191164e-02 1.32305405e-05]\n",
      "modsim.py: scipy.optimize.leastsq ran successfully\n",
      "                 and returned the following message:\n",
      "The relative error between two consecutive iterates is at most 0.000000\n"
     ]
    },
    {
     "data": {
      "text/plain": [
       "array([2.88394998e+02, 2.67574271e-02, 1.34191158e-02, 1.32305408e-05])"
      ]
     },
     "execution_count": 38,
     "metadata": {},
     "output_type": "execute_result"
    }
   ],
   "source": [
    "best_params = fit_leastsq(error_func, params, data)"
   ]
  },
  {
   "cell_type": "markdown",
   "metadata": {},
   "source": [
    "Now that we have `best_params`, we can use it to make a `System` object and run it."
   ]
  },
  {
   "cell_type": "code",
   "execution_count": 39,
   "metadata": {
    "collapsed": true
   },
   "outputs": [
    {
     "data": {
      "text/html": [
       "<div>\n",
       "<style scoped>\n",
       "    .dataframe tbody tr th:only-of-type {\n",
       "        vertical-align: middle;\n",
       "    }\n",
       "\n",
       "    .dataframe tbody tr th {\n",
       "        vertical-align: top;\n",
       "    }\n",
       "\n",
       "    .dataframe thead th {\n",
       "        text-align: right;\n",
       "    }\n",
       "</style>\n",
       "<table border=\"1\" class=\"dataframe\">\n",
       "  <thead>\n",
       "    <tr style=\"text-align: right;\">\n",
       "      <th></th>\n",
       "      <th>G</th>\n",
       "      <th>X</th>\n",
       "    </tr>\n",
       "    <tr>\n",
       "      <th>time</th>\n",
       "      <th></th>\n",
       "      <th></th>\n",
       "    </tr>\n",
       "  </thead>\n",
       "  <tbody>\n",
       "    <tr>\n",
       "      <th>0</th>\n",
       "      <td>288.394998</td>\n",
       "      <td>0.000000</td>\n",
       "    </tr>\n",
       "    <tr>\n",
       "      <th>2</th>\n",
       "      <td>278.124830</td>\n",
       "      <td>0.000197</td>\n",
       "    </tr>\n",
       "    <tr>\n",
       "      <th>4</th>\n",
       "      <td>267.974878</td>\n",
       "      <td>0.001947</td>\n",
       "    </tr>\n",
       "    <tr>\n",
       "      <th>6</th>\n",
       "      <td>257.124572</td>\n",
       "      <td>0.004412</td>\n",
       "    </tr>\n",
       "    <tr>\n",
       "      <th>8</th>\n",
       "      <td>245.985079</td>\n",
       "      <td>0.005782</td>\n",
       "    </tr>\n",
       "    <tr>\n",
       "      <th>10</th>\n",
       "      <td>235.048204</td>\n",
       "      <td>0.006647</td>\n",
       "    </tr>\n",
       "    <tr>\n",
       "      <th>12</th>\n",
       "      <td>224.445687</td>\n",
       "      <td>0.007410</td>\n",
       "    </tr>\n",
       "    <tr>\n",
       "      <th>14</th>\n",
       "      <td>214.239021</td>\n",
       "      <td>0.008049</td>\n",
       "    </tr>\n",
       "    <tr>\n",
       "      <th>16</th>\n",
       "      <td>204.482755</td>\n",
       "      <td>0.008541</td>\n",
       "    </tr>\n",
       "    <tr>\n",
       "      <th>19</th>\n",
       "      <td>190.792455</td>\n",
       "      <td>0.009040</td>\n",
       "    </tr>\n",
       "    <tr>\n",
       "      <th>22</th>\n",
       "      <td>178.265656</td>\n",
       "      <td>0.009422</td>\n",
       "    </tr>\n",
       "    <tr>\n",
       "      <th>27</th>\n",
       "      <td>159.813094</td>\n",
       "      <td>0.009929</td>\n",
       "    </tr>\n",
       "    <tr>\n",
       "      <th>32</th>\n",
       "      <td>144.117665</td>\n",
       "      <td>0.010406</td>\n",
       "    </tr>\n",
       "    <tr>\n",
       "      <th>42</th>\n",
       "      <td>119.540063</td>\n",
       "      <td>0.010945</td>\n",
       "    </tr>\n",
       "    <tr>\n",
       "      <th>52</th>\n",
       "      <td>102.651466</td>\n",
       "      <td>0.010490</td>\n",
       "    </tr>\n",
       "    <tr>\n",
       "      <th>62</th>\n",
       "      <td>91.634701</td>\n",
       "      <td>0.009667</td>\n",
       "    </tr>\n",
       "    <tr>\n",
       "      <th>72</th>\n",
       "      <td>84.641557</td>\n",
       "      <td>0.008696</td>\n",
       "    </tr>\n",
       "    <tr>\n",
       "      <th>82</th>\n",
       "      <td>80.524141</td>\n",
       "      <td>0.007540</td>\n",
       "    </tr>\n",
       "    <tr>\n",
       "      <th>92</th>\n",
       "      <td>78.400579</td>\n",
       "      <td>0.006343</td>\n",
       "    </tr>\n",
       "    <tr>\n",
       "      <th>102</th>\n",
       "      <td>77.635623</td>\n",
       "      <td>0.005365</td>\n",
       "    </tr>\n",
       "    <tr>\n",
       "      <th>122</th>\n",
       "      <td>78.215994</td>\n",
       "      <td>0.003617</td>\n",
       "    </tr>\n",
       "    <tr>\n",
       "      <th>142</th>\n",
       "      <td>80.665402</td>\n",
       "      <td>0.001959</td>\n",
       "    </tr>\n",
       "    <tr>\n",
       "      <th>162</th>\n",
       "      <td>83.706030</td>\n",
       "      <td>0.000801</td>\n",
       "    </tr>\n",
       "    <tr>\n",
       "      <th>182</th>\n",
       "      <td>86.812138</td>\n",
       "      <td>-0.000205</td>\n",
       "    </tr>\n",
       "  </tbody>\n",
       "</table>\n",
       "</div>"
      ],
      "text/plain": [
       "               G         X\n",
       "time                      \n",
       "0     288.394998  0.000000\n",
       "2     278.124830  0.000197\n",
       "4     267.974878  0.001947\n",
       "6     257.124572  0.004412\n",
       "8     245.985079  0.005782\n",
       "10    235.048204  0.006647\n",
       "12    224.445687  0.007410\n",
       "14    214.239021  0.008049\n",
       "16    204.482755  0.008541\n",
       "19    190.792455  0.009040\n",
       "22    178.265656  0.009422\n",
       "27    159.813094  0.009929\n",
       "32    144.117665  0.010406\n",
       "42    119.540063  0.010945\n",
       "52    102.651466  0.010490\n",
       "62     91.634701  0.009667\n",
       "72     84.641557  0.008696\n",
       "82     80.524141  0.007540\n",
       "92     78.400579  0.006343\n",
       "102    77.635623  0.005365\n",
       "122    78.215994  0.003617\n",
       "142    80.665402  0.001959\n",
       "162    83.706030  0.000801\n",
       "182    86.812138 -0.000205"
      ]
     },
     "execution_count": 39,
     "metadata": {},
     "output_type": "execute_result"
    }
   ],
   "source": [
    "system = make_system(best_params, data)\n",
    "results = run_odeint(system, slope_func)"
   ]
  },
  {
   "cell_type": "markdown",
   "metadata": {},
   "source": [
    "Here are the results, along with the data.  The first few points of the model don't fit the data, but we don't expect them to."
   ]
  },
  {
   "cell_type": "code",
   "execution_count": 40,
   "metadata": {},
   "outputs": [
    {
     "name": "stdout",
     "output_type": "stream",
     "text": [
      "Saving figure to file figs/chap08-fig04.pdf\n"
     ]
    },
    {
     "data": {
      "image/png": "[encoded data removed]",
      "text/plain": [
       "<matplotlib.figure.Figure at 0x7fbf14fb33c8>"
      ]
     },
     "metadata": {},
     "output_type": "display_data"
    }
   ],
   "source": [
    "plot(results.G, label='simulation')\n",
    "plot(data.glucose, 'bo', label='glucose data')\n",
    "\n",
    "decorate(xlabel='Time (min)',\n",
    "         ylabel='Concentration (mg/dL)')\n",
    "\n",
    "savefig('figs/chap08-fig04.pdf')"
   ]
  },
  {
   "cell_type": "markdown",
   "metadata": {},
   "source": [
    "### Interpreting parameters\n",
    "\n",
    "Based on the parameters of the model, we can estimate glucose effectiveness and insulin sensitivity."
   ]
  },
  {
   "cell_type": "code",
   "execution_count": 43,
   "metadata": {
    "collapsed": true
   },
   "outputs": [],
   "source": [
    "def indices(params):\n",
    "    \"\"\"Compute glucose effectiveness and insulin sensitivity.\n",
    "    \n",
    "    params: sequence of G0, k1, k2, k3\n",
    "    data: DataFrame with `glucose` and `insulin`\n",
    "    \n",
    "    returns: State object containing S_G and S_I\n",
    "    \"\"\"\n",
    "    G0, k1, k2, k3 = params\n",
    "    return State(S_G=k1, S_I=k3/k2)"
   ]
  },
  {
   "cell_type": "markdown",
   "metadata": {},
   "source": [
    "Here are the results."
   ]
  },
  {
   "cell_type": "code",
   "execution_count": 44,
   "metadata": {},
   "outputs": [
    {
     "data": {
      "text/html": [
       "<div>\n",
       "<style scoped>\n",
       "    .dataframe tbody tr th:only-of-type {\n",
       "        vertical-align: middle;\n",
       "    }\n",
       "\n",
       "    .dataframe tbody tr th {\n",
       "        vertical-align: top;\n",
       "    }\n",
       "\n",
       "    .dataframe thead th {\n",
       "        text-align: right;\n",
       "    }\n",
       "</style>\n",
       "<table border=\"1\" class=\"dataframe\">\n",
       "  <thead>\n",
       "    <tr style=\"text-align: right;\">\n",
       "      <th></th>\n",
       "      <th>values</th>\n",
       "    </tr>\n",
       "  </thead>\n",
       "  <tbody>\n",
       "    <tr>\n",
       "      <th>S_G</th>\n",
       "      <td>0.026757</td>\n",
       "    </tr>\n",
       "    <tr>\n",
       "      <th>S_I</th>\n",
       "      <td>0.000986</td>\n",
       "    </tr>\n",
       "  </tbody>\n",
       "</table>\n",
       "</div>"
      ],
      "text/plain": [
       "S_G    0.026757\n",
       "S_I    0.000986\n",
       "dtype: float64"
      ]
     },
     "execution_count": 44,
     "metadata": {},
     "output_type": "execute_result"
    }
   ],
   "source": [
    "indices(best_params)"
   ]
  },
  {
   "cell_type": "markdown",
   "metadata": {},
   "source": [
    "## Exercises\n",
    "\n",
    "**Exercise:** Since we don't expect the first few points to agree, it's probably better not to make them part of the optimization process.  We can ignore them by leaving them out of the `Series` returned by `error_func`.  Modify the last line of `error_func` to return `errors.loc[8:]`, which includes only the elements of the `Series` from `t=8` and up.\n",
    "\n",
    "Does that improve the quality of the fit?  Does it change the best parameters by much?\n",
    "\n",
    "Note: You can read more about this use of `loc` [in the Pandas documentation](https://pandas.pydata.org/pandas-docs/stable/indexing.html#indexing-integer)."
   ]
  },
  {
   "cell_type": "markdown",
   "metadata": {},
   "source": [
    "**Exercise:** How sensitive are the results to the starting guess for the parameters.  If you try different values for the starting guess, do we get the same values for the best parameters?"
   ]
  },
  {
   "cell_type": "code",
   "execution_count": null,
   "metadata": {},
   "outputs": [],
   "source": []
  }
 ],
 "metadata": {
  "kernelspec": {
   "display_name": "Python 3",
   "language": "python",
   "name": "python3"
  },
  "language_info": {
   "codemirror_mode": {
    "name": "ipython",
    "version": 3
   },
   "file_extension": ".py",
   "mimetype": "text/x-python",
   "name": "python",
   "nbconvert_exporter": "python",
   "pygments_lexer": "ipython3",
   "version": "3.6.4"
  }
 },
 "nbformat": 4,
 "nbformat_minor": 2
}
