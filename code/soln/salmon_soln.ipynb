{
 "cells": [
  {
   "cell_type": "markdown",
   "metadata": {},
   "source": [
    "# Modeling and Simulation in Python\n",
    "\n",
    "Case Study: Predicting salmon returns\n",
    "\n",
    "This case study is based on a ModSim student project by Josh Deng and Erika Lu.\n",
    "\n",
    "Copyright 2017 Allen Downey\n",
    "\n",
    "License: [Creative Commons Attribution 4.0 International](https://creativecommons.org/licenses/by/4.0)\n"
   ]
  },
  {
   "cell_type": "code",
   "execution_count": 1,
   "metadata": {
    "collapsed": true
   },
   "outputs": [],
   "source": [
    "# Configure Jupyter so figures appear in the notebook\n",
    "%matplotlib inline\n",
    "\n",
    "# Configure Jupyter to display the assigned value after an assignment\n",
    "%config InteractiveShell.ast_node_interactivity='last_expr_or_assign'\n",
    "\n",
    "# import functions from the modsim.py module\n",
    "from modsim import *"
   ]
  },
  {
   "cell_type": "markdown",
   "metadata": {},
   "source": [
    "### Can we predict salmon populations?\n",
    "\n",
    "Each year the [U.S. Atlantic Salmon Assessment Committee](https://www.nefsc.noaa.gov/USASAC/Reports/USASAC2018-Report-30-2017-Activities.pdf) reports estimates of salmon populations in oceans and rivers in the northeastern United States.  The reports are useful for monitoring changes in these populations, but they generally do not include predictions.\n",
    "\n",
    "The goal of this case study is to model year-to-year changes in population, evaluate how predictable these changes are, and estimate the probability that a particular population will increase or decrease in the next 10 years.\n",
    "\n",
    "As an example, I'll use data from page 18 of the 2017 report, which provides population estimates for the Narraguagus and Sheepscot Rivers in Maine.\n",
    "\n",
    "![USASAC_Report_2017_Page18](data/USASAC_Report_2017_Page18.png)\n",
    "\n",
    "At the end of this notebook, I make some suggestions for extracting data from a PDF document automatically, but for this example I will keep it simple and type it in.\n",
    "\n",
    "Here are the population estimates for the Narraguagus River:"
   ]
  },
  {
   "cell_type": "code",
   "execution_count": 2,
   "metadata": {},
   "outputs": [],
   "source": [
    "pops = [2749, 2845, 4247, 1843, 2562, 1774, 1201, 1284, 1287, 2339, 1177, 962, 1176, 2149, 1404, 969, 1237, 1615, 1201];"
   ]
  },
  {
   "cell_type": "markdown",
   "metadata": {},
   "source": [
    "To get this data into a Pandas Series, I'll also make a range of years to use as an index."
   ]
  },
  {
   "cell_type": "code",
   "execution_count": 3,
   "metadata": {},
   "outputs": [
    {
     "data": {
      "text/plain": [
       "range(1997, 2016)"
      ]
     },
     "execution_count": 3,
     "metadata": {},
     "output_type": "execute_result"
    }
   ],
   "source": [
    "years = range(1997, 2016)"
   ]
  },
  {
   "cell_type": "markdown",
   "metadata": {},
   "source": [
    "And here's the series."
   ]
  },
  {
   "cell_type": "code",
   "execution_count": 45,
   "metadata": {},
   "outputs": [
    {
     "data": {
      "text/html": [
       "<div>\n",
       "<style scoped>\n",
       "    .dataframe tbody tr th:only-of-type {\n",
       "        vertical-align: middle;\n",
       "    }\n",
       "\n",
       "    .dataframe tbody tr th {\n",
       "        vertical-align: top;\n",
       "    }\n",
       "\n",
       "    .dataframe thead th {\n",
       "        text-align: right;\n",
       "    }\n",
       "</style>\n",
       "<table border=\"1\" class=\"dataframe\">\n",
       "  <thead>\n",
       "    <tr style=\"text-align: right;\">\n",
       "      <th></th>\n",
       "      <th>values</th>\n",
       "    </tr>\n",
       "  </thead>\n",
       "  <tbody>\n",
       "    <tr>\n",
       "      <th>1997</th>\n",
       "      <td>2749</td>\n",
       "    </tr>\n",
       "    <tr>\n",
       "      <th>1998</th>\n",
       "      <td>2845</td>\n",
       "    </tr>\n",
       "    <tr>\n",
       "      <th>1999</th>\n",
       "      <td>4247</td>\n",
       "    </tr>\n",
       "    <tr>\n",
       "      <th>2000</th>\n",
       "      <td>1843</td>\n",
       "    </tr>\n",
       "    <tr>\n",
       "      <th>2001</th>\n",
       "      <td>2562</td>\n",
       "    </tr>\n",
       "    <tr>\n",
       "      <th>2002</th>\n",
       "      <td>1774</td>\n",
       "    </tr>\n",
       "    <tr>\n",
       "      <th>2003</th>\n",
       "      <td>1201</td>\n",
       "    </tr>\n",
       "    <tr>\n",
       "      <th>2004</th>\n",
       "      <td>1284</td>\n",
       "    </tr>\n",
       "    <tr>\n",
       "      <th>2005</th>\n",
       "      <td>1287</td>\n",
       "    </tr>\n",
       "    <tr>\n",
       "      <th>2006</th>\n",
       "      <td>2339</td>\n",
       "    </tr>\n",
       "    <tr>\n",
       "      <th>2007</th>\n",
       "      <td>1177</td>\n",
       "    </tr>\n",
       "    <tr>\n",
       "      <th>2008</th>\n",
       "      <td>962</td>\n",
       "    </tr>\n",
       "    <tr>\n",
       "      <th>2009</th>\n",
       "      <td>1176</td>\n",
       "    </tr>\n",
       "    <tr>\n",
       "      <th>2010</th>\n",
       "      <td>2149</td>\n",
       "    </tr>\n",
       "    <tr>\n",
       "      <th>2011</th>\n",
       "      <td>1404</td>\n",
       "    </tr>\n",
       "    <tr>\n",
       "      <th>2012</th>\n",
       "      <td>969</td>\n",
       "    </tr>\n",
       "    <tr>\n",
       "      <th>2013</th>\n",
       "      <td>1237</td>\n",
       "    </tr>\n",
       "    <tr>\n",
       "      <th>2014</th>\n",
       "      <td>1615</td>\n",
       "    </tr>\n",
       "    <tr>\n",
       "      <th>2015</th>\n",
       "      <td>1201</td>\n",
       "    </tr>\n",
       "  </tbody>\n",
       "</table>\n",
       "</div>"
      ],
      "text/plain": [
       "1997    2749\n",
       "1998    2845\n",
       "1999    4247\n",
       "2000    1843\n",
       "2001    2562\n",
       "2002    1774\n",
       "2003    1201\n",
       "2004    1284\n",
       "2005    1287\n",
       "2006    2339\n",
       "2007    1177\n",
       "2008     962\n",
       "2009    1176\n",
       "2010    2149\n",
       "2011    1404\n",
       "2012     969\n",
       "2013    1237\n",
       "2014    1615\n",
       "2015    1201\n",
       "dtype: int64"
      ]
     },
     "execution_count": 45,
     "metadata": {},
     "output_type": "execute_result"
    }
   ],
   "source": [
    "pop_series = TimeSeries(pops, index=years)"
   ]
  },
  {
   "cell_type": "markdown",
   "metadata": {},
   "source": [
    "Here's what it looks like:"
   ]
  },
  {
   "cell_type": "code",
   "execution_count": 46,
   "metadata": {},
   "outputs": [
    {
     "data": {
      "image/png": "[encoded data removed]",
      "text/plain": [
       "<matplotlib.figure.Figure at 0x7f922fe62e80>"
      ]
     },
     "metadata": {},
     "output_type": "display_data"
    }
   ],
   "source": [
    "def plot_population(series):\n",
    "    plot(series, label='Estimated population')\n",
    "    decorate(xlabel='Year', \n",
    "             ylabel='Population estimate', \n",
    "             title='Narraguacus River',\n",
    "             ylim=[0, 5000])\n",
    "    \n",
    "plot_population(pop_series)"
   ]
  },
  {
   "cell_type": "markdown",
   "metadata": {},
   "source": [
    "## Modeling changes\n",
    "\n",
    "To see how the population changes from year-to-year, I'll use `diff` to compute the absolute difference between each year and the next.\n",
    "\n",
    "`shift` adjusts the result so each change aligns with the year it happened."
   ]
  },
  {
   "cell_type": "code",
   "execution_count": 7,
   "metadata": {},
   "outputs": [
    {
     "data": {
      "text/plain": [
       "1997      96.0\n",
       "1998    1402.0\n",
       "1999   -2404.0\n",
       "2000     719.0\n",
       "2001    -788.0\n",
       "2002    -573.0\n",
       "2003      83.0\n",
       "2004       3.0\n",
       "2005    1052.0\n",
       "2006   -1162.0\n",
       "2007    -215.0\n",
       "2008     214.0\n",
       "2009     973.0\n",
       "2010    -745.0\n",
       "2011    -435.0\n",
       "2012     268.0\n",
       "2013     378.0\n",
       "2014    -414.0\n",
       "2015       NaN\n",
       "dtype: float64"
      ]
     },
     "execution_count": 7,
     "metadata": {},
     "output_type": "execute_result"
    }
   ],
   "source": [
    "abs_diffs = pop_series.diff().shift(-1)"
   ]
  },
  {
   "cell_type": "markdown",
   "metadata": {},
   "source": [
    "We can compute relative differences by dividing by the original series elementwise."
   ]
  },
  {
   "cell_type": "code",
   "execution_count": 8,
   "metadata": {},
   "outputs": [
    {
     "data": {
      "text/plain": [
       "1997    0.034922\n",
       "1998    0.492794\n",
       "1999   -0.566047\n",
       "2000    0.390125\n",
       "2001   -0.307572\n",
       "2002   -0.322999\n",
       "2003    0.069109\n",
       "2004    0.002336\n",
       "2005    0.817405\n",
       "2006   -0.496794\n",
       "2007   -0.182668\n",
       "2008    0.222453\n",
       "2009    0.827381\n",
       "2010   -0.346673\n",
       "2011   -0.309829\n",
       "2012    0.276574\n",
       "2013    0.305578\n",
       "2014   -0.256347\n",
       "2015         NaN\n",
       "dtype: float64"
      ]
     },
     "execution_count": 8,
     "metadata": {},
     "output_type": "execute_result"
    }
   ],
   "source": [
    "rel_diffs = abs_diffs / pop_series"
   ]
  },
  {
   "cell_type": "markdown",
   "metadata": {},
   "source": [
    "These relative differences are observed annual net growth rates.  So let's drop the `NaN` and save them."
   ]
  },
  {
   "cell_type": "code",
   "execution_count": 9,
   "metadata": {},
   "outputs": [
    {
     "data": {
      "text/plain": [
       "1997    0.034922\n",
       "1998    0.492794\n",
       "1999   -0.566047\n",
       "2000    0.390125\n",
       "2001   -0.307572\n",
       "2002   -0.322999\n",
       "2003    0.069109\n",
       "2004    0.002336\n",
       "2005    0.817405\n",
       "2006   -0.496794\n",
       "2007   -0.182668\n",
       "2008    0.222453\n",
       "2009    0.827381\n",
       "2010   -0.346673\n",
       "2011   -0.309829\n",
       "2012    0.276574\n",
       "2013    0.305578\n",
       "2014   -0.256347\n",
       "dtype: float64"
      ]
     },
     "execution_count": 9,
     "metadata": {},
     "output_type": "execute_result"
    }
   ],
   "source": [
    "rates = rel_diffs.dropna()"
   ]
  },
  {
   "cell_type": "markdown",
   "metadata": {},
   "source": [
    "A simple way to model this system is to draw a random value from this series of observed rates each year.  We can use the NumPy function `choice` to make a random choice from a series."
   ]
  },
  {
   "cell_type": "code",
   "execution_count": 10,
   "metadata": {},
   "outputs": [
    {
     "data": {
      "text/plain": [
       "0.22245322245322247"
      ]
     },
     "execution_count": 10,
     "metadata": {},
     "output_type": "execute_result"
    }
   ],
   "source": [
    "np.random.choice(rates)"
   ]
  },
  {
   "cell_type": "markdown",
   "metadata": {},
   "source": [
    "## Simulation\n",
    "\n",
    "Now we can simulate the system by drawing random growth rates from the series of observed rates.\n",
    "\n",
    "I'll start the simulation in 2015."
   ]
  },
  {
   "cell_type": "code",
   "execution_count": 11,
   "metadata": {},
   "outputs": [
    {
     "data": {
      "text/plain": [
       "1201"
      ]
     },
     "execution_count": 11,
     "metadata": {},
     "output_type": "execute_result"
    }
   ],
   "source": [
    "t_0 = 2015\n",
    "p_0 = pop_series[t_0]"
   ]
  },
  {
   "cell_type": "markdown",
   "metadata": {},
   "source": [
    "As usual, we'll put the parameters of the model into a `System` object.\n",
    "\n",
    "The series of observed rates is one big parameter of the model."
   ]
  },
  {
   "cell_type": "code",
   "execution_count": 12,
   "metadata": {},
   "outputs": [
    {
     "data": {
      "text/html": [
       "<div>\n",
       "<style scoped>\n",
       "    .dataframe tbody tr th:only-of-type {\n",
       "        vertical-align: middle;\n",
       "    }\n",
       "\n",
       "    .dataframe tbody tr th {\n",
       "        vertical-align: top;\n",
       "    }\n",
       "\n",
       "    .dataframe thead th {\n",
       "        text-align: right;\n",
       "    }\n",
       "</style>\n",
       "<table border=\"1\" class=\"dataframe\">\n",
       "  <thead>\n",
       "    <tr style=\"text-align: right;\">\n",
       "      <th></th>\n",
       "      <th>values</th>\n",
       "    </tr>\n",
       "  </thead>\n",
       "  <tbody>\n",
       "    <tr>\n",
       "      <th>t_0</th>\n",
       "      <td>2015</td>\n",
       "    </tr>\n",
       "    <tr>\n",
       "      <th>p_0</th>\n",
       "      <td>1201</td>\n",
       "    </tr>\n",
       "    <tr>\n",
       "      <th>duration</th>\n",
       "      <td>10</td>\n",
       "    </tr>\n",
       "    <tr>\n",
       "      <th>rates</th>\n",
       "      <td>1997    0.034922\n",
       "1998    0.492794\n",
       "1999   -0.56...</td>\n",
       "    </tr>\n",
       "  </tbody>\n",
       "</table>\n",
       "</div>"
      ],
      "text/plain": [
       "t_0                                                      2015\n",
       "p_0                                                      1201\n",
       "duration                                                   10\n",
       "rates       1997    0.034922\n",
       "1998    0.492794\n",
       "1999   -0.56...\n",
       "dtype: object"
      ]
     },
     "execution_count": 12,
     "metadata": {},
     "output_type": "execute_result"
    }
   ],
   "source": [
    "system = System(t_0=t_0,\n",
    "                p_0=p_0,\n",
    "                duration=10,\n",
    "                rates=rates)"
   ]
  },
  {
   "cell_type": "markdown",
   "metadata": {},
   "source": [
    "Here's the update function.  It chooses a random growth rate, computes the change in population, and returns the new population."
   ]
  },
  {
   "cell_type": "code",
   "execution_count": 13,
   "metadata": {
    "collapsed": true
   },
   "outputs": [],
   "source": [
    "def update_func1(pop, t, system):\n",
    "    \"\"\"Simulate one time step.\n",
    "    \n",
    "    pop: population\n",
    "    t: time step\n",
    "    system: System object\n",
    "    \"\"\"\n",
    "    rate = np.random.choice(system.rates)\n",
    "    pop += rate * pop\n",
    "    return pop"
   ]
  },
  {
   "cell_type": "markdown",
   "metadata": {},
   "source": [
    "Here's a version of `run_simulation` that stores the results in a `TimeSeries` and returns it."
   ]
  },
  {
   "cell_type": "code",
   "execution_count": 14,
   "metadata": {
    "collapsed": true
   },
   "outputs": [],
   "source": [
    "def run_simulation(system, update_func):\n",
    "    \"\"\"Simulate a queueing system.\n",
    "    \n",
    "    system: System object\n",
    "    update_func: function object\n",
    "    \"\"\"\n",
    "    t_0 = system.t_0\n",
    "    t_end = t_0 + system.duration\n",
    "    \n",
    "    results = TimeSeries()\n",
    "    results[t_0] = system.p_0\n",
    "    \n",
    "    for t in linrange(t_0, t_end-1):\n",
    "        results[t+1] = update_func(results[t], t, system)\n",
    "\n",
    "    return results"
   ]
  },
  {
   "cell_type": "markdown",
   "metadata": {},
   "source": [
    "Here is the result of one run.  Each time you run this, you'll get different results."
   ]
  },
  {
   "cell_type": "code",
   "execution_count": 15,
   "metadata": {},
   "outputs": [
    {
     "data": {
      "image/png": "[encoded data removed]",
      "text/plain": [
       "<matplotlib.figure.Figure at 0x7f922fe73b70>"
      ]
     },
     "metadata": {},
     "output_type": "display_data"
    }
   ],
   "source": [
    "results = run_simulation(system, update_func1)\n",
    "plot(results, label='Simulation')\n",
    "plot_population(pop_series)"
   ]
  },
  {
   "cell_type": "markdown",
   "metadata": {},
   "source": [
    "To get a sense of how much the results vary, we can run the model several times and plot all of the results."
   ]
  },
  {
   "cell_type": "code",
   "execution_count": 16,
   "metadata": {},
   "outputs": [],
   "source": [
    "def plot_many_simulations(system, update_func, iters):\n",
    "    \"\"\"Runs simulations and plots the results.\n",
    "    \n",
    "    system: System object\n",
    "    update_func: function object\n",
    "    iters: number of simulations to run\n",
    "    \"\"\"\n",
    "    for i in range(iters):\n",
    "        results = run_simulation(system, update_func)\n",
    "        plot(results, color='gray', linewidth=5, alpha=0.1)"
   ]
  },
  {
   "cell_type": "markdown",
   "metadata": {},
   "source": [
    "The plot option `alpha=0.1` makes the lines semi-transparent, so they are darker where they overlap.\n",
    "\n",
    "Here are the results."
   ]
  },
  {
   "cell_type": "code",
   "execution_count": 17,
   "metadata": {},
   "outputs": [
    {
     "data": {
      "image/png": "[encoded data removed]",
      "text/plain": [
       "<matplotlib.figure.Figure at 0x7f922be2a278>"
      ]
     },
     "metadata": {},
     "output_type": "display_data"
    }
   ],
   "source": [
    "plot_many_simulations(system, update_func1, 30)\n",
    "plot_population(pop_series)"
   ]
  },
  {
   "cell_type": "markdown",
   "metadata": {},
   "source": [
    "The results are highly variable: according to this model, the population might continue to decline over the next 10 years, or it might recover and grow rapidly!\n",
    "\n",
    "It's hard to say how seriously we should take this model.  There are many factors that influence salmon populations that are not included in the model.  For example, if the population starts to grow quickly, it might be limited by resource limits, predators, or fishing.  If the population starts to fall, humans might restrict fishing and stock the river with farmed fish.\n",
    "\n",
    "So these results should probably not be considered useful predictions.  However, there might be something useful we can do, which is to estimate the probability that the population will increase or decrease in the next 10 years.  "
   ]
  },
  {
   "cell_type": "markdown",
   "metadata": {},
   "source": [
    "## Distribution of net changes\n",
    "\n",
    "The following function runs simulations and saves the final population from each run in a series:"
   ]
  },
  {
   "cell_type": "code",
   "execution_count": 18,
   "metadata": {},
   "outputs": [],
   "source": [
    "def run_many_simulations(system, update_func, iters):\n",
    "    \"\"\"Runs simulations and report final populations.\n",
    "    \n",
    "    system: System object\n",
    "    update_func: function object\n",
    "    iters: number of simulations to run\n",
    "    \n",
    "    returns: series of final populations\n",
    "    \"\"\"\n",
    "    \n",
    "    last_pops = ModSimSeries()\n",
    "    \n",
    "    for i in range(iters):\n",
    "        results = run_simulation(system, update_func)\n",
    "        last_year = get_last_label(results)\n",
    "        last_pops[i] = results[last_year]\n",
    "        \n",
    "    return last_pops"
   ]
  },
  {
   "cell_type": "markdown",
   "metadata": {},
   "source": [
    "If we run a few simulations we can see that the results vary:"
   ]
  },
  {
   "cell_type": "code",
   "execution_count": 19,
   "metadata": {},
   "outputs": [
    {
     "data": {
      "text/html": [
       "<div>\n",
       "<style scoped>\n",
       "    .dataframe tbody tr th:only-of-type {\n",
       "        vertical-align: middle;\n",
       "    }\n",
       "\n",
       "    .dataframe tbody tr th {\n",
       "        vertical-align: top;\n",
       "    }\n",
       "\n",
       "    .dataframe thead th {\n",
       "        text-align: right;\n",
       "    }\n",
       "</style>\n",
       "<table border=\"1\" class=\"dataframe\">\n",
       "  <thead>\n",
       "    <tr style=\"text-align: right;\">\n",
       "      <th></th>\n",
       "      <th>values</th>\n",
       "    </tr>\n",
       "  </thead>\n",
       "  <tbody>\n",
       "    <tr>\n",
       "      <th>0</th>\n",
       "      <td>197.070395</td>\n",
       "    </tr>\n",
       "    <tr>\n",
       "      <th>1</th>\n",
       "      <td>390.718373</td>\n",
       "    </tr>\n",
       "    <tr>\n",
       "      <th>2</th>\n",
       "      <td>3920.040362</td>\n",
       "    </tr>\n",
       "    <tr>\n",
       "      <th>3</th>\n",
       "      <td>1323.759085</td>\n",
       "    </tr>\n",
       "    <tr>\n",
       "      <th>4</th>\n",
       "      <td>2971.527855</td>\n",
       "    </tr>\n",
       "  </tbody>\n",
       "</table>\n",
       "</div>"
      ],
      "text/plain": [
       "0     197.070395\n",
       "1     390.718373\n",
       "2    3920.040362\n",
       "3    1323.759085\n",
       "4    2971.527855\n",
       "dtype: float64"
      ]
     },
     "execution_count": 19,
     "metadata": {},
     "output_type": "execute_result"
    }
   ],
   "source": [
    "run_many_simulations(system, update_func1, 5)"
   ]
  },
  {
   "cell_type": "markdown",
   "metadata": {},
   "source": [
    "Now we can run 1000 simulations and describe the distribution of the results."
   ]
  },
  {
   "cell_type": "code",
   "execution_count": 20,
   "metadata": {},
   "outputs": [
    {
     "data": {
      "text/plain": [
       "count     1000.000000\n",
       "mean      1617.328083\n",
       "std       2671.566824\n",
       "min         18.388545\n",
       "25%        298.418781\n",
       "50%        717.135081\n",
       "75%       1897.193595\n",
       "max      33340.596263\n",
       "dtype: float64"
      ]
     },
     "execution_count": 20,
     "metadata": {},
     "output_type": "execute_result"
    }
   ],
   "source": [
    "last_pops = run_many_simulations(system, update_func1, 1000)\n",
    "last_pops.describe()"
   ]
  },
  {
   "cell_type": "markdown",
   "metadata": {},
   "source": [
    "If we substract off the initial population, we get the distribution of changes."
   ]
  },
  {
   "cell_type": "code",
   "execution_count": 21,
   "metadata": {},
   "outputs": [
    {
     "data": {
      "text/plain": [
       "count     1000.000000\n",
       "mean       416.328083\n",
       "std       2671.566824\n",
       "min      -1182.611455\n",
       "25%       -902.581219\n",
       "50%       -483.864919\n",
       "75%        696.193595\n",
       "max      32139.596263\n",
       "dtype: float64"
      ]
     },
     "execution_count": 21,
     "metadata": {},
     "output_type": "execute_result"
    }
   ],
   "source": [
    "net_changes = last_pops - p_0\n",
    "net_changes.describe()"
   ]
  },
  {
   "cell_type": "markdown",
   "metadata": {},
   "source": [
    "The mean is positive, but that's influenced by a few runs where the population gets unrealistically large.\n",
    "\n",
    "The median is negative, which indicates that the population decreases more often than it increases.\n",
    "\n",
    "We can be more specific by counting the number of runs where `net_changes` is positive."
   ]
  },
  {
   "cell_type": "code",
   "execution_count": 22,
   "metadata": {},
   "outputs": [
    {
     "data": {
      "text/plain": [
       "353"
      ]
     },
     "execution_count": 22,
     "metadata": {},
     "output_type": "execute_result"
    }
   ],
   "source": [
    "np.sum(net_changes > 0)"
   ]
  },
  {
   "cell_type": "markdown",
   "metadata": {},
   "source": [
    "Or we can use `mean` to compute the fraction of runs where `net_changes` is positive."
   ]
  },
  {
   "cell_type": "code",
   "execution_count": 23,
   "metadata": {},
   "outputs": [
    {
     "data": {
      "text/plain": [
       "0.353"
      ]
     },
     "execution_count": 23,
     "metadata": {},
     "output_type": "execute_result"
    }
   ],
   "source": [
    "np.mean(net_changes > 0)"
   ]
  },
  {
   "cell_type": "markdown",
   "metadata": {},
   "source": [
    "And here's the fraction where it's negative."
   ]
  },
  {
   "cell_type": "code",
   "execution_count": 24,
   "metadata": {},
   "outputs": [
    {
     "data": {
      "text/plain": [
       "0.647"
      ]
     },
     "execution_count": 24,
     "metadata": {},
     "output_type": "execute_result"
    }
   ],
   "source": [
    "np.mean(net_changes < 0)"
   ]
  },
  {
   "cell_type": "markdown",
   "metadata": {},
   "source": [
    "So, based on observed past changes, this model predicts that the population is more likely to decrease than increase over the next 10 years, by about 2:1."
   ]
  },
  {
   "cell_type": "markdown",
   "metadata": {},
   "source": [
    "## A refined model\n",
    "\n",
    "There are a few ways we could improve the model.\n",
    "\n",
    "1.  It looks like there might be cyclic behavior in the past data, with a period of 4-5 years.  We could extend the model to include this effect.\n",
    "\n",
    "2.  Older data might not be as relevant for prediction as newer data, so we could give more weight to newer data.\n",
    "\n",
    "The second option is easier to implement, so let's try it.\n",
    "\n",
    "I'll use `linspace` to create an array of \"weights\" for the observed rates.  The probability that I choose each rate will be proportional to these weights.\n",
    "\n",
    "The weights have to add up to 1, so I divide through by the total."
   ]
  },
  {
   "cell_type": "code",
   "execution_count": 25,
   "metadata": {},
   "outputs": [
    {
     "data": {
      "image/png": "[encoded data removed]",
      "text/plain": [
       "<matplotlib.figure.Figure at 0x7f922bd4f4e0>"
      ]
     },
     "metadata": {},
     "output_type": "display_data"
    }
   ],
   "source": [
    "weights = linspace(0, 1, len(rates))\n",
    "weights /= sum(weights)\n",
    "plot(weights)\n",
    "decorate(xlabel='Index into the rates array',\n",
    "         ylabel='Weight')"
   ]
  },
  {
   "cell_type": "markdown",
   "metadata": {},
   "source": [
    "I'll add the weights to the `System` object, since they are parameters of the model."
   ]
  },
  {
   "cell_type": "code",
   "execution_count": 26,
   "metadata": {},
   "outputs": [],
   "source": [
    "system.weights = weights"
   ]
  },
  {
   "cell_type": "markdown",
   "metadata": {},
   "source": [
    "Here's a version of the update function that uses the weights by passing them to `np.random.choice` (see the [documentation](https://docs.scipy.org/doc/numpy/reference/generated/numpy.random.choice.html))"
   ]
  },
  {
   "cell_type": "code",
   "execution_count": 27,
   "metadata": {},
   "outputs": [],
   "source": [
    "def update_func2(pop, t, system):\n",
    "    \"\"\"Simulate one time step.\n",
    "    \n",
    "    pop: population\n",
    "    t: time step\n",
    "    system: System object\n",
    "    \"\"\"\n",
    "    rate = np.random.choice(system.rates, p=system.weights)\n",
    "    pop += rate * pop\n",
    "    return pop"
   ]
  },
  {
   "cell_type": "markdown",
   "metadata": {},
   "source": [
    "The results are not obviously different from what we saw before."
   ]
  },
  {
   "cell_type": "code",
   "execution_count": 28,
   "metadata": {},
   "outputs": [
    {
     "data": {
      "image/png": "[encoded data removed]",
      "text/plain": [
       "<matplotlib.figure.Figure at 0x7f922bcfd710>"
      ]
     },
     "metadata": {},
     "output_type": "display_data"
    }
   ],
   "source": [
    "plot_many_simulations(system, update_func2, 30)\n",
    "plot_population(pop_series)"
   ]
  },
  {
   "cell_type": "markdown",
   "metadata": {},
   "source": [
    "The distribution of net changes is similar."
   ]
  },
  {
   "cell_type": "code",
   "execution_count": 29,
   "metadata": {},
   "outputs": [
    {
     "data": {
      "text/plain": [
       "count     1000.000000\n",
       "mean       704.234022\n",
       "std       3297.810927\n",
       "min      -1171.461435\n",
       "25%       -834.175467\n",
       "50%       -372.285503\n",
       "75%        843.975798\n",
       "max      28349.380320\n",
       "dtype: float64"
      ]
     },
     "execution_count": 29,
     "metadata": {},
     "output_type": "execute_result"
    }
   ],
   "source": [
    "last_pops = run_many_simulations(system, update_func2, 1000)\n",
    "net_changes = last_pops - p_0\n",
    "net_changes.describe()"
   ]
  },
  {
   "cell_type": "markdown",
   "metadata": {},
   "source": [
    "And the probability that the population will decline is about the same."
   ]
  },
  {
   "cell_type": "code",
   "execution_count": 30,
   "metadata": {},
   "outputs": [
    {
     "data": {
      "text/plain": [
       "0.619"
      ]
     },
     "execution_count": 30,
     "metadata": {},
     "output_type": "execute_result"
    }
   ],
   "source": [
    "np.mean(net_changes < 0)"
   ]
  },
  {
   "cell_type": "markdown",
   "metadata": {},
   "source": [
    "I conclude that extending the model to give more weight to recent data does not have much effect on the model.\n",
    "\n",
    "This suggests that the simpler assumption -- that all observed changes are equally relevant -- is not a major source of error."
   ]
  },
  {
   "cell_type": "markdown",
   "metadata": {},
   "source": [
    "## Extracting data from a PDF document\n",
    "\n",
    "The following section uses PyPDF2 to get data from a PDF document.  It uses features we have not seen yet, so don't worry if it doesn't all make sense.\n",
    "\n",
    "The PyPDF2 package provides functions to read PDF documents and get the data.\n",
    "\n",
    "If you don't already have it installed, and you are using Anaconda, you can install it by uncommenting and running the following cell (keep the exclamation point)."
   ]
  },
  {
   "cell_type": "code",
   "execution_count": 31,
   "metadata": {},
   "outputs": [],
   "source": [
    "#  !conda install -c conda-forge pypdf2"
   ]
  },
  {
   "cell_type": "code",
   "execution_count": 32,
   "metadata": {},
   "outputs": [],
   "source": [
    "import PyPDF2"
   ]
  },
  {
   "cell_type": "markdown",
   "metadata": {},
   "source": [
    "The 2017 report is in the data directory."
   ]
  },
  {
   "cell_type": "code",
   "execution_count": 33,
   "metadata": {},
   "outputs": [
    {
     "data": {
      "text/plain": [
       "<_io.BufferedReader name='data/USASAC2018-Report-30-2017-Activities-Page11.pdf'>"
      ]
     },
     "execution_count": 33,
     "metadata": {},
     "output_type": "execute_result"
    }
   ],
   "source": [
    "pdfFileObj = open('data/USASAC2018-Report-30-2017-Activities-Page11.pdf', 'rb')"
   ]
  },
  {
   "cell_type": "markdown",
   "metadata": {},
   "source": [
    "The `PdfFileReader` object knows how to read PDF documents."
   ]
  },
  {
   "cell_type": "code",
   "execution_count": 34,
   "metadata": {},
   "outputs": [
    {
     "data": {
      "text/plain": [
       "<PyPDF2.pdf.PdfFileReader at 0x7f922bd76cc0>"
      ]
     },
     "execution_count": 34,
     "metadata": {},
     "output_type": "execute_result"
    }
   ],
   "source": [
    "pdfReader = PyPDF2.PdfFileReader(pdfFileObj)"
   ]
  },
  {
   "cell_type": "markdown",
   "metadata": {},
   "source": [
    "This file contains only one page."
   ]
  },
  {
   "cell_type": "code",
   "execution_count": 35,
   "metadata": {},
   "outputs": [
    {
     "data": {
      "text/plain": [
       "1"
      ]
     },
     "execution_count": 35,
     "metadata": {},
     "output_type": "execute_result"
    }
   ],
   "source": [
    "pdfReader.numPages"
   ]
  },
  {
   "cell_type": "markdown",
   "metadata": {},
   "source": [
    "`getPage` selects the only page in the document."
   ]
  },
  {
   "cell_type": "code",
   "execution_count": 36,
   "metadata": {},
   "outputs": [
    {
     "data": {
      "text/plain": [
       "'USASAC ANNUAL REPORT 2017/30\\n11 \\nTable 1.3.2 Estimated Atlantic salmon returns to the USA, 1997-2017. \"Natural\" includes fish originating \\nfrom natural spawning, hatchery fry stocking, or hatchery egg planting Starting in 2003 estimated returns \\nalso include returns estimated adult returns from redd counts. \\nYear \\nSea age \\n  \\nOrigin \\n1 SW \\n2SW \\n3SW \\nRepeat \\nTotal\\n  \\nHatchery \\nNatural \\n1997 \\n278 \\n1,492 \\n8 \\n36 \\n1,814 \\n  \\n1,296 \\n518 \\n1998 \\n340 \\n1,477 \\n3 \\n42 \\n1,862 \\n  \\n1,146 \\n716 \\n1999 \\n402 \\n1,136 \\n3 \\n26 \\n1,567 \\n  \\n959\\n608 \\n2000 \\n292 \\n535 \\n0 \\n20 \\n847 \\n  \\n562\\n285 \\n2001 \\n269 \\n804 \\n7 \\n4 \\n1,084 \\n  \\n833\\n251 \\n2002 \\n437 \\n505 \\n2 \\n23 \\n967 \\n  \\n832\\n135 \\n2003 \\n233 \\n1,185 \\n3 \\n6 \\n1,427 \\n  \\n1,238 \\n189 \\n2004 \\n319 \\n1,266 \\n21 \\n24 \\n1,630 \\n  \\n1,395 \\n235 \\n2005 \\n317 \\n945 \\n0 \\n10 \\n1,272 \\n  \\n1,019 \\n253 \\n2006 \\n442 \\n1,007 \\n2 \\n5 \\n1,456 \\n  \\n1,167 \\n289 \\n2007 \\n299 \\n958 \\n3 \\n1 \\n1,261 \\n  \\n940\\n321 \\n2008 \\n812 \\n1,758 \\n12 \\n23 \\n2,605 \\n  \\n2,191 \\n414 \\n2009 \\n243 \\n2,065 \\n16 \\n16 \\n2,340 \\n  \\n2,017 \\n323 \\n2010 \\n552 \\n1,081 \\n2 \\n16 \\n1,651 \\n  \\n1,468 \\n183 \\n2011 \\n1,084 \\n3,053 \\n26 \\n15 \\n4,178 \\n  \\n3,560 \\n618 \\n2012 \\n26 \\n879 \\n31 \\n5 \\n941 \\n731\\n210 \\n2013 \\n78 \\n525 \\n3 \\n5 \\n611 \\n  \\n413\\n198 \\n2014 \\n110 \\n334 \\n3 \\n3 \\n450 \\n  \\n304\\n146 \\n2015 \\n150 \\n761 \\n9 \\n1 \\n921 \\n  \\n739\\n182 \\n2016 \\n232 \\n389 \\n2 \\n3 \\n626 \\n  \\n448\\n178 \\n2017 363 663 13 \\n2 1041 \\n  \\n806 235 \\n'"
      ]
     },
     "execution_count": 36,
     "metadata": {},
     "output_type": "execute_result"
    }
   ],
   "source": [
    "page = pdfReader.getPage(0)\n",
    "page.extractText()"
   ]
  },
  {
   "cell_type": "markdown",
   "metadata": {},
   "source": [
    "The following function iterates through the lines on the page, removes whitespace, and ignores lines that contain only whitespace."
   ]
  },
  {
   "cell_type": "code",
   "execution_count": 37,
   "metadata": {},
   "outputs": [],
   "source": [
    "def iter_page(page):\n",
    "    for item in page.extractText().splitlines():\n",
    "        item = item.strip()\n",
    "        if item:\n",
    "            yield item"
   ]
  },
  {
   "cell_type": "markdown",
   "metadata": {},
   "source": [
    "The following function gets the next `n` pages from the page."
   ]
  },
  {
   "cell_type": "code",
   "execution_count": 38,
   "metadata": {},
   "outputs": [],
   "source": [
    "def next_n(iterable, n):\n",
    "    \"\"\"Get the next n items from an iterable.\"\"\"\n",
    "    return [next(iterable) for i in range(n)]"
   ]
  },
  {
   "cell_type": "markdown",
   "metadata": {},
   "source": [
    "We skip the text at the top of the page."
   ]
  },
  {
   "cell_type": "code",
   "execution_count": 39,
   "metadata": {},
   "outputs": [
    {
     "data": {
      "text/plain": [
       "['USASAC ANNUAL REPORT 2017/30',\n",
       " '11',\n",
       " 'Table 1.3.2 Estimated Atlantic salmon returns to the USA, 1997-2017. \"Natural\" includes fish originating',\n",
       " 'from natural spawning, hatchery fry stocking, or hatchery egg planting Starting in 2003 estimated returns',\n",
       " 'also include returns estimated adult returns from redd counts.',\n",
       " 'Year',\n",
       " 'Sea age',\n",
       " 'Origin']"
      ]
     },
     "execution_count": 39,
     "metadata": {},
     "output_type": "execute_result"
    }
   ],
   "source": [
    "t = iter_page(page)\n",
    "discard = next_n(t, 8)"
   ]
  },
  {
   "cell_type": "markdown",
   "metadata": {},
   "source": [
    "The next 7 strings are the column headings of the table."
   ]
  },
  {
   "cell_type": "code",
   "execution_count": 40,
   "metadata": {},
   "outputs": [
    {
     "data": {
      "text/plain": [
       "['1 SW', '2SW', '3SW', 'Repeat', 'Total', 'Hatchery', 'Natural']"
      ]
     },
     "execution_count": 40,
     "metadata": {},
     "output_type": "execute_result"
    }
   ],
   "source": [
    "columns = next_n(t, 7)"
   ]
  },
  {
   "cell_type": "markdown",
   "metadata": {},
   "source": [
    "Create an empty `Dataframe` with the column headings."
   ]
  },
  {
   "cell_type": "code",
   "execution_count": 41,
   "metadata": {},
   "outputs": [
    {
     "data": {
      "text/html": [
       "<div>\n",
       "<style scoped>\n",
       "    .dataframe tbody tr th:only-of-type {\n",
       "        vertical-align: middle;\n",
       "    }\n",
       "\n",
       "    .dataframe tbody tr th {\n",
       "        vertical-align: top;\n",
       "    }\n",
       "\n",
       "    .dataframe thead th {\n",
       "        text-align: right;\n",
       "    }\n",
       "</style>\n",
       "<table border=\"1\" class=\"dataframe\">\n",
       "  <thead>\n",
       "    <tr style=\"text-align: right;\">\n",
       "      <th></th>\n",
       "      <th>1 SW</th>\n",
       "      <th>2SW</th>\n",
       "      <th>3SW</th>\n",
       "      <th>Repeat</th>\n",
       "      <th>Total</th>\n",
       "      <th>Hatchery</th>\n",
       "      <th>Natural</th>\n",
       "    </tr>\n",
       "  </thead>\n",
       "  <tbody>\n",
       "  </tbody>\n",
       "</table>\n",
       "</div>"
      ],
      "text/plain": [
       "Empty DataFrame\n",
       "Columns: [1 SW, 2SW, 3SW, Repeat, Total, Hatchery, Natural]\n",
       "Index: []"
      ]
     },
     "execution_count": 41,
     "metadata": {},
     "output_type": "execute_result"
    }
   ],
   "source": [
    "df = pd.DataFrame(columns=columns)\n",
    "df"
   ]
  },
  {
   "cell_type": "markdown",
   "metadata": {},
   "source": [
    "Get the next 19 lines of the table."
   ]
  },
  {
   "cell_type": "code",
   "execution_count": 42,
   "metadata": {},
   "outputs": [],
   "source": [
    "for i in range(19):\n",
    "    year = int(next(t))\n",
    "    data = next_n(t, 7)\n",
    "    df.loc[year] = data"
   ]
  },
  {
   "cell_type": "markdown",
   "metadata": {},
   "source": [
    "The last line in the table gets messed up, so I'll do that one by hand."
   ]
  },
  {
   "cell_type": "code",
   "execution_count": 43,
   "metadata": {},
   "outputs": [],
   "source": [
    "df.loc[2017] = ['363', '663', '13', '2', '1041', '806', '235'] "
   ]
  },
  {
   "cell_type": "markdown",
   "metadata": {},
   "source": [
    "Here's the result."
   ]
  },
  {
   "cell_type": "code",
   "execution_count": 44,
   "metadata": {},
   "outputs": [
    {
     "data": {
      "text/html": [
       "<div>\n",
       "<style scoped>\n",
       "    .dataframe tbody tr th:only-of-type {\n",
       "        vertical-align: middle;\n",
       "    }\n",
       "\n",
       "    .dataframe tbody tr th {\n",
       "        vertical-align: top;\n",
       "    }\n",
       "\n",
       "    .dataframe thead th {\n",
       "        text-align: right;\n",
       "    }\n",
       "</style>\n",
       "<table border=\"1\" class=\"dataframe\">\n",
       "  <thead>\n",
       "    <tr style=\"text-align: right;\">\n",
       "      <th></th>\n",
       "      <th>1 SW</th>\n",
       "      <th>2SW</th>\n",
       "      <th>3SW</th>\n",
       "      <th>Repeat</th>\n",
       "      <th>Total</th>\n",
       "      <th>Hatchery</th>\n",
       "      <th>Natural</th>\n",
       "    </tr>\n",
       "  </thead>\n",
       "  <tbody>\n",
       "    <tr>\n",
       "      <th>1997</th>\n",
       "      <td>278</td>\n",
       "      <td>1,492</td>\n",
       "      <td>8</td>\n",
       "      <td>36</td>\n",
       "      <td>1,814</td>\n",
       "      <td>1,296</td>\n",
       "      <td>518</td>\n",
       "    </tr>\n",
       "    <tr>\n",
       "      <th>1998</th>\n",
       "      <td>340</td>\n",
       "      <td>1,477</td>\n",
       "      <td>3</td>\n",
       "      <td>42</td>\n",
       "      <td>1,862</td>\n",
       "      <td>1,146</td>\n",
       "      <td>716</td>\n",
       "    </tr>\n",
       "    <tr>\n",
       "      <th>1999</th>\n",
       "      <td>402</td>\n",
       "      <td>1,136</td>\n",
       "      <td>3</td>\n",
       "      <td>26</td>\n",
       "      <td>1,567</td>\n",
       "      <td>959</td>\n",
       "      <td>608</td>\n",
       "    </tr>\n",
       "    <tr>\n",
       "      <th>2000</th>\n",
       "      <td>292</td>\n",
       "      <td>535</td>\n",
       "      <td>0</td>\n",
       "      <td>20</td>\n",
       "      <td>847</td>\n",
       "      <td>562</td>\n",
       "      <td>285</td>\n",
       "    </tr>\n",
       "    <tr>\n",
       "      <th>2001</th>\n",
       "      <td>269</td>\n",
       "      <td>804</td>\n",
       "      <td>7</td>\n",
       "      <td>4</td>\n",
       "      <td>1,084</td>\n",
       "      <td>833</td>\n",
       "      <td>251</td>\n",
       "    </tr>\n",
       "    <tr>\n",
       "      <th>2002</th>\n",
       "      <td>437</td>\n",
       "      <td>505</td>\n",
       "      <td>2</td>\n",
       "      <td>23</td>\n",
       "      <td>967</td>\n",
       "      <td>832</td>\n",
       "      <td>135</td>\n",
       "    </tr>\n",
       "    <tr>\n",
       "      <th>2003</th>\n",
       "      <td>233</td>\n",
       "      <td>1,185</td>\n",
       "      <td>3</td>\n",
       "      <td>6</td>\n",
       "      <td>1,427</td>\n",
       "      <td>1,238</td>\n",
       "      <td>189</td>\n",
       "    </tr>\n",
       "    <tr>\n",
       "      <th>2004</th>\n",
       "      <td>319</td>\n",
       "      <td>1,266</td>\n",
       "      <td>21</td>\n",
       "      <td>24</td>\n",
       "      <td>1,630</td>\n",
       "      <td>1,395</td>\n",
       "      <td>235</td>\n",
       "    </tr>\n",
       "    <tr>\n",
       "      <th>2005</th>\n",
       "      <td>317</td>\n",
       "      <td>945</td>\n",
       "      <td>0</td>\n",
       "      <td>10</td>\n",
       "      <td>1,272</td>\n",
       "      <td>1,019</td>\n",
       "      <td>253</td>\n",
       "    </tr>\n",
       "    <tr>\n",
       "      <th>2006</th>\n",
       "      <td>442</td>\n",
       "      <td>1,007</td>\n",
       "      <td>2</td>\n",
       "      <td>5</td>\n",
       "      <td>1,456</td>\n",
       "      <td>1,167</td>\n",
       "      <td>289</td>\n",
       "    </tr>\n",
       "    <tr>\n",
       "      <th>2007</th>\n",
       "      <td>299</td>\n",
       "      <td>958</td>\n",
       "      <td>3</td>\n",
       "      <td>1</td>\n",
       "      <td>1,261</td>\n",
       "      <td>940</td>\n",
       "      <td>321</td>\n",
       "    </tr>\n",
       "    <tr>\n",
       "      <th>2008</th>\n",
       "      <td>812</td>\n",
       "      <td>1,758</td>\n",
       "      <td>12</td>\n",
       "      <td>23</td>\n",
       "      <td>2,605</td>\n",
       "      <td>2,191</td>\n",
       "      <td>414</td>\n",
       "    </tr>\n",
       "    <tr>\n",
       "      <th>2009</th>\n",
       "      <td>243</td>\n",
       "      <td>2,065</td>\n",
       "      <td>16</td>\n",
       "      <td>16</td>\n",
       "      <td>2,340</td>\n",
       "      <td>2,017</td>\n",
       "      <td>323</td>\n",
       "    </tr>\n",
       "    <tr>\n",
       "      <th>2010</th>\n",
       "      <td>552</td>\n",
       "      <td>1,081</td>\n",
       "      <td>2</td>\n",
       "      <td>16</td>\n",
       "      <td>1,651</td>\n",
       "      <td>1,468</td>\n",
       "      <td>183</td>\n",
       "    </tr>\n",
       "    <tr>\n",
       "      <th>2011</th>\n",
       "      <td>1,084</td>\n",
       "      <td>3,053</td>\n",
       "      <td>26</td>\n",
       "      <td>15</td>\n",
       "      <td>4,178</td>\n",
       "      <td>3,560</td>\n",
       "      <td>618</td>\n",
       "    </tr>\n",
       "    <tr>\n",
       "      <th>2012</th>\n",
       "      <td>26</td>\n",
       "      <td>879</td>\n",
       "      <td>31</td>\n",
       "      <td>5</td>\n",
       "      <td>941</td>\n",
       "      <td>731</td>\n",
       "      <td>210</td>\n",
       "    </tr>\n",
       "    <tr>\n",
       "      <th>2013</th>\n",
       "      <td>78</td>\n",
       "      <td>525</td>\n",
       "      <td>3</td>\n",
       "      <td>5</td>\n",
       "      <td>611</td>\n",
       "      <td>413</td>\n",
       "      <td>198</td>\n",
       "    </tr>\n",
       "    <tr>\n",
       "      <th>2014</th>\n",
       "      <td>110</td>\n",
       "      <td>334</td>\n",
       "      <td>3</td>\n",
       "      <td>3</td>\n",
       "      <td>450</td>\n",
       "      <td>304</td>\n",
       "      <td>146</td>\n",
       "    </tr>\n",
       "    <tr>\n",
       "      <th>2015</th>\n",
       "      <td>150</td>\n",
       "      <td>761</td>\n",
       "      <td>9</td>\n",
       "      <td>1</td>\n",
       "      <td>921</td>\n",
       "      <td>739</td>\n",
       "      <td>182</td>\n",
       "    </tr>\n",
       "    <tr>\n",
       "      <th>2017</th>\n",
       "      <td>363</td>\n",
       "      <td>663</td>\n",
       "      <td>13</td>\n",
       "      <td>2</td>\n",
       "      <td>1041</td>\n",
       "      <td>806</td>\n",
       "      <td>235</td>\n",
       "    </tr>\n",
       "  </tbody>\n",
       "</table>\n",
       "</div>"
      ],
      "text/plain": [
       "       1 SW    2SW 3SW Repeat  Total Hatchery Natural\n",
       "1997    278  1,492   8     36  1,814    1,296     518\n",
       "1998    340  1,477   3     42  1,862    1,146     716\n",
       "1999    402  1,136   3     26  1,567      959     608\n",
       "2000    292    535   0     20    847      562     285\n",
       "2001    269    804   7      4  1,084      833     251\n",
       "2002    437    505   2     23    967      832     135\n",
       "2003    233  1,185   3      6  1,427    1,238     189\n",
       "2004    319  1,266  21     24  1,630    1,395     235\n",
       "2005    317    945   0     10  1,272    1,019     253\n",
       "2006    442  1,007   2      5  1,456    1,167     289\n",
       "2007    299    958   3      1  1,261      940     321\n",
       "2008    812  1,758  12     23  2,605    2,191     414\n",
       "2009    243  2,065  16     16  2,340    2,017     323\n",
       "2010    552  1,081   2     16  1,651    1,468     183\n",
       "2011  1,084  3,053  26     15  4,178    3,560     618\n",
       "2012     26    879  31      5    941      731     210\n",
       "2013     78    525   3      5    611      413     198\n",
       "2014    110    334   3      3    450      304     146\n",
       "2015    150    761   9      1    921      739     182\n",
       "2017    363    663  13      2   1041      806     235"
      ]
     },
     "execution_count": 44,
     "metadata": {},
     "output_type": "execute_result"
    }
   ],
   "source": [
    "df"
   ]
  },
  {
   "cell_type": "markdown",
   "metadata": {},
   "source": [
    "In general, reading tables from PDF documents is fragile and error-prone.  Sometimes it is easier to just type it in."
   ]
  }
 ],
 "metadata": {
  "kernelspec": {
   "display_name": "Python 3",
   "language": "python",
   "name": "python3"
  },
  "language_info": {
   "codemirror_mode": {
    "name": "ipython",
    "version": 3
   },
   "file_extension": ".py",
   "mimetype": "text/x-python",
   "name": "python",
   "nbconvert_exporter": "python",
   "pygments_lexer": "ipython3",
   "version": "3.6.4"
  }
 },
 "nbformat": 4,
 "nbformat_minor": 2
}
