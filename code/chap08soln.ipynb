{
 "cells": [
  {
   "cell_type": "markdown",
   "metadata": {},
   "source": [
    "# Modeling and Simulation in Python\n",
    "\n",
    "Chapter 8: Pharmacokinetics\n",
    "\n",
    "Copyright 2017 Allen Downey\n",
    "\n",
    "License: [Creative Commons Attribution 4.0 International](https://creativecommons.org/licenses/by/4.0)\n"
   ]
  },
  {
   "cell_type": "markdown",
   "metadata": {},
   "source": [
    "We'll start with the same code we saw last time: the magic command that tells Jupyter where to put the figures, and the import statement that gets the function defined in the `modsim` module."
   ]
  },
  {
   "cell_type": "code",
   "execution_count": 1,
   "metadata": {
    "collapsed": true
   },
   "outputs": [],
   "source": [
    "# If you want the figures to appear in the notebook, \n",
    "# and you want to interact with them, use\n",
    "# %matplotlib notebook\n",
    "\n",
    "# If you want the figures to appear in the notebook, \n",
    "# and you don't want to interact with them, use\n",
    "# %matplotlib inline\n",
    "\n",
    "# If you want the figures to appear in separate windows, use\n",
    "# %matplotlib qt|\n",
    "\n",
    "# tempo switch from one to another, you have to select Kernel->Restart\n",
    "\n",
    "%matplotlib inline\n",
    "\n",
    "from modsim import *"
   ]
  },
  {
   "cell_type": "code",
   "execution_count": 2,
   "metadata": {},
   "outputs": [
    {
     "data": {
      "text/html": [
       "<div>\n",
       "<style>\n",
       "    .dataframe thead tr:only-child th {\n",
       "        text-align: right;\n",
       "    }\n",
       "\n",
       "    .dataframe thead th {\n",
       "        text-align: left;\n",
       "    }\n",
       "\n",
       "    .dataframe tbody tr th {\n",
       "        vertical-align: top;\n",
       "    }\n",
       "</style>\n",
       "<table border=\"1\" class=\"dataframe\">\n",
       "  <thead>\n",
       "    <tr style=\"text-align: right;\">\n",
       "      <th></th>\n",
       "      <th>glucose</th>\n",
       "      <th>insulin</th>\n",
       "    </tr>\n",
       "    <tr>\n",
       "      <th>time</th>\n",
       "      <th></th>\n",
       "      <th></th>\n",
       "    </tr>\n",
       "  </thead>\n",
       "  <tbody>\n",
       "    <tr>\n",
       "      <th>0</th>\n",
       "      <td>92</td>\n",
       "      <td>11</td>\n",
       "    </tr>\n",
       "    <tr>\n",
       "      <th>2</th>\n",
       "      <td>350</td>\n",
       "      <td>26</td>\n",
       "    </tr>\n",
       "    <tr>\n",
       "      <th>4</th>\n",
       "      <td>287</td>\n",
       "      <td>130</td>\n",
       "    </tr>\n",
       "    <tr>\n",
       "      <th>6</th>\n",
       "      <td>251</td>\n",
       "      <td>85</td>\n",
       "    </tr>\n",
       "    <tr>\n",
       "      <th>8</th>\n",
       "      <td>240</td>\n",
       "      <td>51</td>\n",
       "    </tr>\n",
       "    <tr>\n",
       "      <th>10</th>\n",
       "      <td>216</td>\n",
       "      <td>49</td>\n",
       "    </tr>\n",
       "    <tr>\n",
       "      <th>12</th>\n",
       "      <td>211</td>\n",
       "      <td>45</td>\n",
       "    </tr>\n",
       "    <tr>\n",
       "      <th>14</th>\n",
       "      <td>205</td>\n",
       "      <td>41</td>\n",
       "    </tr>\n",
       "    <tr>\n",
       "      <th>16</th>\n",
       "      <td>196</td>\n",
       "      <td>35</td>\n",
       "    </tr>\n",
       "    <tr>\n",
       "      <th>19</th>\n",
       "      <td>192</td>\n",
       "      <td>30</td>\n",
       "    </tr>\n",
       "    <tr>\n",
       "      <th>22</th>\n",
       "      <td>172</td>\n",
       "      <td>30</td>\n",
       "    </tr>\n",
       "    <tr>\n",
       "      <th>27</th>\n",
       "      <td>163</td>\n",
       "      <td>27</td>\n",
       "    </tr>\n",
       "    <tr>\n",
       "      <th>32</th>\n",
       "      <td>142</td>\n",
       "      <td>30</td>\n",
       "    </tr>\n",
       "    <tr>\n",
       "      <th>42</th>\n",
       "      <td>124</td>\n",
       "      <td>22</td>\n",
       "    </tr>\n",
       "    <tr>\n",
       "      <th>52</th>\n",
       "      <td>105</td>\n",
       "      <td>15</td>\n",
       "    </tr>\n",
       "    <tr>\n",
       "      <th>62</th>\n",
       "      <td>92</td>\n",
       "      <td>15</td>\n",
       "    </tr>\n",
       "    <tr>\n",
       "      <th>72</th>\n",
       "      <td>84</td>\n",
       "      <td>11</td>\n",
       "    </tr>\n",
       "    <tr>\n",
       "      <th>82</th>\n",
       "      <td>77</td>\n",
       "      <td>10</td>\n",
       "    </tr>\n",
       "    <tr>\n",
       "      <th>92</th>\n",
       "      <td>82</td>\n",
       "      <td>8</td>\n",
       "    </tr>\n",
       "    <tr>\n",
       "      <th>102</th>\n",
       "      <td>81</td>\n",
       "      <td>11</td>\n",
       "    </tr>\n",
       "    <tr>\n",
       "      <th>122</th>\n",
       "      <td>82</td>\n",
       "      <td>7</td>\n",
       "    </tr>\n",
       "    <tr>\n",
       "      <th>142</th>\n",
       "      <td>82</td>\n",
       "      <td>8</td>\n",
       "    </tr>\n",
       "    <tr>\n",
       "      <th>162</th>\n",
       "      <td>85</td>\n",
       "      <td>8</td>\n",
       "    </tr>\n",
       "    <tr>\n",
       "      <th>182</th>\n",
       "      <td>90</td>\n",
       "      <td>7</td>\n",
       "    </tr>\n",
       "  </tbody>\n",
       "</table>\n",
       "</div>"
      ],
      "text/plain": [
       "      glucose  insulin\n",
       "time                  \n",
       "0          92       11\n",
       "2         350       26\n",
       "4         287      130\n",
       "6         251       85\n",
       "8         240       51\n",
       "10        216       49\n",
       "12        211       45\n",
       "14        205       41\n",
       "16        196       35\n",
       "19        192       30\n",
       "22        172       30\n",
       "27        163       27\n",
       "32        142       30\n",
       "42        124       22\n",
       "52        105       15\n",
       "62         92       15\n",
       "72         84       11\n",
       "82         77       10\n",
       "92         82        8\n",
       "102        81       11\n",
       "122        82        7\n",
       "142        82        8\n",
       "162        85        8\n",
       "182        90        7"
      ]
     },
     "execution_count": 2,
     "metadata": {},
     "output_type": "execute_result"
    }
   ],
   "source": [
    "df = pd.read_csv('glucose_insulin.csv', index_col='time')\n",
    "df"
   ]
  },
  {
   "cell_type": "code",
   "execution_count": 3,
   "metadata": {},
   "outputs": [
    {
     "data": {
      "image/png": "[encoded data removed]",
      "text/plain": [
       "<matplotlib.figure.Figure at 0x7ff48cc82320>"
      ]
     },
     "metadata": {},
     "output_type": "display_data"
    }
   ],
   "source": [
    "plot(df.glucose, label='glucose')\n",
    "decorate(xlabel='Time (min)',\n",
    "         ylabel='Concentration (mg/dl)')"
   ]
  },
  {
   "cell_type": "code",
   "execution_count": 4,
   "metadata": {},
   "outputs": [
    {
     "data": {
      "image/png": "[encoded data removed]",
      "text/plain": [
       "<matplotlib.figure.Figure at 0x7ff48a484400>"
      ]
     },
     "metadata": {},
     "output_type": "display_data"
    }
   ],
   "source": [
    "plot(df.insulin, color='green', label='insulin')\n",
    "decorate(xlabel='Time (min)',\n",
    "         ylabel='Concentration ($\\mu$U/ml)')"
   ]
  },
  {
   "cell_type": "code",
   "execution_count": 5,
   "metadata": {},
   "outputs": [
    {
     "name": "stdout",
     "output_type": "stream",
     "text": [
      "Saving figure to file chap08-fig01.pdf\n"
     ]
    },
    {
     "data": {
      "image/png": "[encoded data removed]",
      "text/plain": [
       "<matplotlib.figure.Figure at 0x7ff48a1cdd30>"
      ]
     },
     "metadata": {},
     "output_type": "display_data"
    }
   ],
   "source": [
    "plt.subplot(2, 1, 1)\n",
    "plot(df.glucose, label='glucose')\n",
    "decorate(ylabel='mg/dl')\n",
    "\n",
    "plt.subplot(2, 1, 2)\n",
    "plot(df.insulin, color='green', label='insulin')\n",
    "decorate(xlabel='Time (min)',\n",
    "         ylabel='$\\mu$U/ml')\n",
    "\n",
    "savefig('chap08-fig01.pdf')"
   ]
  },
  {
   "cell_type": "code",
   "execution_count": 75,
   "metadata": {},
   "outputs": [
    {
     "name": "stdout",
     "output_type": "stream",
     "text": [
      "def interpolate(series, **options):\n",
      "    \"\"\"Creates an interpolation function.\n",
      "\n",
      "    series: Series object\n",
      "    options: any legal options to scipy.interpolate.interp1d\n",
      "\n",
      "    returns: function that maps from the index of the series to its values \n",
      "    \"\"\"\n",
      "    underride(options, fill_value='extrapolate')\n",
      "    return interp1d(series.index, series.values, **options)\n",
      "\n"
     ]
    }
   ],
   "source": [
    "print(getsource(interpolate))"
   ]
  },
  {
   "cell_type": "code",
   "execution_count": 7,
   "metadata": {},
   "outputs": [],
   "source": [
    "I = interpolate(df.insulin)"
   ]
  },
  {
   "cell_type": "code",
   "execution_count": 8,
   "metadata": {
    "scrolled": true
   },
   "outputs": [
    {
     "data": {
      "text/plain": [
       "array(31.666666666666668)"
      ]
     },
     "execution_count": 8,
     "metadata": {},
     "output_type": "execute_result"
    }
   ],
   "source": [
    "I(18)"
   ]
  },
  {
   "cell_type": "code",
   "execution_count": 9,
   "metadata": {},
   "outputs": [
    {
     "data": {
      "image/png": "[encoded data removed]",
      "text/plain": [
       "<matplotlib.figure.Figure at 0x7ff48a00cb00>"
      ]
     },
     "metadata": {},
     "output_type": "display_data"
    }
   ],
   "source": [
    "ts = arange(0, 182, 2)\n",
    "plot(ts, I(ts), color='green', label='insulin')\n",
    "\n",
    "decorate(xlabel='Time (min)',\n",
    "         ylabel='Concentration ($\\mu$U/ml)')"
   ]
  },
  {
   "cell_type": "code",
   "execution_count": 10,
   "metadata": {
    "collapsed": true
   },
   "outputs": [],
   "source": [
    "k1 = 0.03\n",
    "k2 = 0.02\n",
    "k3 = 1e-05\n",
    "G0 = 290"
   ]
  },
  {
   "cell_type": "code",
   "execution_count": 11,
   "metadata": {},
   "outputs": [
    {
     "data": {
      "text/plain": [
       "0.0005"
      ]
     },
     "execution_count": 11,
     "metadata": {},
     "output_type": "execute_result"
    }
   ],
   "source": [
    "S_I = k3 / k2\n",
    "S_I"
   ]
  },
  {
   "cell_type": "code",
   "execution_count": 12,
   "metadata": {
    "collapsed": true
   },
   "outputs": [],
   "source": [
    "Gb = df.glucose[0]\n",
    "Ib = df.insulin[0]"
   ]
  },
  {
   "cell_type": "code",
   "execution_count": 13,
   "metadata": {
    "collapsed": true
   },
   "outputs": [],
   "source": [
    "init = State(G=G0, X=0)"
   ]
  },
  {
   "cell_type": "code",
   "execution_count": 14,
   "metadata": {},
   "outputs": [],
   "source": [
    "system = System(init=init, \n",
    "                k1=k1, k2=k2, k3=k3,\n",
    "                I=I, Gb=Gb, Ib=Ib,\n",
    "                t0=0, t_end=182, dt=2)"
   ]
  },
  {
   "cell_type": "code",
   "execution_count": 15,
   "metadata": {
    "collapsed": true
   },
   "outputs": [],
   "source": [
    "def update_func(state, t, system):\n",
    "    G, X = state\n",
    "    unpack(system)\n",
    "        \n",
    "    dGdt = -k1 * (G - Gb) - X*G\n",
    "    dXdt = k3 * (I(t) - Ib) - k2 * X\n",
    "    \n",
    "    G += dGdt * dt\n",
    "    X += dXdt * dt\n",
    "\n",
    "    return State(G=G, X=X)"
   ]
  },
  {
   "cell_type": "code",
   "execution_count": 16,
   "metadata": {},
   "outputs": [
    {
     "data": {
      "text/html": [
       "<div>\n",
       "<style>\n",
       "    .dataframe thead tr:only-child th {\n",
       "        text-align: right;\n",
       "    }\n",
       "\n",
       "    .dataframe thead th {\n",
       "        text-align: left;\n",
       "    }\n",
       "\n",
       "    .dataframe tbody tr th {\n",
       "        vertical-align: top;\n",
       "    }\n",
       "</style>\n",
       "<table border=\"1\" class=\"dataframe\">\n",
       "  <thead>\n",
       "    <tr style=\"text-align: right;\">\n",
       "      <th></th>\n",
       "      <th>value</th>\n",
       "    </tr>\n",
       "  </thead>\n",
       "  <tbody>\n",
       "    <tr>\n",
       "      <th>G</th>\n",
       "      <td>278.12</td>\n",
       "    </tr>\n",
       "    <tr>\n",
       "      <th>X</th>\n",
       "      <td>0.00</td>\n",
       "    </tr>\n",
       "  </tbody>\n",
       "</table>\n",
       "</div>"
      ],
      "text/plain": [
       "G    278.12\n",
       "X      0.00\n",
       "dtype: float64"
      ]
     },
     "execution_count": 16,
     "metadata": {},
     "output_type": "execute_result"
    }
   ],
   "source": [
    "update_func(init, 0, system)"
   ]
  },
  {
   "cell_type": "code",
   "execution_count": 17,
   "metadata": {
    "collapsed": true
   },
   "outputs": [],
   "source": [
    "def run_simulation(system, update_func):\n",
    "    \"\"\"Runs a simulation of the system.\n",
    "    \n",
    "    Add a DataFrame to the System: results\n",
    "    \n",
    "    system: System object\n",
    "    update_func: function that updates state\n",
    "    \"\"\"\n",
    "    unpack(system)\n",
    "    \n",
    "    df = TimeFrame(columns=system.init.index)\n",
    "    df.loc[t0] = system.init\n",
    "    \n",
    "    for t in arange(t0, t_end, dt):\n",
    "        df.loc[t+dt] = update_func(df.loc[t], t, system)\n",
    "    \n",
    "    system.results = df"
   ]
  },
  {
   "cell_type": "code",
   "execution_count": 18,
   "metadata": {},
   "outputs": [],
   "source": [
    "run_simulation(system, update_func)"
   ]
  },
  {
   "cell_type": "code",
   "execution_count": 19,
   "metadata": {},
   "outputs": [
    {
     "data": {
      "text/html": [
       "<div>\n",
       "<style>\n",
       "    .dataframe thead tr:only-child th {\n",
       "        text-align: right;\n",
       "    }\n",
       "\n",
       "    .dataframe thead th {\n",
       "        text-align: left;\n",
       "    }\n",
       "\n",
       "    .dataframe tbody tr th {\n",
       "        vertical-align: top;\n",
       "    }\n",
       "</style>\n",
       "<table border=\"1\" class=\"dataframe\">\n",
       "  <thead>\n",
       "    <tr style=\"text-align: right;\">\n",
       "      <th></th>\n",
       "      <th>G</th>\n",
       "      <th>X</th>\n",
       "    </tr>\n",
       "  </thead>\n",
       "  <tbody>\n",
       "    <tr>\n",
       "      <th>0</th>\n",
       "      <td>290</td>\n",
       "      <td>0</td>\n",
       "    </tr>\n",
       "    <tr>\n",
       "      <th>2</th>\n",
       "      <td>278.12</td>\n",
       "      <td>0</td>\n",
       "    </tr>\n",
       "    <tr>\n",
       "      <th>4</th>\n",
       "      <td>266.953</td>\n",
       "      <td>0.0003</td>\n",
       "    </tr>\n",
       "    <tr>\n",
       "      <th>6</th>\n",
       "      <td>256.295</td>\n",
       "      <td>0.002668</td>\n",
       "    </tr>\n",
       "    <tr>\n",
       "      <th>8</th>\n",
       "      <td>245.07</td>\n",
       "      <td>0.00404128</td>\n",
       "    </tr>\n",
       "    <tr>\n",
       "      <th>10</th>\n",
       "      <td>233.905</td>\n",
       "      <td>0.00467963</td>\n",
       "    </tr>\n",
       "    <tr>\n",
       "      <th>12</th>\n",
       "      <td>223.202</td>\n",
       "      <td>0.00525244</td>\n",
       "    </tr>\n",
       "    <tr>\n",
       "      <th>14</th>\n",
       "      <td>212.985</td>\n",
       "      <td>0.00572235</td>\n",
       "    </tr>\n",
       "    <tr>\n",
       "      <th>16</th>\n",
       "      <td>203.288</td>\n",
       "      <td>0.00609345</td>\n",
       "    </tr>\n",
       "    <tr>\n",
       "      <th>18</th>\n",
       "      <td>194.133</td>\n",
       "      <td>0.00632971</td>\n",
       "    </tr>\n",
       "    <tr>\n",
       "      <th>20</th>\n",
       "      <td>185.548</td>\n",
       "      <td>0.00648986</td>\n",
       "    </tr>\n",
       "    <tr>\n",
       "      <th>22</th>\n",
       "      <td>177.527</td>\n",
       "      <td>0.00661026</td>\n",
       "    </tr>\n",
       "    <tr>\n",
       "      <th>24</th>\n",
       "      <td>170.048</td>\n",
       "      <td>0.00672585</td>\n",
       "    </tr>\n",
       "    <tr>\n",
       "      <th>26</th>\n",
       "      <td>163.078</td>\n",
       "      <td>0.00681282</td>\n",
       "    </tr>\n",
       "    <tr>\n",
       "      <th>28</th>\n",
       "      <td>156.591</td>\n",
       "      <td>0.00687231</td>\n",
       "    </tr>\n",
       "    <tr>\n",
       "      <th>30</th>\n",
       "      <td>150.563</td>\n",
       "      <td>0.00692941</td>\n",
       "    </tr>\n",
       "    <tr>\n",
       "      <th>32</th>\n",
       "      <td>144.963</td>\n",
       "      <td>0.00700824</td>\n",
       "    </tr>\n",
       "    <tr>\n",
       "      <th>34</th>\n",
       "      <td>139.753</td>\n",
       "      <td>0.00710791</td>\n",
       "    </tr>\n",
       "    <tr>\n",
       "      <th>36</th>\n",
       "      <td>134.901</td>\n",
       "      <td>0.00717159</td>\n",
       "    </tr>\n",
       "    <tr>\n",
       "      <th>38</th>\n",
       "      <td>130.392</td>\n",
       "      <td>0.00720073</td>\n",
       "    </tr>\n",
       "    <tr>\n",
       "      <th>40</th>\n",
       "      <td>126.211</td>\n",
       "      <td>0.0071967</td>\n",
       "    </tr>\n",
       "    <tr>\n",
       "      <th>42</th>\n",
       "      <td>122.342</td>\n",
       "      <td>0.00716083</td>\n",
       "    </tr>\n",
       "    <tr>\n",
       "      <th>44</th>\n",
       "      <td>118.769</td>\n",
       "      <td>0.0070944</td>\n",
       "    </tr>\n",
       "    <tr>\n",
       "      <th>46</th>\n",
       "      <td>115.478</td>\n",
       "      <td>0.00700262</td>\n",
       "    </tr>\n",
       "    <tr>\n",
       "      <th>48</th>\n",
       "      <td>112.452</td>\n",
       "      <td>0.00688652</td>\n",
       "    </tr>\n",
       "    <tr>\n",
       "      <th>50</th>\n",
       "      <td>109.676</td>\n",
       "      <td>0.00674706</td>\n",
       "    </tr>\n",
       "    <tr>\n",
       "      <th>52</th>\n",
       "      <td>107.135</td>\n",
       "      <td>0.00658517</td>\n",
       "    </tr>\n",
       "    <tr>\n",
       "      <th>54</th>\n",
       "      <td>104.816</td>\n",
       "      <td>0.00640177</td>\n",
       "    </tr>\n",
       "    <tr>\n",
       "      <th>56</th>\n",
       "      <td>102.705</td>\n",
       "      <td>0.0062257</td>\n",
       "    </tr>\n",
       "    <tr>\n",
       "      <th>58</th>\n",
       "      <td>100.784</td>\n",
       "      <td>0.00605667</td>\n",
       "    </tr>\n",
       "    <tr>\n",
       "      <th>...</th>\n",
       "      <td>...</td>\n",
       "      <td>...</td>\n",
       "    </tr>\n",
       "    <tr>\n",
       "      <th>124</th>\n",
       "      <td>86.3907</td>\n",
       "      <td>0.00109474</td>\n",
       "    </tr>\n",
       "    <tr>\n",
       "      <th>126</th>\n",
       "      <td>86.5381</td>\n",
       "      <td>0.000972951</td>\n",
       "    </tr>\n",
       "    <tr>\n",
       "      <th>128</th>\n",
       "      <td>86.6974</td>\n",
       "      <td>0.000858033</td>\n",
       "    </tr>\n",
       "    <tr>\n",
       "      <th>130</th>\n",
       "      <td>86.8668</td>\n",
       "      <td>0.000749712</td>\n",
       "    </tr>\n",
       "    <tr>\n",
       "      <th>132</th>\n",
       "      <td>87.0445</td>\n",
       "      <td>0.000647723</td>\n",
       "    </tr>\n",
       "    <tr>\n",
       "      <th>134</th>\n",
       "      <td>87.2291</td>\n",
       "      <td>0.000551815</td>\n",
       "    </tr>\n",
       "    <tr>\n",
       "      <th>136</th>\n",
       "      <td>87.4191</td>\n",
       "      <td>0.000461742</td>\n",
       "    </tr>\n",
       "    <tr>\n",
       "      <th>138</th>\n",
       "      <td>87.6132</td>\n",
       "      <td>0.000377272</td>\n",
       "    </tr>\n",
       "    <tr>\n",
       "      <th>140</th>\n",
       "      <td>87.8103</td>\n",
       "      <td>0.000298181</td>\n",
       "    </tr>\n",
       "    <tr>\n",
       "      <th>142</th>\n",
       "      <td>88.0093</td>\n",
       "      <td>0.000224254</td>\n",
       "    </tr>\n",
       "    <tr>\n",
       "      <th>144</th>\n",
       "      <td>88.2093</td>\n",
       "      <td>0.000155284</td>\n",
       "    </tr>\n",
       "    <tr>\n",
       "      <th>146</th>\n",
       "      <td>88.4093</td>\n",
       "      <td>8.90726e-05</td>\n",
       "    </tr>\n",
       "    <tr>\n",
       "      <th>148</th>\n",
       "      <td>88.609</td>\n",
       "      <td>2.55097e-05</td>\n",
       "    </tr>\n",
       "    <tr>\n",
       "      <th>150</th>\n",
       "      <td>88.808</td>\n",
       "      <td>-3.55107e-05</td>\n",
       "    </tr>\n",
       "    <tr>\n",
       "      <th>152</th>\n",
       "      <td>89.0058</td>\n",
       "      <td>-9.40903e-05</td>\n",
       "    </tr>\n",
       "    <tr>\n",
       "      <th>154</th>\n",
       "      <td>89.2022</td>\n",
       "      <td>-0.000150327</td>\n",
       "    </tr>\n",
       "    <tr>\n",
       "      <th>156</th>\n",
       "      <td>89.3969</td>\n",
       "      <td>-0.000204314</td>\n",
       "    </tr>\n",
       "    <tr>\n",
       "      <th>158</th>\n",
       "      <td>89.5896</td>\n",
       "      <td>-0.000256141</td>\n",
       "    </tr>\n",
       "    <tr>\n",
       "      <th>160</th>\n",
       "      <td>89.7801</td>\n",
       "      <td>-0.000305895</td>\n",
       "    </tr>\n",
       "    <tr>\n",
       "      <th>162</th>\n",
       "      <td>89.9682</td>\n",
       "      <td>-0.00035366</td>\n",
       "    </tr>\n",
       "    <tr>\n",
       "      <th>164</th>\n",
       "      <td>90.1538</td>\n",
       "      <td>-0.000399513</td>\n",
       "    </tr>\n",
       "    <tr>\n",
       "      <th>166</th>\n",
       "      <td>90.3366</td>\n",
       "      <td>-0.000445533</td>\n",
       "    </tr>\n",
       "    <tr>\n",
       "      <th>168</th>\n",
       "      <td>90.5169</td>\n",
       "      <td>-0.000491711</td>\n",
       "    </tr>\n",
       "    <tr>\n",
       "      <th>170</th>\n",
       "      <td>90.6949</td>\n",
       "      <td>-0.000538043</td>\n",
       "    </tr>\n",
       "    <tr>\n",
       "      <th>172</th>\n",
       "      <td>90.8708</td>\n",
       "      <td>-0.000584521</td>\n",
       "    </tr>\n",
       "    <tr>\n",
       "      <th>174</th>\n",
       "      <td>91.0448</td>\n",
       "      <td>-0.00063114</td>\n",
       "    </tr>\n",
       "    <tr>\n",
       "      <th>176</th>\n",
       "      <td>91.217</td>\n",
       "      <td>-0.000677895</td>\n",
       "    </tr>\n",
       "    <tr>\n",
       "      <th>178</th>\n",
       "      <td>91.3877</td>\n",
       "      <td>-0.000724779</td>\n",
       "    </tr>\n",
       "    <tr>\n",
       "      <th>180</th>\n",
       "      <td>91.5569</td>\n",
       "      <td>-0.000771788</td>\n",
       "    </tr>\n",
       "    <tr>\n",
       "      <th>182</th>\n",
       "      <td>91.7248</td>\n",
       "      <td>-0.000818916</td>\n",
       "    </tr>\n",
       "  </tbody>\n",
       "</table>\n",
       "<p>92 rows × 2 columns</p>\n",
       "</div>"
      ],
      "text/plain": [
       "           G            X\n",
       "0        290            0\n",
       "2     278.12            0\n",
       "4    266.953       0.0003\n",
       "6    256.295     0.002668\n",
       "8     245.07   0.00404128\n",
       "10   233.905   0.00467963\n",
       "12   223.202   0.00525244\n",
       "14   212.985   0.00572235\n",
       "16   203.288   0.00609345\n",
       "18   194.133   0.00632971\n",
       "20   185.548   0.00648986\n",
       "22   177.527   0.00661026\n",
       "24   170.048   0.00672585\n",
       "26   163.078   0.00681282\n",
       "28   156.591   0.00687231\n",
       "30   150.563   0.00692941\n",
       "32   144.963   0.00700824\n",
       "34   139.753   0.00710791\n",
       "36   134.901   0.00717159\n",
       "38   130.392   0.00720073\n",
       "40   126.211    0.0071967\n",
       "42   122.342   0.00716083\n",
       "44   118.769    0.0070944\n",
       "46   115.478   0.00700262\n",
       "48   112.452   0.00688652\n",
       "50   109.676   0.00674706\n",
       "52   107.135   0.00658517\n",
       "54   104.816   0.00640177\n",
       "56   102.705    0.0062257\n",
       "58   100.784   0.00605667\n",
       "..       ...          ...\n",
       "124  86.3907   0.00109474\n",
       "126  86.5381  0.000972951\n",
       "128  86.6974  0.000858033\n",
       "130  86.8668  0.000749712\n",
       "132  87.0445  0.000647723\n",
       "134  87.2291  0.000551815\n",
       "136  87.4191  0.000461742\n",
       "138  87.6132  0.000377272\n",
       "140  87.8103  0.000298181\n",
       "142  88.0093  0.000224254\n",
       "144  88.2093  0.000155284\n",
       "146  88.4093  8.90726e-05\n",
       "148   88.609  2.55097e-05\n",
       "150   88.808 -3.55107e-05\n",
       "152  89.0058 -9.40903e-05\n",
       "154  89.2022 -0.000150327\n",
       "156  89.3969 -0.000204314\n",
       "158  89.5896 -0.000256141\n",
       "160  89.7801 -0.000305895\n",
       "162  89.9682  -0.00035366\n",
       "164  90.1538 -0.000399513\n",
       "166  90.3366 -0.000445533\n",
       "168  90.5169 -0.000491711\n",
       "170  90.6949 -0.000538043\n",
       "172  90.8708 -0.000584521\n",
       "174  91.0448  -0.00063114\n",
       "176   91.217 -0.000677895\n",
       "178  91.3877 -0.000724779\n",
       "180  91.5569 -0.000771788\n",
       "182  91.7248 -0.000818916\n",
       "\n",
       "[92 rows x 2 columns]"
      ]
     },
     "execution_count": 19,
     "metadata": {},
     "output_type": "execute_result"
    }
   ],
   "source": [
    "system.results"
   ]
  },
  {
   "cell_type": "code",
   "execution_count": 20,
   "metadata": {},
   "outputs": [
    {
     "data": {
      "image/png": "[encoded data removed]",
      "text/plain": [
       "<matplotlib.figure.Figure at 0x7ff489d975f8>"
      ]
     },
     "metadata": {},
     "output_type": "display_data"
    }
   ],
   "source": [
    "plot(system.results.G)\n",
    "plot(df.glucose, style='o')"
   ]
  },
  {
   "cell_type": "code",
   "execution_count": 21,
   "metadata": {
    "collapsed": true
   },
   "outputs": [],
   "source": [
    "def slope_func(state, t, system):\n",
    "    G, X = state\n",
    "    unpack(system)\n",
    "    \n",
    "    dGdt = -k1 * (G - Gb) - X*G\n",
    "    dXdt = k3 * (I(t) - Ib) - k2 * X\n",
    "    \n",
    "    return dGdt, dXdt"
   ]
  },
  {
   "cell_type": "code",
   "execution_count": 22,
   "metadata": {},
   "outputs": [
    {
     "data": {
      "text/plain": [
       "(-5.9399999999999995, 0.0)"
      ]
     },
     "execution_count": 22,
     "metadata": {},
     "output_type": "execute_result"
    }
   ],
   "source": [
    "slope_func(init, 0, system)"
   ]
  },
  {
   "cell_type": "code",
   "execution_count": 29,
   "metadata": {
    "collapsed": true
   },
   "outputs": [],
   "source": [
    "from scipy.integrate import odeint\n",
    "\n",
    "def run_odeint(system, slope_func):\n",
    "    \"\"\"Runs a simulation of the system.\n",
    "    \n",
    "    Adds a DataFrame to the System: results\n",
    "    \n",
    "    system: System object\n",
    "    slope_func: function that computes slopes\n",
    "    \"\"\"\n",
    "    slope_func(init, 0, system)\n",
    "\n",
    "    unpack(system)\n",
    "    args = (system,)\n",
    "    array = odeint(slope_func, init, ts, args)\n",
    "\n",
    "    system.results = TimeFrame(array, columns=init.index, index=ts)"
   ]
  },
  {
   "cell_type": "code",
   "execution_count": 30,
   "metadata": {
    "collapsed": true
   },
   "outputs": [],
   "source": [
    "system = System(init=init, \n",
    "                k1=k1, k2=k2, k3=k3,\n",
    "                I=I, Gb=Gb, Ib=Ib,\n",
    "                ts=df.index)"
   ]
  },
  {
   "cell_type": "code",
   "execution_count": 31,
   "metadata": {},
   "outputs": [],
   "source": [
    "run_odeint(system, slope_func)"
   ]
  },
  {
   "cell_type": "code",
   "execution_count": 32,
   "metadata": {},
   "outputs": [
    {
     "data": {
      "image/png": "[encoded data removed]",
      "text/plain": [
       "<matplotlib.figure.Figure at 0x7ff489cf8fd0>"
      ]
     },
     "metadata": {},
     "output_type": "display_data"
    }
   ],
   "source": [
    "plot(results.G)\n",
    "plot(df.glucose, style='o')"
   ]
  },
  {
   "cell_type": "code",
   "execution_count": 33,
   "metadata": {
    "collapsed": true
   },
   "outputs": [],
   "source": [
    "def mse(actual, model):\n",
    "    return np.sum((model-actual)**2)"
   ]
  },
  {
   "cell_type": "code",
   "execution_count": 36,
   "metadata": {},
   "outputs": [
    {
     "data": {
      "text/plain": [
       "45851.05978514188"
      ]
     },
     "execution_count": 36,
     "metadata": {},
     "output_type": "execute_result"
    }
   ],
   "source": [
    "mse(df.glucose, results.G)"
   ]
  },
  {
   "cell_type": "code",
   "execution_count": 187,
   "metadata": {
    "collapsed": true
   },
   "outputs": [],
   "source": [
    "from scipy.optimize import leastsq"
   ]
  },
  {
   "cell_type": "code",
   "execution_count": 188,
   "metadata": {
    "collapsed": true
   },
   "outputs": [],
   "source": [
    "def func(x, a, b, c):\n",
    "    return a * np.exp(-b * x) + c"
   ]
  },
  {
   "cell_type": "code",
   "execution_count": 189,
   "metadata": {},
   "outputs": [
    {
     "data": {
      "text/plain": [
       "[<matplotlib.lines.Line2D at 0x7ff488b9e160>]"
      ]
     },
     "execution_count": 189,
     "metadata": {},
     "output_type": "execute_result"
    },
    {
     "data": {
      "image/png": "[encoded data removed]",
      "text/plain": [
       "<matplotlib.figure.Figure at 0x7ff488ca42e8>"
      ]
     },
     "metadata": {},
     "output_type": "display_data"
    }
   ],
   "source": [
    "xdata = np.linspace(0, 4, 50)\n",
    "y = func(xdata, 2.5, 1.3, 0.5)\n",
    "y_noise = 0.2 * np.random.normal(size=xdata.size)\n",
    "ydata = y + y_noise\n",
    "plt.plot(xdata, ydata, 'b-', label='data')"
   ]
  },
  {
   "cell_type": "code",
   "execution_count": 197,
   "metadata": {
    "collapsed": true
   },
   "outputs": [],
   "source": [
    "def err_func(params, actual):\n",
    "    model = func(xdata, *params)\n",
    "    error = model - actual\n",
    "    return error"
   ]
  },
  {
   "cell_type": "code",
   "execution_count": 199,
   "metadata": {},
   "outputs": [
    {
     "data": {
      "text/plain": [
       "array([ 0.20738271,  0.53001981, -0.12580895,  0.06346546,  0.27113618,\n",
       "       -0.07738551, -0.01409466, -0.01572045, -0.13220286, -0.04518703,\n",
       "       -0.11313563,  0.44478373, -0.14961879, -0.16554211,  0.24139526,\n",
       "       -0.06312296, -0.22607759, -0.09515607, -0.22645387,  0.15382097,\n",
       "        0.1215287 ,  0.16447193,  0.45656816, -0.00934507,  0.03129905,\n",
       "        0.49516227, -0.13205804, -0.12991115, -0.20516745,  0.05008735,\n",
       "        0.03289083,  0.16556757, -0.3174546 ,  0.17038844,  0.07497498,\n",
       "        0.22744894, -0.22694747,  0.26395029, -0.1855107 , -0.14819786,\n",
       "        0.01854289,  0.35665628,  0.38056876, -0.0287616 , -0.25734934,\n",
       "       -0.05153906,  0.17103272, -0.27845741,  0.08316578,  0.08342417])"
      ]
     },
     "execution_count": 199,
     "metadata": {},
     "output_type": "execute_result"
    }
   ],
   "source": [
    "x0 = 2.5, 1.3, 0.5\n",
    "err_func(x0, ydata)"
   ]
  },
  {
   "cell_type": "code",
   "execution_count": 200,
   "metadata": {},
   "outputs": [
    {
     "data": {
      "text/plain": [
       "array([ 2.34024457,  1.14913816,  0.43942598])"
      ]
     },
     "execution_count": 200,
     "metadata": {},
     "output_type": "execute_result"
    }
   ],
   "source": [
    "args = (ydata,)\n",
    "popt, ier = leastsq(err_func, x0=x0, args=args)\n",
    "popt"
   ]
  },
  {
   "cell_type": "code",
   "execution_count": 201,
   "metadata": {},
   "outputs": [
    {
     "data": {
      "text/plain": [
       "[<matplotlib.lines.Line2D at 0x7ff488c8be80>]"
      ]
     },
     "execution_count": 201,
     "metadata": {},
     "output_type": "execute_result"
    },
    {
     "data": {
      "image/png": "[encoded data removed]",
      "text/plain": [
       "<matplotlib.figure.Figure at 0x7ff488c8bf98>"
      ]
     },
     "metadata": {},
     "output_type": "display_data"
    }
   ],
   "source": [
    "plt.plot(xdata, func(xdata, *popt), 'r-', label='fit')\n",
    "plt.plot(xdata, ydata, 'b-', label='data')"
   ]
  },
  {
   "cell_type": "code",
   "execution_count": 41,
   "metadata": {},
   "outputs": [
    {
     "data": {
      "text/plain": [
       "array([ 2.50162835,  1.33195541,  0.55934538])"
      ]
     },
     "execution_count": 41,
     "metadata": {},
     "output_type": "execute_result"
    }
   ],
   "source": [
    "popt"
   ]
  },
  {
   "cell_type": "code",
   "execution_count": 133,
   "metadata": {
    "collapsed": true
   },
   "outputs": [],
   "source": [
    "k1 = 0.03\n",
    "k2 = 0.02\n",
    "k3 = 1e-05\n",
    "G0 = 290"
   ]
  },
  {
   "cell_type": "code",
   "execution_count": 134,
   "metadata": {
    "collapsed": true
   },
   "outputs": [],
   "source": [
    "def make_system(G0, k1, k2, k3):\n",
    "    init = State(G=G0, X=0)\n",
    "    system = System(init=init, \n",
    "                    k1=k1, k2=k2, k3=k3,\n",
    "                    Gb=Gb, Ib=Ib, I=I,\n",
    "                    ts=df.index)\n",
    "    return system"
   ]
  },
  {
   "cell_type": "code",
   "execution_count": 135,
   "metadata": {
    "collapsed": true
   },
   "outputs": [],
   "source": [
    "def min_func(ts, G0, k1, k2, k3):\n",
    "    print(G0, k1, k2, k3)\n",
    "    system = make_system(G0, k1, k2, k3)\n",
    "    run_odeint(system, slope_func)\n",
    "    return system.results.G"
   ]
  },
  {
   "cell_type": "code",
   "execution_count": 136,
   "metadata": {},
   "outputs": [
    {
     "name": "stdout",
     "output_type": "stream",
     "text": [
      "290 0.03 0.02 1e-05\n"
     ]
    },
    {
     "data": {
      "text/plain": [
       "time\n",
       "0      290.000000\n",
       "2      278.441946\n",
       "4      267.246339\n",
       "6      255.791154\n",
       "8      244.385049\n",
       "10     233.385689\n",
       "12     222.875391\n",
       "14     212.883104\n",
       "16     203.432604\n",
       "19     190.311106\n",
       "22     178.430723\n",
       "27     161.141293\n",
       "32     146.627308\n",
       "42     124.272257\n",
       "52     109.125928\n",
       "62      99.310554\n",
       "72      93.102455\n",
       "82      89.434359\n",
       "92      87.498085\n",
       "102     86.712650\n",
       "122     86.844866\n",
       "142     88.356758\n",
       "162     90.136930\n",
       "182     91.795663\n",
       "Name: G, dtype: float64"
      ]
     },
     "execution_count": 136,
     "metadata": {},
     "output_type": "execute_result"
    }
   ],
   "source": [
    "series = min_func(ts, G0, k1, k2, k3)\n",
    "series"
   ]
  },
  {
   "cell_type": "code",
   "execution_count": 137,
   "metadata": {},
   "outputs": [
    {
     "data": {
      "text/plain": [
       "[290, 0.03, 0.02, 1e-05]"
      ]
     },
     "execution_count": 137,
     "metadata": {},
     "output_type": "execute_result"
    }
   ],
   "source": [
    "params = [G0, k1, k2, k3]\n",
    "params"
   ]
  },
  {
   "cell_type": "code",
   "execution_count": 138,
   "metadata": {},
   "outputs": [
    {
     "name": "stdout",
     "output_type": "stream",
     "text": [
      "290.0 0.03 0.02 1e-05\n",
      "290.0 0.03 0.02 1e-05\n",
      "290.0 0.03 0.02 1e-05\n",
      "290.000004321 0.03 0.02 1e-05\n",
      "290.0 0.030000000447 0.02 1e-05\n",
      "290.0 0.03 0.020000000298 1e-05\n",
      "290.0 0.03 0.02 1.0000000149e-05\n",
      "262.493673893 0.0201273809935 0.00245144666008 1.92369456889e-05\n",
      "268.162650851 0.0274362051555 0.0133003595107 1.34043117011e-05\n",
      "268.162654847 0.0274362051555 0.0133003595107 1.34043117011e-05\n",
      "268.162650851 0.0274362055643 0.0133003595107 1.34043117011e-05\n",
      "268.162650851 0.0274362051555 0.0133003597089 1.34043117011e-05\n",
      "268.162650851 0.0274362051555 0.0133003595107 1.34043119009e-05\n",
      "268.130426905 0.0267895723351 0.0133400852219 1.32669040366e-05\n",
      "268.130430901 0.0267895723351 0.0133400852219 1.32669040366e-05\n",
      "268.130426905 0.0267895727343 0.0133400852219 1.32669040366e-05\n",
      "268.130426905 0.0267895723351 0.0133400854206 1.32669040366e-05\n",
      "268.130426905 0.0267895723351 0.0133400852219 1.32669042343e-05\n",
      "268.106028185 0.0267883857165 0.0133425246125 1.32677630015e-05\n",
      "268.10603218 0.0267883857165 0.0133425246125 1.32677630015e-05\n",
      "268.106028185 0.0267883861156 0.0133425246125 1.32677630015e-05\n",
      "268.106028185 0.0267883857165 0.0133425248114 1.32677630015e-05\n",
      "268.106028185 0.0267883857165 0.0133425246125 1.32677631992e-05\n",
      "268.041048462 0.0267750698129 0.0133457780665 1.32557120761e-05\n",
      "268.041052456 0.0267750698129 0.0133457780665 1.32557120761e-05\n",
      "268.041048462 0.0267750702119 0.0133457780665 1.32557120761e-05\n",
      "268.041048462 0.0267750698129 0.0133457782653 1.32557120761e-05\n",
      "268.041048462 0.0267750698129 0.0133457780665 1.32557122737e-05\n",
      "268.121216859 0.0267401553827 0.0133518009186 1.32595427494e-05\n",
      "268.121220855 0.0267401553827 0.0133518009186 1.32595427494e-05\n",
      "268.121216859 0.0267401557812 0.0133518009186 1.32595427494e-05\n",
      "268.121216859 0.0267401553827 0.0133518011176 1.32595427494e-05\n",
      "268.121216859 0.0267401553827 0.0133518009186 1.3259542947e-05\n",
      "268.098642274 0.0267349642437 0.0133494450062 1.32402827256e-05\n",
      "268.098646269 0.0267349642437 0.0133494450062 1.32402827256e-05\n",
      "268.098642274 0.0267349646421 0.0133494450062 1.32402827256e-05\n",
      "268.098642274 0.0267349642437 0.0133494452051 1.32402827256e-05\n",
      "268.098642274 0.0267349642437 0.0133494450062 1.32402829229e-05\n",
      "267.981164967 0.0267464081149 0.0133479731279 1.32382982802e-05\n",
      "267.98116896 0.0267464081149 0.0133479731279 1.32382982802e-05\n",
      "267.981164967 0.0267464085135 0.0133479731279 1.32382982802e-05\n",
      "267.981164967 0.0267464081149 0.0133479733268 1.32382982802e-05\n",
      "267.981164967 0.0267464081149 0.0133479731279 1.32382984775e-05\n",
      "267.941002764 0.0267405064552 0.0133494211944 1.32333367862e-05\n",
      "267.941006756 0.0267405064552 0.0133494211944 1.32333367862e-05\n",
      "267.941002764 0.0267405068537 0.0133494211944 1.32333367862e-05\n",
      "267.941002764 0.0267405064552 0.0133494213934 1.32333367862e-05\n",
      "267.941002764 0.0267405064552 0.0133494211944 1.32333369834e-05\n",
      "267.82150841 0.0267309385434 0.0133515814397 1.3226829295e-05\n",
      "267.821512401 0.0267309385434 0.0133515814397 1.3226829295e-05\n",
      "267.82150841 0.0267309389417 0.0133515814397 1.3226829295e-05\n",
      "267.82150841 0.0267309385434 0.0133515816386 1.3226829295e-05\n",
      "267.82150841 0.0267309385434 0.0133515814397 1.32268294921e-05\n",
      "267.87667419 0.0267386568369 0.0133541272092 1.32100666943e-05\n",
      "267.868600739 0.0267361279688 0.0133523040954 1.32213157032e-05\n",
      "267.847465044 0.0267336336023 0.0133514712089 1.32262515104e-05\n",
      "267.831537766 0.0267319763388 0.0133514986965 1.32267845017e-05\n",
      "267.825531978 0.026731354725 0.0133515447195 1.32268267544e-05\n",
      "267.823195643 0.0267311130467 0.0133515655561 1.32268303466e-05\n",
      "267.822200161 0.0267310100857 0.013351574848 1.32268300729e-05\n",
      "267.821784049 0.0267309670502 0.0133515788002 1.32268296612e-05\n",
      "267.821617057 0.0267309497798 0.0133515803973 1.32268294482e-05\n",
      "267.821549951 0.0267309428396 0.0133515810408 1.32268293549e-05\n",
      "267.821525739 0.0267309403356 0.0133515812732 1.32268293202e-05\n",
      "267.821516321 0.0267309393616 0.0133515813637 1.32268293066e-05\n"
     ]
    }
   ],
   "source": [
    "popt, pcov = curve_fit(min_func, df.glucose.index, df.glucose.values, p0=params)"
   ]
  },
  {
   "cell_type": "code",
   "execution_count": 139,
   "metadata": {},
   "outputs": [
    {
     "data": {
      "text/plain": [
       "array([  2.67821508e+02,   2.67309385e-02,   1.33515814e-02,\n",
       "         1.32268293e-05])"
      ]
     },
     "execution_count": 139,
     "metadata": {},
     "output_type": "execute_result"
    }
   ],
   "source": [
    "popt"
   ]
  },
  {
   "cell_type": "code",
   "execution_count": 151,
   "metadata": {},
   "outputs": [],
   "source": [
    "def indices(G0, k1, k2, k3):\n",
    "    return State(S_G=k1, S_I=k3/k2)"
   ]
  },
  {
   "cell_type": "code",
   "execution_count": 152,
   "metadata": {},
   "outputs": [
    {
     "data": {
      "text/html": [
       "<div>\n",
       "<style>\n",
       "    .dataframe thead tr:only-child th {\n",
       "        text-align: right;\n",
       "    }\n",
       "\n",
       "    .dataframe thead th {\n",
       "        text-align: left;\n",
       "    }\n",
       "\n",
       "    .dataframe tbody tr th {\n",
       "        vertical-align: top;\n",
       "    }\n",
       "</style>\n",
       "<table border=\"1\" class=\"dataframe\">\n",
       "  <thead>\n",
       "    <tr style=\"text-align: right;\">\n",
       "      <th></th>\n",
       "      <th>value</th>\n",
       "    </tr>\n",
       "  </thead>\n",
       "  <tbody>\n",
       "    <tr>\n",
       "      <th>S_G</th>\n",
       "      <td>0.026731</td>\n",
       "    </tr>\n",
       "    <tr>\n",
       "      <th>S_I</th>\n",
       "      <td>0.000991</td>\n",
       "    </tr>\n",
       "  </tbody>\n",
       "</table>\n",
       "</div>"
      ],
      "text/plain": [
       "S_G    0.026731\n",
       "S_I    0.000991\n",
       "dtype: float64"
      ]
     },
     "execution_count": 152,
     "metadata": {},
     "output_type": "execute_result"
    }
   ],
   "source": [
    "indices(*popt)"
   ]
  },
  {
   "cell_type": "code",
   "execution_count": 154,
   "metadata": {
    "collapsed": true
   },
   "outputs": [],
   "source": [
    "system = make_system(*popt)\n",
    "run_odeint(system, slope_func)"
   ]
  },
  {
   "cell_type": "code",
   "execution_count": 155,
   "metadata": {},
   "outputs": [
    {
     "data": {
      "image/png": "[encoded data removed]",
      "text/plain": [
       "<matplotlib.figure.Figure at 0x7ff488efab38>"
      ]
     },
     "metadata": {},
     "output_type": "display_data"
    }
   ],
   "source": [
    "plot(system.results.G)\n",
    "plot(df.glucose, style='bo')"
   ]
  },
  {
   "cell_type": "code",
   "execution_count": 184,
   "metadata": {
    "collapsed": true
   },
   "outputs": [],
   "source": [
    "def min_func(x, actual):\n",
    "    print(x)\n",
    "    system = make_system(*x)\n",
    "    run_odeint(system, slope_func)\n",
    "    error = system.results.G - actual\n",
    "    #error /= actual\n",
    "    return error[4:]"
   ]
  },
  {
   "cell_type": "code",
   "execution_count": 185,
   "metadata": {},
   "outputs": [
    {
     "name": "stdout",
     "output_type": "stream",
     "text": [
      "[290, 0.03, 0.02, 1e-05]\n"
     ]
    },
    {
     "data": {
      "text/plain": [
       "time\n",
       "8       4.385049\n",
       "10     17.385689\n",
       "12     11.875391\n",
       "14      7.883104\n",
       "16      7.432604\n",
       "19     -1.688894\n",
       "22      6.430723\n",
       "27     -1.858707\n",
       "32      4.627308\n",
       "42      0.272257\n",
       "52      4.125928\n",
       "62      7.310554\n",
       "72      9.102455\n",
       "82     12.434359\n",
       "92      5.498085\n",
       "102     5.712650\n",
       "122     4.844866\n",
       "142     6.356758\n",
       "162     5.136930\n",
       "182     1.795663\n",
       "dtype: float64"
      ]
     },
     "execution_count": 185,
     "metadata": {},
     "output_type": "execute_result"
    }
   ],
   "source": [
    "min_func(params, df.glucose)"
   ]
  },
  {
   "cell_type": "code",
   "execution_count": 180,
   "metadata": {
    "collapsed": true
   },
   "outputs": [],
   "source": [
    "from scipy.optimize import leastsq"
   ]
  },
  {
   "cell_type": "code",
   "execution_count": 186,
   "metadata": {},
   "outputs": [
    {
     "name": "stdout",
     "output_type": "stream",
     "text": [
      "[  2.90000000e+02   3.00000000e-02   2.00000000e-02   1.00000000e-05]\n",
      "[  2.90000000e+02   3.00000000e-02   2.00000000e-02   1.00000000e-05]\n",
      "[  2.90000000e+02   3.00000000e-02   2.00000000e-02   1.00000000e-05]\n",
      "[  2.90000004e+02   3.00000000e-02   2.00000000e-02   1.00000000e-05]\n",
      "[  2.90000000e+02   3.00000004e-02   2.00000000e-02   1.00000000e-05]\n",
      "[  2.90000000e+02   3.00000000e-02   2.00000003e-02   1.00000000e-05]\n",
      "[  2.90000000e+02   3.00000000e-02   2.00000000e-02   1.00000001e-05]\n",
      "[  2.78224727e+02   2.85801825e-02   1.61589429e-02   1.19289840e-05]\n",
      "[  2.78224731e+02   2.85801825e-02   1.61589429e-02   1.19289840e-05]\n",
      "[  2.78224727e+02   2.85801829e-02   1.61589429e-02   1.19289840e-05]\n",
      "[  2.78224727e+02   2.85801825e-02   1.61589432e-02   1.19289840e-05]\n",
      "[  2.78224727e+02   2.85801825e-02   1.61589429e-02   1.19289842e-05]\n",
      "[  2.71951893e+02   2.68943464e-02   1.28042303e-02   1.03928810e-05]\n",
      "[  2.71951897e+02   2.68943464e-02   1.28042303e-02   1.03928810e-05]\n",
      "[  2.71951893e+02   2.68943468e-02   1.28042303e-02   1.03928810e-05]\n",
      "[  2.71951893e+02   2.68943464e-02   1.28042305e-02   1.03928810e-05]\n",
      "[  2.71951893e+02   2.68943464e-02   1.28042303e-02   1.03928811e-05]\n",
      "[  2.71443394e+02   2.69030677e-02   1.26482637e-02   1.04193915e-05]\n",
      "[  2.71443398e+02   2.69030677e-02   1.26482637e-02   1.04193915e-05]\n",
      "[  2.71443394e+02   2.69030681e-02   1.26482637e-02   1.04193915e-05]\n",
      "[  2.71443394e+02   2.69030677e-02   1.26482639e-02   1.04193915e-05]\n",
      "[  2.71443394e+02   2.69030677e-02   1.26482637e-02   1.04193917e-05]\n",
      "[  2.71688485e+02   2.69102923e-02   1.24174612e-02   1.05133872e-05]\n",
      "[  2.71688489e+02   2.69102923e-02   1.24174612e-02   1.05133872e-05]\n",
      "[  2.71688485e+02   2.69102927e-02   1.24174612e-02   1.05133872e-05]\n",
      "[  2.71688485e+02   2.69102923e-02   1.24174614e-02   1.05133872e-05]\n",
      "[  2.71688485e+02   2.69102923e-02   1.24174612e-02   1.05133874e-05]\n",
      "[  2.71974560e+02   2.68276250e-02   1.22529331e-02   1.07500494e-05]\n",
      "[  2.71974564e+02   2.68276250e-02   1.22529331e-02   1.07500494e-05]\n",
      "[  2.71974560e+02   2.68276254e-02   1.22529331e-02   1.07500494e-05]\n",
      "[  2.71974560e+02   2.68276250e-02   1.22529333e-02   1.07500494e-05]\n",
      "[  2.71974560e+02   2.68276250e-02   1.22529331e-02   1.07500495e-05]\n",
      "[  2.71916725e+02   2.68195495e-02   1.22309975e-02   1.07540745e-05]\n",
      "[  2.71916729e+02   2.68195495e-02   1.22309975e-02   1.07540745e-05]\n",
      "[  2.71916725e+02   2.68195499e-02   1.22309975e-02   1.07540745e-05]\n",
      "[  2.71916725e+02   2.68195495e-02   1.22309977e-02   1.07540745e-05]\n",
      "[  2.71916725e+02   2.68195495e-02   1.22309975e-02   1.07540746e-05]\n",
      "[  2.71894408e+02   2.67752596e-02   1.22393398e-02   1.07668838e-05]\n",
      "[  2.71894412e+02   2.67752596e-02   1.22393398e-02   1.07668838e-05]\n",
      "[  2.71894408e+02   2.67752600e-02   1.22393398e-02   1.07668838e-05]\n",
      "[  2.71894408e+02   2.67752596e-02   1.22393400e-02   1.07668838e-05]\n",
      "[  2.71894408e+02   2.67752596e-02   1.22393398e-02   1.07668839e-05]\n",
      "[  2.71826676e+02   2.67986172e-02   1.22529366e-02   1.07630713e-05]\n",
      "[  2.71850427e+02   2.67865070e-02   1.22475593e-02   1.07650940e-05]\n",
      "[  2.71863586e+02   2.67806474e-02   1.22441265e-02   1.07660269e-05]\n",
      "[  2.71872854e+02   2.67773575e-02   1.22416217e-02   1.07664795e-05]\n",
      "[  2.71878370e+02   2.67758435e-02   1.22402195e-02   1.07666354e-05]\n",
      "[  2.71885871e+02   2.67749929e-02   1.22392554e-02   1.07667490e-05]\n",
      "[  2.71890163e+02   2.67751215e-02   1.22392925e-02   1.07668166e-05]\n",
      "[  2.71892289e+02   2.67751902e-02   1.22393157e-02   1.07668502e-05]\n",
      "[  2.71893246e+02   2.67752215e-02   1.22393265e-02   1.07668654e-05]\n",
      "[  2.71893881e+02   2.67752423e-02   1.22393337e-02   1.07668754e-05]\n",
      "[  2.71894140e+02   2.67752508e-02   1.22393367e-02   1.07668795e-05]\n",
      "[  2.71894273e+02   2.67752552e-02   1.22393383e-02   1.07668816e-05]\n",
      "[  2.71894342e+02   2.67752574e-02   1.22393390e-02   1.07668827e-05]\n",
      "[  2.71894376e+02   2.67752585e-02   1.22393394e-02   1.07668832e-05]\n",
      "[  2.71894393e+02   2.67752591e-02   1.22393396e-02   1.07668835e-05]\n",
      "[  2.71894401e+02   2.67752593e-02   1.22393397e-02   1.07668836e-05]\n"
     ]
    },
    {
     "data": {
      "text/plain": [
       "array([  2.71894408e+02,   2.67752596e-02,   1.22393398e-02,\n",
       "         1.07668838e-05])"
      ]
     },
     "execution_count": 186,
     "metadata": {},
     "output_type": "execute_result"
    }
   ],
   "source": [
    "args = (df.glucose,)\n",
    "popt, ier = leastsq(min_func, x0=params, args=args)\n",
    "popt"
   ]
  },
  {
   "cell_type": "code",
   "execution_count": 182,
   "metadata": {
    "collapsed": true
   },
   "outputs": [],
   "source": [
    "system = make_system(*popt)\n",
    "run_odeint(system, slope_func)"
   ]
  },
  {
   "cell_type": "code",
   "execution_count": 183,
   "metadata": {},
   "outputs": [
    {
     "data": {
      "image/png": "[encoded data removed]",
      "text/plain": [
       "<matplotlib.figure.Figure at 0x7ff48939f6a0>"
      ]
     },
     "metadata": {},
     "output_type": "display_data"
    }
   ],
   "source": [
    "plot(system.results.G)\n",
    "plot(df.glucose, style='bo')"
   ]
  },
  {
   "cell_type": "code",
   "execution_count": 176,
   "metadata": {},
   "outputs": [
    {
     "data": {
      "text/html": [
       "<div>\n",
       "<style>\n",
       "    .dataframe thead tr:only-child th {\n",
       "        text-align: right;\n",
       "    }\n",
       "\n",
       "    .dataframe thead th {\n",
       "        text-align: left;\n",
       "    }\n",
       "\n",
       "    .dataframe tbody tr th {\n",
       "        vertical-align: top;\n",
       "    }\n",
       "</style>\n",
       "<table border=\"1\" class=\"dataframe\">\n",
       "  <thead>\n",
       "    <tr style=\"text-align: right;\">\n",
       "      <th></th>\n",
       "      <th>value</th>\n",
       "    </tr>\n",
       "  </thead>\n",
       "  <tbody>\n",
       "    <tr>\n",
       "      <th>S_G</th>\n",
       "      <td>0.026775</td>\n",
       "    </tr>\n",
       "    <tr>\n",
       "      <th>S_I</th>\n",
       "      <td>0.000880</td>\n",
       "    </tr>\n",
       "  </tbody>\n",
       "</table>\n",
       "</div>"
      ],
      "text/plain": [
       "S_G    0.026775\n",
       "S_I    0.000880\n",
       "dtype: float64"
      ]
     },
     "execution_count": 176,
     "metadata": {},
     "output_type": "execute_result"
    }
   ],
   "source": [
    "indices(*x)"
   ]
  },
  {
   "cell_type": "code",
   "execution_count": null,
   "metadata": {
    "collapsed": true
   },
   "outputs": [],
   "source": []
  },
  {
   "cell_type": "code",
   "execution_count": null,
   "metadata": {
    "collapsed": true
   },
   "outputs": [],
   "source": []
  },
  {
   "cell_type": "markdown",
   "metadata": {},
   "source": [
    "**Exercise:**"
   ]
  },
  {
   "cell_type": "code",
   "execution_count": null,
   "metadata": {
    "collapsed": true
   },
   "outputs": [],
   "source": [
    "I0 = 363\n",
    "k = 0.267\n",
    "gamma = 0.0041\n",
    "G_T = 83.7"
   ]
  },
  {
   "cell_type": "code",
   "execution_count": null,
   "metadata": {},
   "outputs": [],
   "source": [
    "def make_system(I0, k, gamma, G_T):\n",
    "    init = State(I=I0)\n",
    "    system = System(init=init, k=k, gamma=gamma, G_T=G_T,\n",
    "                    G_interp = interpolate(df.glucose),\n",
    "                    t0=0, t_end=182)\n",
    "    return system"
   ]
  },
  {
   "cell_type": "code",
   "execution_count": null,
   "metadata": {},
   "outputs": [],
   "source": [
    "system = make_system(I0, k, gamma, G_T)\n",
    "system"
   ]
  },
  {
   "cell_type": "code",
   "execution_count": null,
   "metadata": {
    "collapsed": true
   },
   "outputs": [],
   "source": [
    "def slope_func(state, t, system):\n",
    "    I = state\n",
    "    unpack(system)\n",
    "    \n",
    "    G = G_interp(t)\n",
    "    if G > G_T:\n",
    "        dIdt = gamma * (G - G_T) * (t - t0) - k * I\n",
    "    else:\n",
    "        dIdt = -k * I\n",
    "    \n",
    "    return dIdt"
   ]
  },
  {
   "cell_type": "code",
   "execution_count": null,
   "metadata": {},
   "outputs": [],
   "source": [
    "slope_func(init, 0, system)"
   ]
  },
  {
   "cell_type": "code",
   "execution_count": null,
   "metadata": {
    "collapsed": true
   },
   "outputs": [],
   "source": [
    "def run_odeint(system, slope_func):\n",
    "    \"\"\"Runs a simulation of the system.\n",
    "    \n",
    "    Add a DataFrame to the System: results\n",
    "    \n",
    "    system: System object\n",
    "    slope_func: function that computes slopes\n",
    "    \"\"\"\n",
    "    unpack(system)\n",
    "\n",
    "    ts = df.index\n",
    "    args = system,\n",
    "    array = odeint(slope_func, init, ts, args)\n",
    "\n",
    "    system.results= TimeFrame(array, columns=init.index, index=ts)"
   ]
  },
  {
   "cell_type": "code",
   "execution_count": null,
   "metadata": {},
   "outputs": [],
   "source": [
    "run_odeint(system, slope_func)\n",
    "system.results"
   ]
  },
  {
   "cell_type": "code",
   "execution_count": null,
   "metadata": {},
   "outputs": [],
   "source": [
    "plot(system.results)\n",
    "plot(df.insulin)"
   ]
  },
  {
   "cell_type": "code",
   "execution_count": null,
   "metadata": {
    "collapsed": true
   },
   "outputs": [],
   "source": [
    "def min_func(ts, I0, k, gamma, G_T):\n",
    "    print(I0, k, gamma, G_T)\n",
    "    system = make_system(I0, k, gamma, G_T)\n",
    "    run_odeint(system, slope_func)\n",
    "    return system.results.I"
   ]
  },
  {
   "cell_type": "code",
   "execution_count": null,
   "metadata": {},
   "outputs": [],
   "source": [
    "min_func(ts, I0, k, gamma, G_T)"
   ]
  },
  {
   "cell_type": "code",
   "execution_count": null,
   "metadata": {},
   "outputs": [],
   "source": [
    "params = [I0, k, gamma, G_T]\n",
    "params"
   ]
  },
  {
   "cell_type": "code",
   "execution_count": null,
   "metadata": {},
   "outputs": [],
   "source": [
    "popt, pcov = curve_fit(min_func, df.insulin.index, df.insulin.values, p0=params)"
   ]
  },
  {
   "cell_type": "code",
   "execution_count": null,
   "metadata": {
    "collapsed": true
   },
   "outputs": [],
   "source": [
    "I0, k, gamma, G_T = popt"
   ]
  },
  {
   "cell_type": "code",
   "execution_count": null,
   "metadata": {
    "collapsed": true
   },
   "outputs": [],
   "source": [
    "system = make_system(*popt)"
   ]
  },
  {
   "cell_type": "code",
   "execution_count": null,
   "metadata": {
    "collapsed": true
   },
   "outputs": [],
   "source": [
    "run_odeint(system, slope_func)"
   ]
  },
  {
   "cell_type": "code",
   "execution_count": null,
   "metadata": {},
   "outputs": [],
   "source": [
    "plot(system.results)\n",
    "plot(df.insulin)"
   ]
  },
  {
   "cell_type": "code",
   "execution_count": null,
   "metadata": {},
   "outputs": [],
   "source": [
    "I_max = df.insulin.max()\n",
    "Ib = df.insulin[0]\n",
    "I_max, Ib"
   ]
  },
  {
   "cell_type": "code",
   "execution_count": null,
   "metadata": {},
   "outputs": [],
   "source": [
    "Gb = df.glucose[0]\n",
    "G0, Gb"
   ]
  },
  {
   "cell_type": "code",
   "execution_count": null,
   "metadata": {},
   "outputs": [],
   "source": [
    "phi_1 = (I_max - Ib) / k / (G0 - Gb)\n",
    "phi_1"
   ]
  },
  {
   "cell_type": "code",
   "execution_count": null,
   "metadata": {},
   "outputs": [],
   "source": [
    "phi_2 = gamma * 1e4\n",
    "phi_2"
   ]
  },
  {
   "cell_type": "code",
   "execution_count": null,
   "metadata": {
    "collapsed": true
   },
   "outputs": [],
   "source": []
  }
 ],
 "metadata": {
  "kernelspec": {
   "display_name": "Python 3",
   "language": "python",
   "name": "python3"
  },
  "language_info": {
   "codemirror_mode": {
    "name": "ipython",
    "version": 3
   },
   "file_extension": ".py",
   "mimetype": "text/x-python",
   "name": "python",
   "nbconvert_exporter": "python",
   "pygments_lexer": "ipython3",
   "version": "3.6.1"
  }
 },
 "nbformat": 4,
 "nbformat_minor": 1
}
